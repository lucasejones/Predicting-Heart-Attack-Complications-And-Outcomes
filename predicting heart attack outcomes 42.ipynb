{
 "cells": [
  {
   "cell_type": "markdown",
   "id": "37710540",
   "metadata": {},
   "source": [
    "# Predicting Heart Attack Outcomes"
   ]
  },
  {
   "cell_type": "markdown",
   "id": "4ade1b7c",
   "metadata": {},
   "source": [
    "## Table Of Contents\n",
    "\n",
    "### [1. Introduction](#Introduction)\n",
    "   - [1.1 Description of the Goal](#Description_of_the_goal)\n",
    "   - [1.2 Reading in the Dataset](#Reading_in_the_dataset)\n",
    "   - [1.3 Strategy](#Strategy)\n",
    "    \n",
    "### [2. Cleaning the Data](#Cleaning_the_data)\n",
    "   - [2.1 Renaming Columns](#Renaming_columns)\n",
    "   - [2.2 Deciding on the Target](#Deciding_on_the_target)\n",
    "       - [2.2.1 Exploratory Visualization](#Exploratory_visualization)\n",
    "   - [2.3 General Formatting](#General_formatting)\n",
    "   - [2.4 Removing Columns With Only 1 Unique Value](#Removing_columns_with_only_1_unique_value)\n",
    "    \n",
    "### [3. Feature Preparation](#Feature_preparation)\n",
    "   - [3.1 Addressing Missing Values](#Addressing_missing_values)\n",
    "       - [3.1.1 Understanding Remaining Missing Values](#Understanding_remaining_missing_values)\n",
    "       - [3.1.2 Visualizing Patterns With Seaborn](#Visualizing_patterns_with_seaborn)\n",
    "       - [3.1.3 Imputation](#Imputation)\n",
    "   - [3.2 Feature Engineering](#Feature_engineering)\n",
    "       - [3.2.1 Separating Into Categorical, Numerical, and Admissions-only Features](#Separating_into_categorical,_numerical,_and_admissions-only_features)\n",
    "       - [3.2.2 Creation of New Columns](#Creation_of_new_columns)\n",
    "           - [3.2.2.1 Categorical One-Hot Encoding](#Categorical_one-hot_encoding)\n",
    "           - [3.2.2.2 Real Binning](#Real_binning)\n",
    "           - [3.2.2.3 Real One-Hot Encoding](#Real_one-hot_encoding)\n",
    "           - [3.2.2.4 Admissions One-Hot Encoding](#Admissions_one-hot_encoding)\n",
    "       - [3.2.3 Combining Categorical and Real Data](#Combining_categorical_and_real_data)\n",
    "   - [3.3 Feature Selection](#Feature_selection)\n",
    "       - [3.3.1 Day Three Feature Selection](#Day_three_feature_selection)\n",
    "       - [3.3.2 Admission Feature Selection](#Admission_feature_selection)\n",
    "       - [3.3.3 Optional Chi Squared testing](#Optional_chi_squared_testing)\n",
    "\n",
    "### [4. Modelling](#Modelling)\n",
    "   - [4.1 Preliminary Linear Regression](#Preliminary_linear_regression)\n",
    "   - [4.2 Nonlinear Regression](#Nonlinear_regression)\n",
    "   - [4.3 Model Selection and Hyperparameter Tuning](#Model_selection_and_hyperparameter_tuning)\n",
    "   - [4.4 Visualizing the Best-Performing Models](#Visualizing_the_best-performing_models)\n",
    "       - [4.4.1 Plotting Variance for Linear Model](#Plotting_variance_for_linear_model)\n",
    "       - [4.4.2 Plotting Variances for Nonlinear Models](#Plotting_variances_for_nonlinear_models)\n",
    "       \n",
    "   \n",
    "### [5. Conclusion](#Conclusion)\n",
    "\n"
   ]
  },
  {
   "cell_type": "markdown",
   "id": "375c093d",
   "metadata": {},
   "source": [
    "<a id='Introduction'></a>"
   ]
  },
  {
   "cell_type": "markdown",
   "id": "9705b88a",
   "metadata": {},
   "source": [
    "# 1. Introduction"
   ]
  },
  {
   "cell_type": "markdown",
   "id": "040e7d9e",
   "metadata": {},
   "source": [
    "<a id=\"Description_of_the_goal\"></a>"
   ]
  },
  {
   "cell_type": "markdown",
   "id": "313e1137",
   "metadata": {},
   "source": [
    "## 1.1 Description of the Goal"
   ]
  },
  {
   "cell_type": "markdown",
   "id": "4c9d6d67",
   "metadata": {},
   "source": [
    "Welcome to this notebook! Our goal is to accurately predict what will happen to someone who has been hospitalized from having a heart attack. \n",
    "\n",
    "As noted in the dataset's description, the prediction of complications from myocardial infarction (heart attack) is both historically challenging and important. Specialists can struggle to accurately predict the development and severity of these complications, leading to worse health, or even death. If we could understand more about the relationships between past patients and the outcomes of their heart attacks, then in theory we could make medical decisions for new patients that anticipate, and hopefully avoid, future suffering. \n",
    "\n",
    "The dataset we'll be working with was created by individuals from the Krasnoyarsk State Medical University in Russia, and University of Leicester in England. \n",
    "\n",
    "It's worth noting that the patients in this dataset are not a representative sample of the global population, but a 1700-person large sample from 1992-1995 from one location. If we had data about other demographics at other times, we may have a more generalized understanding of heart attack outcomes, but we can still continue with this distinction in mind. \n",
    "\n",
    "The full dataset and dataset description retrieved from the UCI Machine Learning Repository can be found [here](https://archive.ics.uci.edu/ml/datasets/Myocardial+infarction+complications)."
   ]
  },
  {
   "cell_type": "markdown",
   "id": "71454558",
   "metadata": {},
   "source": [
    "<a id=\"Reading_in_the_dataset\"></a>"
   ]
  },
  {
   "cell_type": "markdown",
   "id": "63fbcd14",
   "metadata": {},
   "source": [
    "## 1.2 Reading in the Dataset"
   ]
  },
  {
   "cell_type": "markdown",
   "id": "416acc15",
   "metadata": {},
   "source": [
    "To begin, we'll import the main libraries we'll use for our analysis, along with the dataset itself. Once we've converted this from a .csv file into a dataframe object using the pandas library, we'll see the first five rows of the dataset to get an initial look at our starting data."
   ]
  },
  {
   "cell_type": "code",
   "execution_count": 1,
   "id": "029673bd",
   "metadata": {},
   "outputs": [],
   "source": [
    "import pandas as pd\n",
    "import numpy as np\n",
    "import matplotlib.pyplot as plt"
   ]
  },
  {
   "cell_type": "code",
   "execution_count": 2,
   "id": "c1504c9e",
   "metadata": {},
   "outputs": [],
   "source": [
    "data = pd.read_csv('MI.data', index_col=None, header=None)"
   ]
  },
  {
   "cell_type": "code",
   "execution_count": 3,
   "id": "a3743288",
   "metadata": {},
   "outputs": [
    {
     "data": {
      "text/html": [
       "<div>\n",
       "<style scoped>\n",
       "    .dataframe tbody tr th:only-of-type {\n",
       "        vertical-align: middle;\n",
       "    }\n",
       "\n",
       "    .dataframe tbody tr th {\n",
       "        vertical-align: top;\n",
       "    }\n",
       "\n",
       "    .dataframe thead th {\n",
       "        text-align: right;\n",
       "    }\n",
       "</style>\n",
       "<table border=\"1\" class=\"dataframe\">\n",
       "  <thead>\n",
       "    <tr style=\"text-align: right;\">\n",
       "      <th></th>\n",
       "      <th>0</th>\n",
       "      <th>1</th>\n",
       "      <th>2</th>\n",
       "      <th>3</th>\n",
       "      <th>4</th>\n",
       "      <th>5</th>\n",
       "      <th>6</th>\n",
       "      <th>7</th>\n",
       "      <th>8</th>\n",
       "      <th>9</th>\n",
       "      <th>...</th>\n",
       "      <th>114</th>\n",
       "      <th>115</th>\n",
       "      <th>116</th>\n",
       "      <th>117</th>\n",
       "      <th>118</th>\n",
       "      <th>119</th>\n",
       "      <th>120</th>\n",
       "      <th>121</th>\n",
       "      <th>122</th>\n",
       "      <th>123</th>\n",
       "    </tr>\n",
       "  </thead>\n",
       "  <tbody>\n",
       "    <tr>\n",
       "      <th>0</th>\n",
       "      <td>1</td>\n",
       "      <td>77</td>\n",
       "      <td>1</td>\n",
       "      <td>2</td>\n",
       "      <td>1</td>\n",
       "      <td>1</td>\n",
       "      <td>2</td>\n",
       "      <td>?</td>\n",
       "      <td>3</td>\n",
       "      <td>0</td>\n",
       "      <td>...</td>\n",
       "      <td>0</td>\n",
       "      <td>0</td>\n",
       "      <td>0</td>\n",
       "      <td>0</td>\n",
       "      <td>0</td>\n",
       "      <td>0</td>\n",
       "      <td>0</td>\n",
       "      <td>0</td>\n",
       "      <td>0</td>\n",
       "      <td>0</td>\n",
       "    </tr>\n",
       "    <tr>\n",
       "      <th>1</th>\n",
       "      <td>2</td>\n",
       "      <td>55</td>\n",
       "      <td>1</td>\n",
       "      <td>1</td>\n",
       "      <td>0</td>\n",
       "      <td>0</td>\n",
       "      <td>0</td>\n",
       "      <td>0</td>\n",
       "      <td>0</td>\n",
       "      <td>0</td>\n",
       "      <td>...</td>\n",
       "      <td>0</td>\n",
       "      <td>0</td>\n",
       "      <td>0</td>\n",
       "      <td>0</td>\n",
       "      <td>0</td>\n",
       "      <td>0</td>\n",
       "      <td>0</td>\n",
       "      <td>0</td>\n",
       "      <td>0</td>\n",
       "      <td>0</td>\n",
       "    </tr>\n",
       "    <tr>\n",
       "      <th>2</th>\n",
       "      <td>3</td>\n",
       "      <td>52</td>\n",
       "      <td>1</td>\n",
       "      <td>0</td>\n",
       "      <td>0</td>\n",
       "      <td>0</td>\n",
       "      <td>2</td>\n",
       "      <td>?</td>\n",
       "      <td>2</td>\n",
       "      <td>0</td>\n",
       "      <td>...</td>\n",
       "      <td>0</td>\n",
       "      <td>0</td>\n",
       "      <td>0</td>\n",
       "      <td>0</td>\n",
       "      <td>0</td>\n",
       "      <td>0</td>\n",
       "      <td>0</td>\n",
       "      <td>0</td>\n",
       "      <td>0</td>\n",
       "      <td>0</td>\n",
       "    </tr>\n",
       "    <tr>\n",
       "      <th>3</th>\n",
       "      <td>4</td>\n",
       "      <td>68</td>\n",
       "      <td>0</td>\n",
       "      <td>0</td>\n",
       "      <td>0</td>\n",
       "      <td>0</td>\n",
       "      <td>2</td>\n",
       "      <td>?</td>\n",
       "      <td>2</td>\n",
       "      <td>0</td>\n",
       "      <td>...</td>\n",
       "      <td>0</td>\n",
       "      <td>0</td>\n",
       "      <td>0</td>\n",
       "      <td>0</td>\n",
       "      <td>0</td>\n",
       "      <td>0</td>\n",
       "      <td>1</td>\n",
       "      <td>0</td>\n",
       "      <td>0</td>\n",
       "      <td>0</td>\n",
       "    </tr>\n",
       "    <tr>\n",
       "      <th>4</th>\n",
       "      <td>5</td>\n",
       "      <td>60</td>\n",
       "      <td>1</td>\n",
       "      <td>0</td>\n",
       "      <td>0</td>\n",
       "      <td>0</td>\n",
       "      <td>2</td>\n",
       "      <td>?</td>\n",
       "      <td>3</td>\n",
       "      <td>0</td>\n",
       "      <td>...</td>\n",
       "      <td>0</td>\n",
       "      <td>0</td>\n",
       "      <td>0</td>\n",
       "      <td>0</td>\n",
       "      <td>0</td>\n",
       "      <td>0</td>\n",
       "      <td>0</td>\n",
       "      <td>0</td>\n",
       "      <td>0</td>\n",
       "      <td>0</td>\n",
       "    </tr>\n",
       "  </tbody>\n",
       "</table>\n",
       "<p>5 rows × 124 columns</p>\n",
       "</div>"
      ],
      "text/plain": [
       "   0   1    2   3   4   5   6   7   8   9    ... 114 115 116 117 118 119 120  \\\n",
       "0    1  77    1   2   1   1   2   ?   3   0  ...   0   0   0   0   0   0   0   \n",
       "1    2  55    1   1   0   0   0   0   0   0  ...   0   0   0   0   0   0   0   \n",
       "2    3  52    1   0   0   0   2   ?   2   0  ...   0   0   0   0   0   0   0   \n",
       "3    4  68    0   0   0   0   2   ?   2   0  ...   0   0   0   0   0   0   1   \n",
       "4    5  60    1   0   0   0   2   ?   3   0  ...   0   0   0   0   0   0   0   \n",
       "\n",
       "  121 122 123  \n",
       "0   0   0   0  \n",
       "1   0   0   0  \n",
       "2   0   0   0  \n",
       "3   0   0   0  \n",
       "4   0   0   0  \n",
       "\n",
       "[5 rows x 124 columns]"
      ]
     },
     "execution_count": 3,
     "metadata": {},
     "output_type": "execute_result"
    }
   ],
   "source": [
    "data.head()"
   ]
  },
  {
   "cell_type": "code",
   "execution_count": 4,
   "id": "5085b543",
   "metadata": {},
   "outputs": [
    {
     "name": "stdout",
     "output_type": "stream",
     "text": [
      "<class 'pandas.core.frame.DataFrame'>\n",
      "RangeIndex: 1700 entries, 0 to 1699\n",
      "Columns: 124 entries, 0 to 123\n",
      "dtypes: int64(14), object(110)\n",
      "memory usage: 1.6+ MB\n"
     ]
    }
   ],
   "source": [
    "data.info()"
   ]
  },
  {
   "cell_type": "code",
   "execution_count": 5,
   "id": "969942d3",
   "metadata": {},
   "outputs": [
    {
     "name": "stdout",
     "output_type": "stream",
     "text": [
      "Number of rows: 1700\n",
      "Number of columns: 124\n"
     ]
    }
   ],
   "source": [
    "print('Number of rows:', data.shape[0])\n",
    "print('Number of columns:', data.shape[1])"
   ]
  },
  {
   "cell_type": "markdown",
   "id": "8380c601",
   "metadata": {},
   "source": [
    "<a id=\"Strategy\"></a>"
   ]
  },
  {
   "cell_type": "markdown",
   "id": "0654561c",
   "metadata": {},
   "source": [
    "## 1.3 Strategy\n",
    "\n",
    "Looking at the big picture view, there are three major categories of work we'll focus on in order to succesfully understand and predict information based on this dataset. \n",
    "\n",
    "__1. Cleaning the Data__: This involves foundational tasks like formatting the data and determining the exact question we'd like to answer. Here we can also create some visual representations to help us understand the numbers behind this question.\n",
    "    \n",
    "    \n",
    "__2. Feature Preparation__: This is the bridge between our formatted data and the modelling process. We'll cover a lot of ground here, including dealing with missing values, creating new features, and using correlations to identify features to use as inputs for our models. \n",
    "\n",
    "\n",
    "__3. Modelling__: This is the fun part! We'll build multiple models using different algorithms that predict outcomes based on the features we've selected. In this section, we'll not only go through the optimized selection of these models, but we'll also discover the optimal parameters for each one. Finally, determining the success based on various error metrics and visually identifying how well the model performs on unseen data will give us confidence for using this in real life.\n",
    "\n",
    "\n"
   ]
  },
  {
   "cell_type": "markdown",
   "id": "d79c1027",
   "metadata": {},
   "source": [
    "<a id='Cleaning_the_data'></a>"
   ]
  },
  {
   "cell_type": "markdown",
   "id": "ae5f2a8f",
   "metadata": {},
   "source": [
    "# 2. Cleaning the Data\n",
    "\n",
    "Let's get started! We'll begin the data cleaning process here. To do this, there are 4 steps we'll take:\n",
    "\n",
    "1. Rename the columns \n",
    "2. Decide on target for modeling \n",
    "3. General formatting \n",
    "4. Remove columns with only 1 unique value\n"
   ]
  },
  {
   "cell_type": "markdown",
   "id": "530fe1af",
   "metadata": {},
   "source": [
    "<a id='Renaming_columns'></a>"
   ]
  },
  {
   "cell_type": "markdown",
   "id": "14bca2f6",
   "metadata": {},
   "source": [
    "## 2.1 Renaming Columns"
   ]
  },
  {
   "cell_type": "markdown",
   "id": "d5bb5fd7",
   "metadata": {},
   "source": [
    "Currently, each column is numbered from 0 to 123. It would be nicer to work with this data if we knew what each column represented. \n",
    "\n",
    "We'll consult the data description from the link above to manually create concise but descriptive column names for each column in the dataset. Then, we'll replace the current nondescriptive numbers with these names."
   ]
  },
  {
   "cell_type": "code",
   "execution_count": 6,
   "id": "1f48d2e2",
   "metadata": {},
   "outputs": [],
   "source": [
    "renamed = [\n",
    "     'ID', 'Age', 'Sex', 'num_MI_in_anam', 'exertional_angina_pectoris_in_anam', \n",
    "     'functional_class_of_angina_pectoris_in_last_year', 'CHD_in_recent_weeks', 'heredity_on_CHD', 'essential_hypertension', 'symptomatic_hypertension',\n",
    "     'duration_of_arterial_hypertension', 'chronic_heart_failure_in_anam', 'arrhythmia_in_anam', 'premature_atrial_contractions_in_anam', 'premature_ventricular_contractions_in_anam',\n",
    "     'paroxysms_of_atrial_fibrillation_in_anam', 'persistent_form_of_atrial_fibrillation_in_anam', 'ventricular_fibrillation_in_anam', 'ventricular_paaroxysmal_tachycardia_in_anam', 'first_degree_AV_block_in_anam',\n",
    "     'third_degree_AV_block_in_anam', 'LBBB_anterior_in_anam', 'incomplete_LBBB_in_anam', 'complete_LBBB_in_anam', 'incomplete_RBBB_in_anam',\n",
    "     'complete_RBBB_in_anam', 'diabetes_in_anam', 'obesity_in_anam', 'thyrotoxicosis_in_anam', 'chronic_bronchitis_in_anam',\n",
    "     'obstructive_chronic_bronchitis_in_anam', 'bronchial_asthma_in_anam', 'chronic_pneumonia_in_anam', 'pulmonary_tuberculosis_in_anam', 'systolic_blood_pressure_by_emergency_cardiology_team_in_mmHg',\n",
    "     'diastolic_blood_pressure_by_emergency_cardiology_team_in_mmHg', 'systolic_blood_pressure_by_ICU_in_mmHg', 'diastolic_blood_pressure_by_ICU_in_mmHg', 'pulmonary_edema_at_admission_to_ICU', 'cardiogenic_shock_at_admission_to_ICU',\n",
    "     'paroxysms_of_atrial_fibrillation_at_admission_to_ICU', 'paroxysms_of_supraventricular_techycardia_at_admission_to_ICU', 'paroxysms_of_ventricular_tachycardia_at_admission_to_ICU', 'ventricular_fibrillation_at_admission_to_ICU', 'presence_of_anterior_MI_by_ECG',\n",
    "     'presence_of_lateral_MI_by_ECG', 'presence_of_inferior_MI_by_ECG', 'presence_of_posterior_MI_by_ECG', 'presence_of_right_ventricular_MI', 'sinus_ECG_rhythm_at_admission_with_HR_60-90',\n",
    "     'atrial_fibrillation_ECG_rhythm_at_admission', 'atrial_ECG_rhythm_at_admission', 'idioventricular_fibrillation_ECG_rhythm_at_admission', 'sinus_ECG_rhythm_at_admission_with_HR_above_90', 'sinus_ECG_rhythm_at_admission_with_HR_below_60', \n",
    "     'premature_atrial_contractions_on_ECG_at_admission', 'frequent_premature_atrial_contractions_on_ECG_at_admission', 'premature_ventricular_contractions_on_ECG_at_admission', 'frequent_premature_ventricular_contractions_on_ECG_at_admission', 'paroxysms_of_atrial_fibrillation_on_ECG_at_admission',\n",
    "     'persistent_form_of_atrial_fibrillation_on_ECG_at_admission', 'paroxysms_of_supraventricular_tachycardia_on_ECG_at_admission', 'paroxysms_of_ventricular_tachycardia_on_ECG_at_admission', 'ventricular_fibrillation_on_ECG_at_admission', 'sinoatrial_block_on_ECG_at_admission',\n",
    "     'first_degree_AV_block_on_ECG_at_admission', 'type_1_second_degree_AV_block_on_ECG_at_admission', 'type_2_second_degree_AV_block_on_ECG_at_admission', 'third_degree_AV_block_on_ECG_at_admission', 'LBBB_anterior_branch_on_ECG_at_admission', \n",
    "     'LBBB_posterior_branch_on_ECG_at_admission', 'incomplete_LBBB_on_ECG_at_admission', 'complete_LBBB_on_ECG_at_admission', 'incomplete_RBBB_on_ECG_at_admission', 'complete_RBBB_on_ECG_at_admission',\n",
    "     'fibrinolytic_therapy_750k_IU', 'fibrinolytic_therapy_1m_IU', 'fibrinolytic_therapy_3m_IU', 'fibrinolytic_therapy_by_streptase', 'fibrinolytic_therapy_500k_IU', \n",
    "     'fibrinolytic_therapy_250k_IU', 'fibrinolytic_therapy_by_streptodecase_1.5m_IU', 'hypokalemia', 'serum_potassium_content', 'increase_of_sodium_in_serum',\n",
    "     'serum_sodium_content', 'serum_AlAT_content', 'serum_AsAT_content', 'serum_CPK_content', 'white_blood_cell_count_in_billions_per_liter', \n",
    "     'erythrocyte_sedimentation_rate', 'time_from_beginning_of_attack_of_CHD_to_hospital', 'relapse_of_pain_in_first_hours_of_hospital_period', 'relapse_of_pain_in_second_day_of_hospital_period', 'relapse_of_pain_in_third_day_of_hospital_period',\n",
    "     'use_of_opioid_drugs_by_emergency_cardiology_team', 'use_of_NSAIDs_by_emergency_cardiology_team', 'use_of_lidocaine_by_emergency_cardiology_team', 'use_of_liquid_nitrates_in_ICU', 'use_of_opioid_drugs_in_ICU_in_first_hours_of_hospital_period',\n",
    "     'use_of_opioid_drugs_in_ICU_in_second_day_of_hospital_period', 'use_of_opioid_drugs_in_ICU_in_third_day_of_hospital_period', 'use_of_NSAIDs_in_ICU_in_first_hours_of_hospital_period', 'use_of_NSAIDs_in_ICU_in_second_day_of_hospital_period', 'use_of_NSAIDs_in_ICU_in_third_day_of_hospital_period',\n",
    "     'use_of_lidocaine_in_ICU', 'use_of_beta-blockers_in_ICU', 'use_of_calcium_channel_blockers_in_ICU', 'use_of_heparin_in_ICU', 'use_of_acetylsalicylic_acid_in_ICU', \n",
    "     'use_of_ticlid_in_ICU', 'use_of_trental_in_ICU', 'atrial_fibrillation', 'supraventricular_tachycardia', 'ventricular_tachycardia',\n",
    "     'ventricular_fibrillation', 'third_degree_AV_block', 'pulmonary_edema', 'myocardial_rupture', 'dressler_syndrome', \n",
    "     'chronic_heart_failure', 'relapse_of_MI', 'post_infarction_angina', 'lethal_outcome'\n",
    "]"
   ]
  },
  {
   "cell_type": "code",
   "execution_count": 7,
   "id": "940b74ba",
   "metadata": {},
   "outputs": [],
   "source": [
    "new_col_names_dict = {}\n",
    "for i, j in zip(data.columns, renamed):\n",
    "    new_col_names_dict[i] = j\n"
   ]
  },
  {
   "cell_type": "code",
   "execution_count": 8,
   "id": "5e7a2818",
   "metadata": {},
   "outputs": [],
   "source": [
    "data = data.rename(columns = new_col_names_dict)"
   ]
  },
  {
   "cell_type": "code",
   "execution_count": 9,
   "id": "0f89ac72",
   "metadata": {},
   "outputs": [
    {
     "data": {
      "text/html": [
       "<div>\n",
       "<style scoped>\n",
       "    .dataframe tbody tr th:only-of-type {\n",
       "        vertical-align: middle;\n",
       "    }\n",
       "\n",
       "    .dataframe tbody tr th {\n",
       "        vertical-align: top;\n",
       "    }\n",
       "\n",
       "    .dataframe thead th {\n",
       "        text-align: right;\n",
       "    }\n",
       "</style>\n",
       "<table border=\"1\" class=\"dataframe\">\n",
       "  <thead>\n",
       "    <tr style=\"text-align: right;\">\n",
       "      <th></th>\n",
       "      <th>ID</th>\n",
       "      <th>Age</th>\n",
       "      <th>Sex</th>\n",
       "      <th>num_MI_in_anam</th>\n",
       "      <th>exertional_angina_pectoris_in_anam</th>\n",
       "      <th>functional_class_of_angina_pectoris_in_last_year</th>\n",
       "      <th>CHD_in_recent_weeks</th>\n",
       "      <th>heredity_on_CHD</th>\n",
       "      <th>essential_hypertension</th>\n",
       "      <th>symptomatic_hypertension</th>\n",
       "      <th>...</th>\n",
       "      <th>ventricular_tachycardia</th>\n",
       "      <th>ventricular_fibrillation</th>\n",
       "      <th>third_degree_AV_block</th>\n",
       "      <th>pulmonary_edema</th>\n",
       "      <th>myocardial_rupture</th>\n",
       "      <th>dressler_syndrome</th>\n",
       "      <th>chronic_heart_failure</th>\n",
       "      <th>relapse_of_MI</th>\n",
       "      <th>post_infarction_angina</th>\n",
       "      <th>lethal_outcome</th>\n",
       "    </tr>\n",
       "  </thead>\n",
       "  <tbody>\n",
       "    <tr>\n",
       "      <th>0</th>\n",
       "      <td>1</td>\n",
       "      <td>77</td>\n",
       "      <td>1</td>\n",
       "      <td>2</td>\n",
       "      <td>1</td>\n",
       "      <td>1</td>\n",
       "      <td>2</td>\n",
       "      <td>?</td>\n",
       "      <td>3</td>\n",
       "      <td>0</td>\n",
       "      <td>...</td>\n",
       "      <td>0</td>\n",
       "      <td>0</td>\n",
       "      <td>0</td>\n",
       "      <td>0</td>\n",
       "      <td>0</td>\n",
       "      <td>0</td>\n",
       "      <td>0</td>\n",
       "      <td>0</td>\n",
       "      <td>0</td>\n",
       "      <td>0</td>\n",
       "    </tr>\n",
       "    <tr>\n",
       "      <th>1</th>\n",
       "      <td>2</td>\n",
       "      <td>55</td>\n",
       "      <td>1</td>\n",
       "      <td>1</td>\n",
       "      <td>0</td>\n",
       "      <td>0</td>\n",
       "      <td>0</td>\n",
       "      <td>0</td>\n",
       "      <td>0</td>\n",
       "      <td>0</td>\n",
       "      <td>...</td>\n",
       "      <td>0</td>\n",
       "      <td>0</td>\n",
       "      <td>0</td>\n",
       "      <td>0</td>\n",
       "      <td>0</td>\n",
       "      <td>0</td>\n",
       "      <td>0</td>\n",
       "      <td>0</td>\n",
       "      <td>0</td>\n",
       "      <td>0</td>\n",
       "    </tr>\n",
       "    <tr>\n",
       "      <th>2</th>\n",
       "      <td>3</td>\n",
       "      <td>52</td>\n",
       "      <td>1</td>\n",
       "      <td>0</td>\n",
       "      <td>0</td>\n",
       "      <td>0</td>\n",
       "      <td>2</td>\n",
       "      <td>?</td>\n",
       "      <td>2</td>\n",
       "      <td>0</td>\n",
       "      <td>...</td>\n",
       "      <td>0</td>\n",
       "      <td>0</td>\n",
       "      <td>0</td>\n",
       "      <td>0</td>\n",
       "      <td>0</td>\n",
       "      <td>0</td>\n",
       "      <td>0</td>\n",
       "      <td>0</td>\n",
       "      <td>0</td>\n",
       "      <td>0</td>\n",
       "    </tr>\n",
       "    <tr>\n",
       "      <th>3</th>\n",
       "      <td>4</td>\n",
       "      <td>68</td>\n",
       "      <td>0</td>\n",
       "      <td>0</td>\n",
       "      <td>0</td>\n",
       "      <td>0</td>\n",
       "      <td>2</td>\n",
       "      <td>?</td>\n",
       "      <td>2</td>\n",
       "      <td>0</td>\n",
       "      <td>...</td>\n",
       "      <td>0</td>\n",
       "      <td>0</td>\n",
       "      <td>0</td>\n",
       "      <td>0</td>\n",
       "      <td>0</td>\n",
       "      <td>0</td>\n",
       "      <td>1</td>\n",
       "      <td>0</td>\n",
       "      <td>0</td>\n",
       "      <td>0</td>\n",
       "    </tr>\n",
       "    <tr>\n",
       "      <th>4</th>\n",
       "      <td>5</td>\n",
       "      <td>60</td>\n",
       "      <td>1</td>\n",
       "      <td>0</td>\n",
       "      <td>0</td>\n",
       "      <td>0</td>\n",
       "      <td>2</td>\n",
       "      <td>?</td>\n",
       "      <td>3</td>\n",
       "      <td>0</td>\n",
       "      <td>...</td>\n",
       "      <td>0</td>\n",
       "      <td>0</td>\n",
       "      <td>0</td>\n",
       "      <td>0</td>\n",
       "      <td>0</td>\n",
       "      <td>0</td>\n",
       "      <td>0</td>\n",
       "      <td>0</td>\n",
       "      <td>0</td>\n",
       "      <td>0</td>\n",
       "    </tr>\n",
       "  </tbody>\n",
       "</table>\n",
       "<p>5 rows × 124 columns</p>\n",
       "</div>"
      ],
      "text/plain": [
       "   ID Age  Sex num_MI_in_anam exertional_angina_pectoris_in_anam  \\\n",
       "0   1  77    1              2                                  1   \n",
       "1   2  55    1              1                                  0   \n",
       "2   3  52    1              0                                  0   \n",
       "3   4  68    0              0                                  0   \n",
       "4   5  60    1              0                                  0   \n",
       "\n",
       "  functional_class_of_angina_pectoris_in_last_year CHD_in_recent_weeks  \\\n",
       "0                                                1                   2   \n",
       "1                                                0                   0   \n",
       "2                                                0                   2   \n",
       "3                                                0                   2   \n",
       "4                                                0                   2   \n",
       "\n",
       "  heredity_on_CHD essential_hypertension symptomatic_hypertension  ...  \\\n",
       "0               ?                      3                        0  ...   \n",
       "1               0                      0                        0  ...   \n",
       "2               ?                      2                        0  ...   \n",
       "3               ?                      2                        0  ...   \n",
       "4               ?                      3                        0  ...   \n",
       "\n",
       "  ventricular_tachycardia ventricular_fibrillation third_degree_AV_block  \\\n",
       "0                       0                        0                     0   \n",
       "1                       0                        0                     0   \n",
       "2                       0                        0                     0   \n",
       "3                       0                        0                     0   \n",
       "4                       0                        0                     0   \n",
       "\n",
       "  pulmonary_edema myocardial_rupture dressler_syndrome chronic_heart_failure  \\\n",
       "0               0                  0                 0                     0   \n",
       "1               0                  0                 0                     0   \n",
       "2               0                  0                 0                     0   \n",
       "3               0                  0                 0                     1   \n",
       "4               0                  0                 0                     0   \n",
       "\n",
       "  relapse_of_MI post_infarction_angina lethal_outcome  \n",
       "0             0                      0              0  \n",
       "1             0                      0              0  \n",
       "2             0                      0              0  \n",
       "3             0                      0              0  \n",
       "4             0                      0              0  \n",
       "\n",
       "[5 rows x 124 columns]"
      ]
     },
     "execution_count": 9,
     "metadata": {},
     "output_type": "execute_result"
    }
   ],
   "source": [
    "data.head()"
   ]
  },
  {
   "cell_type": "markdown",
   "id": "1514ea4a",
   "metadata": {},
   "source": [
    "<a id='Deciding_on_the_target'></a>"
   ]
  },
  {
   "cell_type": "markdown",
   "id": "c4271797",
   "metadata": {},
   "source": [
    "## 2.2 Deciding on the Target\n",
    "\n",
    "Generally speaking, we want to determine the likelihood of complications and outcomes for a given patient.\n",
    "\n",
    "Columns 113 to 123 provide true or false responses for whether a given complication exists for that patient.\n",
    "column 124, lethal outcome, provides 7 causes of death (and one additional category for survival). This gives us 11 complications, 7 causes of death, and 1 scenario in which the patient survives. \n",
    "\n",
    "Because there are 19 potential targets, we have a few options. We can:\n",
    "1. predict survival vs. any cause of death\n",
    "2. predict the number of any complications\n",
    "3. predict each specific cause of death as its own target\n",
    "4. predict each specific complication as its own target\n",
    "\n",
    "Options 1 and 3 deal exclusively with survival and causes of death, while options 2 and 4 deal with complications. The thrust of this dataset's creators seems to be to use patient information to better predict complications, not just whether the patient will die. So, while interesting and potentially useful in another setting, let's eliminate options 1 and 3 for the scope of this project. \n",
    "\n",
    "__Let's focus on number 2: predicting how many complications a patient will experience.__ This will be more broadly focused than the specific complications option, but it will likely turn up useful information nonetheless that could help guide a physician to certain care strategies over others. Additionally, we would likely need more data available to analyze the problem with the level of granularity contained in option 4. Because the most benefit will be gained by combining patient information with the prediction of any complication in their future, this will be our target for this project.  \n",
    "\n",
    "To do this, we'll group all possible complications together as a new column in the dataframe which we'll call \"target\". \n",
    "\n",
    "Because we want to determine the number of complications, we'll frame this as a regression problem, rather than a classification problem. We're predicting the integer values of complications, not assigning labels to the values (as we would if instead we were looking at the likelihood of complications vs no complications). That said, this is a bit of a flexible scenario, where you could argue that the \"classes\" are those same integer values. For the sake of determining how many complications a patient may experience, we'll move forward with regression. (get the joke? moving forward with regression? :) )\n",
    "\n",
    "\n",
    "A secondary goal we can pursue is to predict the number of complications for a patient based on two different times. One time would be if they've just been admitted to the hospital, and the other woud be if they've been there for three days. Having this prediction available at different treatment stages may prove useful in a real setting. \n"
   ]
  },
  {
   "cell_type": "code",
   "execution_count": 10,
   "id": "96522933",
   "metadata": {},
   "outputs": [],
   "source": [
    "target_columns = [\n",
    "    'atrial_fibrillation', 'supraventricular_tachycardia', 'ventricular_tachycardia',\n",
    "    'ventricular_fibrillation', 'third_degree_AV_block', 'pulmonary_edema', \n",
    "    'myocardial_rupture', 'dressler_syndrome', 'chronic_heart_failure', \n",
    "    'relapse_of_MI', 'post_infarction_angina' \n",
    "    ]"
   ]
  },
  {
   "cell_type": "code",
   "execution_count": 11,
   "id": "ffcbaa97",
   "metadata": {},
   "outputs": [],
   "source": [
    "data['target'] = data[target_columns].sum(axis=1)"
   ]
  },
  {
   "cell_type": "code",
   "execution_count": 12,
   "id": "621d82d4",
   "metadata": {
    "scrolled": true
   },
   "outputs": [
    {
     "data": {
      "text/html": [
       "<div>\n",
       "<style scoped>\n",
       "    .dataframe tbody tr th:only-of-type {\n",
       "        vertical-align: middle;\n",
       "    }\n",
       "\n",
       "    .dataframe tbody tr th {\n",
       "        vertical-align: top;\n",
       "    }\n",
       "\n",
       "    .dataframe thead th {\n",
       "        text-align: right;\n",
       "    }\n",
       "</style>\n",
       "<table border=\"1\" class=\"dataframe\">\n",
       "  <thead>\n",
       "    <tr style=\"text-align: right;\">\n",
       "      <th></th>\n",
       "      <th>atrial_fibrillation</th>\n",
       "      <th>supraventricular_tachycardia</th>\n",
       "      <th>ventricular_tachycardia</th>\n",
       "      <th>ventricular_fibrillation</th>\n",
       "      <th>third_degree_AV_block</th>\n",
       "      <th>pulmonary_edema</th>\n",
       "      <th>myocardial_rupture</th>\n",
       "      <th>dressler_syndrome</th>\n",
       "      <th>chronic_heart_failure</th>\n",
       "      <th>relapse_of_MI</th>\n",
       "      <th>post_infarction_angina</th>\n",
       "      <th>target</th>\n",
       "    </tr>\n",
       "  </thead>\n",
       "  <tbody>\n",
       "    <tr>\n",
       "      <th>0</th>\n",
       "      <td>0</td>\n",
       "      <td>0</td>\n",
       "      <td>0</td>\n",
       "      <td>0</td>\n",
       "      <td>0</td>\n",
       "      <td>0</td>\n",
       "      <td>0</td>\n",
       "      <td>0</td>\n",
       "      <td>0</td>\n",
       "      <td>0</td>\n",
       "      <td>0</td>\n",
       "      <td>0</td>\n",
       "    </tr>\n",
       "    <tr>\n",
       "      <th>1</th>\n",
       "      <td>0</td>\n",
       "      <td>0</td>\n",
       "      <td>0</td>\n",
       "      <td>0</td>\n",
       "      <td>0</td>\n",
       "      <td>0</td>\n",
       "      <td>0</td>\n",
       "      <td>0</td>\n",
       "      <td>0</td>\n",
       "      <td>0</td>\n",
       "      <td>0</td>\n",
       "      <td>0</td>\n",
       "    </tr>\n",
       "    <tr>\n",
       "      <th>2</th>\n",
       "      <td>0</td>\n",
       "      <td>0</td>\n",
       "      <td>0</td>\n",
       "      <td>0</td>\n",
       "      <td>0</td>\n",
       "      <td>0</td>\n",
       "      <td>0</td>\n",
       "      <td>0</td>\n",
       "      <td>0</td>\n",
       "      <td>0</td>\n",
       "      <td>0</td>\n",
       "      <td>0</td>\n",
       "    </tr>\n",
       "    <tr>\n",
       "      <th>3</th>\n",
       "      <td>0</td>\n",
       "      <td>0</td>\n",
       "      <td>0</td>\n",
       "      <td>0</td>\n",
       "      <td>0</td>\n",
       "      <td>0</td>\n",
       "      <td>0</td>\n",
       "      <td>0</td>\n",
       "      <td>1</td>\n",
       "      <td>0</td>\n",
       "      <td>0</td>\n",
       "      <td>1</td>\n",
       "    </tr>\n",
       "    <tr>\n",
       "      <th>4</th>\n",
       "      <td>0</td>\n",
       "      <td>0</td>\n",
       "      <td>0</td>\n",
       "      <td>0</td>\n",
       "      <td>0</td>\n",
       "      <td>0</td>\n",
       "      <td>0</td>\n",
       "      <td>0</td>\n",
       "      <td>0</td>\n",
       "      <td>0</td>\n",
       "      <td>0</td>\n",
       "      <td>0</td>\n",
       "    </tr>\n",
       "  </tbody>\n",
       "</table>\n",
       "</div>"
      ],
      "text/plain": [
       "   atrial_fibrillation  supraventricular_tachycardia  ventricular_tachycardia  \\\n",
       "0                    0                             0                        0   \n",
       "1                    0                             0                        0   \n",
       "2                    0                             0                        0   \n",
       "3                    0                             0                        0   \n",
       "4                    0                             0                        0   \n",
       "\n",
       "   ventricular_fibrillation  third_degree_AV_block  pulmonary_edema  \\\n",
       "0                         0                      0                0   \n",
       "1                         0                      0                0   \n",
       "2                         0                      0                0   \n",
       "3                         0                      0                0   \n",
       "4                         0                      0                0   \n",
       "\n",
       "   myocardial_rupture  dressler_syndrome  chronic_heart_failure  \\\n",
       "0                   0                  0                      0   \n",
       "1                   0                  0                      0   \n",
       "2                   0                  0                      0   \n",
       "3                   0                  0                      1   \n",
       "4                   0                  0                      0   \n",
       "\n",
       "   relapse_of_MI  post_infarction_angina  target  \n",
       "0              0                       0       0  \n",
       "1              0                       0       0  \n",
       "2              0                       0       0  \n",
       "3              0                       0       1  \n",
       "4              0                       0       0  "
      ]
     },
     "execution_count": 12,
     "metadata": {},
     "output_type": "execute_result"
    }
   ],
   "source": [
    "new_targets = [\n",
    "    'atrial_fibrillation', 'supraventricular_tachycardia', 'ventricular_tachycardia',\n",
    "    'ventricular_fibrillation', 'third_degree_AV_block', 'pulmonary_edema', \n",
    "    'myocardial_rupture', 'dressler_syndrome', 'chronic_heart_failure', \n",
    "    'relapse_of_MI', 'post_infarction_angina', 'target'\n",
    "    ]\n",
    "\n",
    "data[new_targets].head()"
   ]
  },
  {
   "cell_type": "code",
   "execution_count": 13,
   "id": "1b5e7301",
   "metadata": {},
   "outputs": [
    {
     "data": {
      "text/plain": [
       "0    0.450000\n",
       "1    0.375882\n",
       "2    0.118235\n",
       "3    0.043529\n",
       "4    0.011176\n",
       "5    0.001176\n",
       "Name: target, dtype: float64"
      ]
     },
     "execution_count": 13,
     "metadata": {},
     "output_type": "execute_result"
    }
   ],
   "source": [
    "data['target'].value_counts(normalize=True)"
   ]
  },
  {
   "cell_type": "code",
   "execution_count": 14,
   "id": "6af73e32",
   "metadata": {},
   "outputs": [
    {
     "data": {
      "text/plain": [
       "0    765\n",
       "1    639\n",
       "2    201\n",
       "3     74\n",
       "4     19\n",
       "5      2\n",
       "Name: target, dtype: int64"
      ]
     },
     "execution_count": 14,
     "metadata": {},
     "output_type": "execute_result"
    }
   ],
   "source": [
    "data['target'].value_counts()"
   ]
  },
  {
   "cell_type": "markdown",
   "id": "ff5b18a8",
   "metadata": {},
   "source": [
    "<a id='Exploratory_visualization'></a>"
   ]
  },
  {
   "cell_type": "markdown",
   "id": "e20036d1",
   "metadata": {},
   "source": [
    "### 2.2.1 Exploratory Visualization "
   ]
  },
  {
   "cell_type": "markdown",
   "id": "f825d152",
   "metadata": {},
   "source": [
    "Now that we've determined our target and have numerical representations, let's see what this information looks like visually. "
   ]
  },
  {
   "cell_type": "code",
   "execution_count": 15,
   "id": "55cf7ddf",
   "metadata": {},
   "outputs": [
    {
     "data": {
      "image/png": "[encoded data removed]",
      "text/plain": [
       "<Figure size 720x432 with 1 Axes>"
      ]
     },
     "metadata": {},
     "output_type": "display_data"
    }
   ],
   "source": [
    "complication_series = data['target'].value_counts(normalize=True)\n",
    "labels = complication_series.index\n",
    "\n",
    "new_labels = []\n",
    "for label in labels:\n",
    "    if label <= 5:\n",
    "        new_labels.append('{} {}'.format(label, 'Complications'))\n",
    "    else:\n",
    "        new_labels.append(label)\n",
    "\n",
    "sizes = complication_series.values\n",
    "\n",
    "colors = ['#ff9999','#66b3ff','#99ff99','#ffcc99', '#ffdd99', '#668f99']\n",
    "\n",
    "\n",
    "def autopct_modifier(limit):\n",
    "    ''' Displays only values above a threshold on a given slice.\n",
    "    '''\n",
    "    def pie_autopct(pct):\n",
    "        return ('{:.2f}%'.format(pct)) if pct > limit else ''\n",
    "    return pie_autopct\n",
    "\n",
    "\n",
    "fig = plt.subplots(figsize=(10, 6))\n",
    "\n",
    "patches, texts, autotexts = plt.pie(\n",
    "    sizes,\n",
    "#     labels=new_labels,\n",
    "    autopct=autopct_modifier(4),\n",
    "    colors=colors,\n",
    "    pctdistance=0.75,\n",
    "    startangle=90,\n",
    "    normalize=False\n",
    ")\n",
    "\n",
    "for text in texts:\n",
    "    text.set_color('#333')\n",
    "    \n",
    "for autotext in autotexts:\n",
    "    autotext.set_color('#111')\n",
    "    \n",
    "\n",
    "plt.title('Percentage of Patients With Complications', fontsize=14)\n",
    "                                          \n",
    "plt.legend(\n",
    "        labels = new_labels, \n",
    "        loc='right', \n",
    "        bbox_to_anchor=(1.3, 0.7)\n",
    "    )\n",
    "\n",
    "center_circle = plt.Circle((0,0), 0.5, fc='white')\n",
    "fig = plt.gcf()\n",
    "fig.gca().add_artist(center_circle)\n",
    "\n",
    "    \n",
    "plt.tight_layout()\n",
    "plt.show()"
   ]
  },
  {
   "cell_type": "code",
   "execution_count": 16,
   "id": "833442b1",
   "metadata": {},
   "outputs": [
    {
     "data": {
      "image/png": "[encoded data removed]",
      "text/plain": [
       "<Figure size 432x288 with 1 Axes>"
      ]
     },
     "metadata": {
      "needs_background": "light"
     },
     "output_type": "display_data"
    }
   ],
   "source": [
    "data['target'].plot.hist()\n",
    "plt.title('Complications After a Heart Attack', y=1.04, fontsize=14)\n",
    "plt.xticks(size=10)\n",
    "plt.xlabel('Number of Complications', fontsize=12)\n",
    "plt.ylabel('Number of Patients', fontsize=12)\n",
    "plt.show()\n"
   ]
  },
  {
   "cell_type": "markdown",
   "id": "8d42f1c5",
   "metadata": {},
   "source": [
    "We see that people had anywhere from 0 to 5 unique complications following their heart attack. \n",
    "\n",
    "Patients who have 0 or 1 complications are 82% of the total, perhaps indicating that the patient is likely to die before having a chance to accumulate multiple complications. \n"
   ]
  },
  {
   "cell_type": "markdown",
   "id": "47895f7e",
   "metadata": {},
   "source": [
    "<a id='General_formatting'></a>"
   ]
  },
  {
   "cell_type": "markdown",
   "id": "aafb250e",
   "metadata": {},
   "source": [
    "## 2.3 General Formatting"
   ]
  },
  {
   "cell_type": "markdown",
   "id": "80c26473",
   "metadata": {},
   "source": [
    "There are a number of instances where the \"?\" symbol represents a missing value. However, \"?\" doesn't actually register to the programming language as missing, so it falsely appears as if there are no missing values.\n",
    "\n",
    "This part is pretty straight-forward; we'll convert any \"?\" symbol into something that will register as a missing value. We'll replace them with NaN (\"Not a Number\"). "
   ]
  },
  {
   "cell_type": "code",
   "execution_count": 17,
   "id": "81066522",
   "metadata": {},
   "outputs": [
    {
     "data": {
      "text/plain": [
       "ID                                    0\n",
       "Age                                   0\n",
       "Sex                                   0\n",
       "num_MI_in_anam                        0\n",
       "exertional_angina_pectoris_in_anam    0\n",
       "                                     ..\n",
       "chronic_heart_failure                 0\n",
       "relapse_of_MI                         0\n",
       "post_infarction_angina                0\n",
       "lethal_outcome                        0\n",
       "target                                0\n",
       "Length: 125, dtype: int64"
      ]
     },
     "execution_count": 17,
     "metadata": {},
     "output_type": "execute_result"
    }
   ],
   "source": [
    "data.isnull().sum()"
   ]
  },
  {
   "cell_type": "code",
   "execution_count": 18,
   "id": "70fde702",
   "metadata": {},
   "outputs": [],
   "source": [
    "for col_name in data.columns:\n",
    "    data[col_name] = data[col_name].replace('?', np.nan)"
   ]
  },
  {
   "cell_type": "code",
   "execution_count": 19,
   "id": "2e3ddec7",
   "metadata": {},
   "outputs": [
    {
     "data": {
      "text/plain": [
       "ID                                      0\n",
       "Age                                     8\n",
       "Sex                                     0\n",
       "num_MI_in_anam                          4\n",
       "exertional_angina_pectoris_in_anam    106\n",
       "                                     ... \n",
       "chronic_heart_failure                   0\n",
       "relapse_of_MI                           0\n",
       "post_infarction_angina                  0\n",
       "lethal_outcome                          0\n",
       "target                                  0\n",
       "Length: 125, dtype: int64"
      ]
     },
     "execution_count": 19,
     "metadata": {},
     "output_type": "execute_result"
    }
   ],
   "source": [
    "data.isnull().sum()"
   ]
  },
  {
   "cell_type": "markdown",
   "id": "6d184d10",
   "metadata": {},
   "source": [
    "<a id='Removing_columns_with_only_1_unique_value'></a>"
   ]
  },
  {
   "cell_type": "markdown",
   "id": "c44690a5",
   "metadata": {},
   "source": [
    "## 2.4 Removing Columns With Only 1 Unique Value\n",
    "\n",
    "It's good practice to disregard any columns that only have one unique value, as those would not help us in the modeling process. We can verify easily with this relatively small number of features that there are no columns that fall in this category. Furthermore, none of the columns that have only two unique values have one of those values as NaN. \n",
    "\n",
    "We're good to move forward, knowing at this stage that these columns are all potentially useful."
   ]
  },
  {
   "cell_type": "code",
   "execution_count": 20,
   "id": "bd972f62",
   "metadata": {},
   "outputs": [
    {
     "data": {
      "text/plain": [
       "ID                                    1700\n",
       "Age                                     63\n",
       "Sex                                      2\n",
       "num_MI_in_anam                           5\n",
       "exertional_angina_pectoris_in_anam       8\n",
       "                                      ... \n",
       "chronic_heart_failure                    2\n",
       "relapse_of_MI                            2\n",
       "post_infarction_angina                   2\n",
       "lethal_outcome                           8\n",
       "target                                   6\n",
       "Length: 125, dtype: int64"
      ]
     },
     "execution_count": 20,
     "metadata": {},
     "output_type": "execute_result"
    }
   ],
   "source": [
    "data.nunique(dropna=False)"
   ]
  },
  {
   "cell_type": "markdown",
   "id": "3a72c77a",
   "metadata": {},
   "source": [
    "<a id='Feature_preparation'></a>"
   ]
  },
  {
   "cell_type": "markdown",
   "id": "d34bdb56",
   "metadata": {},
   "source": [
    "# 3. Feature Preparation \n",
    "\n",
    "Now that we've formatted the data properly, we can move onto feature preparation! There are three distinct steps we'll take to prepare the data for a machine learning model:\n",
    "\n",
    "\n",
    "__1. Addressing Missing Values__\n",
    "\n",
    "If there are any missing values in the dataset, the machine learning model will not be able to calculate its predictions. Therefore, we must address every single missing value in a way that is representative of the real life values that instance represents. In other words, we must remove data only where necessary, or replace a missing value with some other reasonable value. \n",
    "\n",
    "__2. Feature Engineering__\n",
    "\n",
    "Next, we'll address the categorical data. This type of data (which makes up the majority of the values in this dataset) first needs be converted from an object into a numerical form. Then, we'll create new columns that represent each original value.\n",
    "\n",
    "After that, we'll address the numerical data through the use of binning, followed by the same creation of new columns as above to represent each bin value as its own column. \n",
    "\n",
    "If there are any remaining unneccesary columns at this point, we'll remove them as well. \n",
    "\n",
    "__3. Feature Selection__ \n",
    "\n",
    "Finally, we'll perform feature selection, in which we use correlations between the available columns and our target to determine the most relevant relationships. We'll use these as the inputs to our machine learning models. "
   ]
  },
  {
   "cell_type": "markdown",
   "id": "910408dc",
   "metadata": {},
   "source": [
    "<a id='Addressing_missing_values'></a>"
   ]
  },
  {
   "cell_type": "markdown",
   "id": "2977ba33",
   "metadata": {},
   "source": [
    "## 3.1 Addressing Missing Values\n",
    "\n",
    "We'll use two main techniques to address missing values:\n",
    "   - removal of rows or columns\n",
    "   - imputation (filling in missing values with some form of statistically useful approximation)\n",
    "    \n",
    "To help guide how we deal with missing columns, we can consider the following:\n",
    "   - how many values are missing?\n",
    "   - how many unique values are there in a column?\n",
    "   - is the column useful for a machine learning model? If not, removal is a good choice. If so, removal of rows provided not too many, may be the way to go. \n",
    "\n",
    "\n",
    "    "
   ]
  },
  {
   "cell_type": "markdown",
   "id": "4ad4af04",
   "metadata": {},
   "source": [
    "We can remove the `ID` column immediately for two reasons. Firstly, it has a unique value for each patient, so it will be useless for drawing any correlations for machine learning. Secondly, the data description explicitly omitted it from the list of usable columns. "
   ]
  },
  {
   "cell_type": "code",
   "execution_count": 21,
   "id": "6dd69490",
   "metadata": {},
   "outputs": [],
   "source": [
    "removable_cols = ['ID']"
   ]
  },
  {
   "cell_type": "markdown",
   "id": "f335f3c5",
   "metadata": {},
   "source": [
    "To proceed broadly at first, let's start with an assumption that if a column has at least 55% of the values not missing, we'll keep those columns. Later, we'll address the remaining columns' missing rows."
   ]
  },
  {
   "cell_type": "code",
   "execution_count": 22,
   "id": "335237fa",
   "metadata": {},
   "outputs": [
    {
     "data": {
      "text/plain": [
       "765"
      ]
     },
     "execution_count": 22,
     "metadata": {},
     "output_type": "execute_result"
    }
   ],
   "source": [
    "missing_maximum = int(len(data) * 0.45)\n",
    "missing_maximum"
   ]
  },
  {
   "cell_type": "code",
   "execution_count": 23,
   "id": "26a7e95e",
   "metadata": {
    "scrolled": true
   },
   "outputs": [
    {
     "data": {
      "text/plain": [
       "ID                                      0\n",
       "Age                                     8\n",
       "Sex                                     0\n",
       "num_MI_in_anam                          4\n",
       "exertional_angina_pectoris_in_anam    106\n",
       "                                     ... \n",
       "chronic_heart_failure                   0\n",
       "relapse_of_MI                           0\n",
       "post_infarction_angina                  0\n",
       "lethal_outcome                          0\n",
       "target                                  0\n",
       "Length: 121, dtype: int64"
      ]
     },
     "execution_count": 23,
     "metadata": {},
     "output_type": "execute_result"
    }
   ],
   "source": [
    "missings = data.isnull().sum()\n",
    "\n",
    "df_55_plus = data[missings[missings.values < missing_maximum].index]\n",
    "\n",
    "df_55_plus.isnull().sum()\n"
   ]
  },
  {
   "cell_type": "code",
   "execution_count": 24,
   "id": "2e310bd9",
   "metadata": {},
   "outputs": [],
   "source": [
    "df_55_plus = df_55_plus.drop('ID', axis=1)"
   ]
  },
  {
   "cell_type": "code",
   "execution_count": 25,
   "id": "edf7d60c",
   "metadata": {
    "scrolled": true
   },
   "outputs": [
    {
     "data": {
      "text/html": [
       "<div>\n",
       "<style scoped>\n",
       "    .dataframe tbody tr th:only-of-type {\n",
       "        vertical-align: middle;\n",
       "    }\n",
       "\n",
       "    .dataframe tbody tr th {\n",
       "        vertical-align: top;\n",
       "    }\n",
       "\n",
       "    .dataframe thead th {\n",
       "        text-align: right;\n",
       "    }\n",
       "</style>\n",
       "<table border=\"1\" class=\"dataframe\">\n",
       "  <thead>\n",
       "    <tr style=\"text-align: right;\">\n",
       "      <th></th>\n",
       "      <th>Age</th>\n",
       "      <th>Sex</th>\n",
       "      <th>num_MI_in_anam</th>\n",
       "      <th>exertional_angina_pectoris_in_anam</th>\n",
       "      <th>functional_class_of_angina_pectoris_in_last_year</th>\n",
       "      <th>CHD_in_recent_weeks</th>\n",
       "      <th>essential_hypertension</th>\n",
       "      <th>symptomatic_hypertension</th>\n",
       "      <th>duration_of_arterial_hypertension</th>\n",
       "      <th>chronic_heart_failure_in_anam</th>\n",
       "      <th>...</th>\n",
       "      <th>ventricular_fibrillation</th>\n",
       "      <th>third_degree_AV_block</th>\n",
       "      <th>pulmonary_edema</th>\n",
       "      <th>myocardial_rupture</th>\n",
       "      <th>dressler_syndrome</th>\n",
       "      <th>chronic_heart_failure</th>\n",
       "      <th>relapse_of_MI</th>\n",
       "      <th>post_infarction_angina</th>\n",
       "      <th>lethal_outcome</th>\n",
       "      <th>target</th>\n",
       "    </tr>\n",
       "  </thead>\n",
       "  <tbody>\n",
       "    <tr>\n",
       "      <th>0</th>\n",
       "      <td>77</td>\n",
       "      <td>1</td>\n",
       "      <td>2</td>\n",
       "      <td>1</td>\n",
       "      <td>1</td>\n",
       "      <td>2</td>\n",
       "      <td>3</td>\n",
       "      <td>0</td>\n",
       "      <td>7</td>\n",
       "      <td>0</td>\n",
       "      <td>...</td>\n",
       "      <td>0</td>\n",
       "      <td>0</td>\n",
       "      <td>0</td>\n",
       "      <td>0</td>\n",
       "      <td>0</td>\n",
       "      <td>0</td>\n",
       "      <td>0</td>\n",
       "      <td>0</td>\n",
       "      <td>0</td>\n",
       "      <td>0</td>\n",
       "    </tr>\n",
       "    <tr>\n",
       "      <th>1</th>\n",
       "      <td>55</td>\n",
       "      <td>1</td>\n",
       "      <td>1</td>\n",
       "      <td>0</td>\n",
       "      <td>0</td>\n",
       "      <td>0</td>\n",
       "      <td>0</td>\n",
       "      <td>0</td>\n",
       "      <td>0</td>\n",
       "      <td>0</td>\n",
       "      <td>...</td>\n",
       "      <td>0</td>\n",
       "      <td>0</td>\n",
       "      <td>0</td>\n",
       "      <td>0</td>\n",
       "      <td>0</td>\n",
       "      <td>0</td>\n",
       "      <td>0</td>\n",
       "      <td>0</td>\n",
       "      <td>0</td>\n",
       "      <td>0</td>\n",
       "    </tr>\n",
       "    <tr>\n",
       "      <th>2</th>\n",
       "      <td>52</td>\n",
       "      <td>1</td>\n",
       "      <td>0</td>\n",
       "      <td>0</td>\n",
       "      <td>0</td>\n",
       "      <td>2</td>\n",
       "      <td>2</td>\n",
       "      <td>0</td>\n",
       "      <td>2</td>\n",
       "      <td>0</td>\n",
       "      <td>...</td>\n",
       "      <td>0</td>\n",
       "      <td>0</td>\n",
       "      <td>0</td>\n",
       "      <td>0</td>\n",
       "      <td>0</td>\n",
       "      <td>0</td>\n",
       "      <td>0</td>\n",
       "      <td>0</td>\n",
       "      <td>0</td>\n",
       "      <td>0</td>\n",
       "    </tr>\n",
       "    <tr>\n",
       "      <th>3</th>\n",
       "      <td>68</td>\n",
       "      <td>0</td>\n",
       "      <td>0</td>\n",
       "      <td>0</td>\n",
       "      <td>0</td>\n",
       "      <td>2</td>\n",
       "      <td>2</td>\n",
       "      <td>0</td>\n",
       "      <td>3</td>\n",
       "      <td>1</td>\n",
       "      <td>...</td>\n",
       "      <td>0</td>\n",
       "      <td>0</td>\n",
       "      <td>0</td>\n",
       "      <td>0</td>\n",
       "      <td>0</td>\n",
       "      <td>1</td>\n",
       "      <td>0</td>\n",
       "      <td>0</td>\n",
       "      <td>0</td>\n",
       "      <td>1</td>\n",
       "    </tr>\n",
       "    <tr>\n",
       "      <th>4</th>\n",
       "      <td>60</td>\n",
       "      <td>1</td>\n",
       "      <td>0</td>\n",
       "      <td>0</td>\n",
       "      <td>0</td>\n",
       "      <td>2</td>\n",
       "      <td>3</td>\n",
       "      <td>0</td>\n",
       "      <td>7</td>\n",
       "      <td>0</td>\n",
       "      <td>...</td>\n",
       "      <td>0</td>\n",
       "      <td>0</td>\n",
       "      <td>0</td>\n",
       "      <td>0</td>\n",
       "      <td>0</td>\n",
       "      <td>0</td>\n",
       "      <td>0</td>\n",
       "      <td>0</td>\n",
       "      <td>0</td>\n",
       "      <td>0</td>\n",
       "    </tr>\n",
       "  </tbody>\n",
       "</table>\n",
       "<p>5 rows × 120 columns</p>\n",
       "</div>"
      ],
      "text/plain": [
       "  Age  Sex num_MI_in_anam exertional_angina_pectoris_in_anam  \\\n",
       "0  77    1              2                                  1   \n",
       "1  55    1              1                                  0   \n",
       "2  52    1              0                                  0   \n",
       "3  68    0              0                                  0   \n",
       "4  60    1              0                                  0   \n",
       "\n",
       "  functional_class_of_angina_pectoris_in_last_year CHD_in_recent_weeks  \\\n",
       "0                                                1                   2   \n",
       "1                                                0                   0   \n",
       "2                                                0                   2   \n",
       "3                                                0                   2   \n",
       "4                                                0                   2   \n",
       "\n",
       "  essential_hypertension symptomatic_hypertension  \\\n",
       "0                      3                        0   \n",
       "1                      0                        0   \n",
       "2                      2                        0   \n",
       "3                      2                        0   \n",
       "4                      3                        0   \n",
       "\n",
       "  duration_of_arterial_hypertension chronic_heart_failure_in_anam  ...  \\\n",
       "0                                 7                             0  ...   \n",
       "1                                 0                             0  ...   \n",
       "2                                 2                             0  ...   \n",
       "3                                 3                             1  ...   \n",
       "4                                 7                             0  ...   \n",
       "\n",
       "  ventricular_fibrillation third_degree_AV_block pulmonary_edema  \\\n",
       "0                        0                     0               0   \n",
       "1                        0                     0               0   \n",
       "2                        0                     0               0   \n",
       "3                        0                     0               0   \n",
       "4                        0                     0               0   \n",
       "\n",
       "  myocardial_rupture dressler_syndrome chronic_heart_failure relapse_of_MI  \\\n",
       "0                  0                 0                     0             0   \n",
       "1                  0                 0                     0             0   \n",
       "2                  0                 0                     0             0   \n",
       "3                  0                 0                     1             0   \n",
       "4                  0                 0                     0             0   \n",
       "\n",
       "  post_infarction_angina lethal_outcome target  \n",
       "0                      0              0      0  \n",
       "1                      0              0      0  \n",
       "2                      0              0      0  \n",
       "3                      0              0      1  \n",
       "4                      0              0      0  \n",
       "\n",
       "[5 rows x 120 columns]"
      ]
     },
     "execution_count": 25,
     "metadata": {},
     "output_type": "execute_result"
    }
   ],
   "source": [
    "df_55_plus.head()"
   ]
  },
  {
   "cell_type": "code",
   "execution_count": 26,
   "id": "e3319f45",
   "metadata": {
    "scrolled": true
   },
   "outputs": [
    {
     "name": "stdout",
     "output_type": "stream",
     "text": [
      "Number of columns before elimination: 125\n",
      "Number of columns after elimination: 120\n"
     ]
    }
   ],
   "source": [
    "print('Number of columns before elimination:', data.shape[1])\n",
    "print('Number of columns after elimination:', df_55_plus.shape[1])\n"
   ]
  },
  {
   "cell_type": "markdown",
   "id": "a329f98d",
   "metadata": {},
   "source": [
    "We've removed 5 columns so far. Let's look now at how we can systematically approach the remaining missing values."
   ]
  },
  {
   "cell_type": "markdown",
   "id": "cf3a35d6",
   "metadata": {},
   "source": [
    "<a id='Understanding_remaining_missing_values'></a>"
   ]
  },
  {
   "cell_type": "markdown",
   "id": "958cfad8",
   "metadata": {},
   "source": [
    "## 3.1.1 Understanding Remaining Missing Values"
   ]
  },
  {
   "cell_type": "markdown",
   "id": "7871e5e0",
   "metadata": {},
   "source": [
    "All the remaining columns are potentially useful for the modelling process, so we should be looking at retaining as much of this information as we can. \n",
    "\n",
    "Let's first see what percentage of the values are missing in a given column, then see if we can identify any patterns in the data."
   ]
  },
  {
   "cell_type": "code",
   "execution_count": 27,
   "id": "e45bf2da",
   "metadata": {},
   "outputs": [],
   "source": [
    "new_df = df_55_plus.copy()"
   ]
  },
  {
   "cell_type": "code",
   "execution_count": 28,
   "id": "8bd8a72b",
   "metadata": {
    "scrolled": true
   },
   "outputs": [
    {
     "data": {
      "text/plain": [
       "use_of_NSAIDs_by_emergency_cardiology_team          0.403529\n",
       "use_of_lidocaine_by_emergency_cardiology_team       0.398235\n",
       "use_of_opioid_drugs_by_emergency_cardiology_team    0.386471\n",
       "serum_sodium_content                                0.220588\n",
       "increase_of_sodium_in_serum                         0.220588\n",
       "                                                      ...   \n",
       "ventricular_fibrillation                            0.000000\n",
       "ventricular_tachycardia                             0.000000\n",
       "Sex                                                 0.000000\n",
       "atrial_fibrillation                                 0.000000\n",
       "target                                              0.000000\n",
       "Length: 120, dtype: float64"
      ]
     },
     "execution_count": 28,
     "metadata": {},
     "output_type": "execute_result"
    }
   ],
   "source": [
    "pct_missing = 1 - new_df.count() / len(new_df)\n",
    "pct_missing.sort_values(ascending=False)"
   ]
  },
  {
   "cell_type": "markdown",
   "id": "587023bf",
   "metadata": {},
   "source": [
    "We see the majority of columns with missing values are only missing less than 10%. \n",
    "\n",
    "There are 13 columns that are missing more than 10%, some of which may be quite useful, like the serum levels of various biomarkers.\n"
   ]
  },
  {
   "cell_type": "markdown",
   "id": "64aff882",
   "metadata": {},
   "source": [
    "<a id='Visualizing_patterns_with_seaborn'></a>"
   ]
  },
  {
   "cell_type": "markdown",
   "id": "454cb989",
   "metadata": {},
   "source": [
    "## 3.1.2 Visualizing Patterns With Seaborn"
   ]
  },
  {
   "cell_type": "markdown",
   "id": "65070503",
   "metadata": {},
   "source": [
    "A rough way to deal with this is simply to remove all columns where they're missing 10% or more of the data, and then eliminate/impute whatever rows are missing data after that. However, that's a bit arbitrary and may cause the loss of important information.\n",
    "\n",
    "Instead, we'll try to understand patterns in the data through visualization, to more intelligently select which columns might be worth discarding. "
   ]
  },
  {
   "cell_type": "code",
   "execution_count": 29,
   "id": "bf43fc2c",
   "metadata": {},
   "outputs": [],
   "source": [
    "import seaborn as sns"
   ]
  },
  {
   "cell_type": "code",
   "execution_count": 30,
   "id": "89cbe314",
   "metadata": {},
   "outputs": [
    {
     "data": {
      "text/plain": [
       "0      0.324118\n",
       "7      0.254118\n",
       "NaN    0.145882\n",
       "6      0.097059\n",
       "1      0.054706\n",
       "5      0.042941\n",
       "3      0.034118\n",
       "2      0.034118\n",
       "4      0.012941\n",
       "Name: duration_of_arterial_hypertension, dtype: float64"
      ]
     },
     "execution_count": 30,
     "metadata": {},
     "output_type": "execute_result"
    }
   ],
   "source": [
    "new_df['duration_of_arterial_hypertension'].value_counts(dropna=False, normalize=True).sort_values(ascending=False)"
   ]
  },
  {
   "cell_type": "code",
   "execution_count": 31,
   "id": "9c40c778",
   "metadata": {},
   "outputs": [
    {
     "data": {
      "text/plain": [
       "1      0.412353\n",
       "NaN    0.403529\n",
       "0      0.184118\n",
       "Name: use_of_NSAIDs_by_emergency_cardiology_team, dtype: float64"
      ]
     },
     "execution_count": 31,
     "metadata": {},
     "output_type": "execute_result"
    }
   ],
   "source": [
    "new_df['use_of_NSAIDs_by_emergency_cardiology_team'].value_counts(dropna=False, normalize=True).sort_values(ascending=False)"
   ]
  },
  {
   "cell_type": "code",
   "execution_count": 32,
   "id": "e42a1eff",
   "metadata": {},
   "outputs": [
    {
     "data": {
      "image/png": "[encoded data removed]",
      "text/plain": [
       "<Figure size 1296x864 with 1 Axes>"
      ]
     },
     "metadata": {},
     "output_type": "display_data"
    }
   ],
   "source": [
    "sns.set(rc={'figure.figsize':(18, 12)})\n",
    "sns.heatmap(new_df.isnull(), cbar=False)\n",
    "sns.reset_orig()"
   ]
  },
  {
   "cell_type": "markdown",
   "id": "26369268",
   "metadata": {},
   "source": [
    "We can identify some trends in the missing values. For example, there's a group of missing values regarding the \"in_anam\" columns, meaning that the patient didn't have a medical history available. Another larger group concerns the usage of an ECG on admission to the hospital. A still larger group, which thankfully is limited to three columns, has to do with blood levels of different molecules. Finally, a majority of patients did not have data available for the use of various drugs by the hospital. \n",
    "\n",
    "By identifying these groups of missing data, we can better understand the real life application of how future data might be similarly sparse. For now, we'll remove the columns where the majority of data is missing (the hospital drug columns), and impute the remainder. We shouldn't need to completely remove any of the columns entirely. "
   ]
  },
  {
   "cell_type": "code",
   "execution_count": 33,
   "id": "60b64290",
   "metadata": {},
   "outputs": [],
   "source": [
    "clean_new_df = new_df.copy()"
   ]
  },
  {
   "cell_type": "code",
   "execution_count": 34,
   "id": "db1a3320",
   "metadata": {},
   "outputs": [
    {
     "data": {
      "text/plain": [
       "1700"
      ]
     },
     "execution_count": 34,
     "metadata": {},
     "output_type": "execute_result"
    }
   ],
   "source": [
    "len(clean_new_df)"
   ]
  },
  {
   "cell_type": "code",
   "execution_count": 35,
   "id": "98264deb",
   "metadata": {},
   "outputs": [
    {
     "data": {
      "text/plain": [
       "1309.0"
      ]
     },
     "execution_count": 35,
     "metadata": {},
     "output_type": "execute_result"
    }
   ],
   "source": [
    "threshold = len(clean_new_df) * 0.77\n",
    "threshold"
   ]
  },
  {
   "cell_type": "code",
   "execution_count": 36,
   "id": "e3341a07",
   "metadata": {},
   "outputs": [],
   "source": [
    "clean_new_df = clean_new_df.dropna(thresh=threshold, axis=1)"
   ]
  },
  {
   "cell_type": "code",
   "execution_count": 37,
   "id": "b6edb13b",
   "metadata": {},
   "outputs": [
    {
     "name": "stdout",
     "output_type": "stream",
     "text": [
      "<class 'pandas.core.frame.DataFrame'>\n",
      "RangeIndex: 1700 entries, 0 to 1699\n",
      "Columns: 117 entries, Age to target\n",
      "dtypes: int64(14), object(103)\n",
      "memory usage: 1.5+ MB\n"
     ]
    }
   ],
   "source": [
    "clean_new_df.info()"
   ]
  },
  {
   "cell_type": "markdown",
   "id": "d982161b",
   "metadata": {},
   "source": [
    "<a id=\"Imputation\"></a>"
   ]
  },
  {
   "cell_type": "markdown",
   "id": "e501400e",
   "metadata": {},
   "source": [
    "## 3.1.3 Imputation "
   ]
  },
  {
   "cell_type": "markdown",
   "id": "153d071a",
   "metadata": {},
   "source": [
    "Once again, we find ourselves with a few options at our disposal. Generally speaking, you can impute missing data with what's known as simple imputation, or with iterative imputation. \n",
    "\n",
    "Simple imputation is a fast and widely used method that involves replacing the missing value with the mean or mode of a given feature. Unfortunately, it's also a poor solution in terms of its ability to treat a given feature as one piece connected to a whole. For example, simple imputation doesn't understand that feature A might be related to feature B in some meaningful way. \n",
    "\n",
    "Iterative imputation, on the other hand, attempts to take these relationships between features into account when determining what to fill in for a given missing value. Iterative imputation uses predictive modelling to make more nuanced estimates of the targets (in this case, the missing values). This gives much higher quality data to our models that we're ultimately looking to build. One downside to an iterative approach is that because of this increased processing, it's more computationally expensive. Another noteworthy aspect is that in the sklearn library, this is still an experimental feature. If this causes reliability concerns, simple imputation might be a safer choice.\n",
    "\n",
    "Because we should see increased translation to real world data by retaining as many features as we can at this stage and using values that are as accurate as we can estimate, we'll choose the iterative imputation method. "
   ]
  },
  {
   "cell_type": "code",
   "execution_count": 38,
   "id": "e06c1eb1",
   "metadata": {},
   "outputs": [],
   "source": [
    "no_nan_df = clean_new_df.copy()"
   ]
  },
  {
   "cell_type": "code",
   "execution_count": 39,
   "id": "a2c8c8f5",
   "metadata": {},
   "outputs": [
    {
     "data": {
      "text/plain": [
       "Age                                                   8\n",
       "Sex                                                   0\n",
       "num_MI_in_anam                                        4\n",
       "exertional_angina_pectoris_in_anam                  106\n",
       "functional_class_of_angina_pectoris_in_last_year     73\n",
       "                                                   ... \n",
       "chronic_heart_failure                                 0\n",
       "relapse_of_MI                                         0\n",
       "post_infarction_angina                                0\n",
       "lethal_outcome                                        0\n",
       "target                                                0\n",
       "Length: 117, dtype: int64"
      ]
     },
     "execution_count": 39,
     "metadata": {},
     "output_type": "execute_result"
    }
   ],
   "source": [
    "no_nan_df.isnull().sum()"
   ]
  },
  {
   "cell_type": "code",
   "execution_count": 40,
   "id": "9ff09517",
   "metadata": {},
   "outputs": [
    {
     "data": {
      "text/html": [
       "<div>\n",
       "<style scoped>\n",
       "    .dataframe tbody tr th:only-of-type {\n",
       "        vertical-align: middle;\n",
       "    }\n",
       "\n",
       "    .dataframe tbody tr th {\n",
       "        vertical-align: top;\n",
       "    }\n",
       "\n",
       "    .dataframe thead th {\n",
       "        text-align: right;\n",
       "    }\n",
       "</style>\n",
       "<table border=\"1\" class=\"dataframe\">\n",
       "  <thead>\n",
       "    <tr style=\"text-align: right;\">\n",
       "      <th></th>\n",
       "      <th>Age</th>\n",
       "      <th>Sex</th>\n",
       "      <th>num_MI_in_anam</th>\n",
       "      <th>exertional_angina_pectoris_in_anam</th>\n",
       "      <th>functional_class_of_angina_pectoris_in_last_year</th>\n",
       "      <th>CHD_in_recent_weeks</th>\n",
       "      <th>essential_hypertension</th>\n",
       "      <th>symptomatic_hypertension</th>\n",
       "      <th>duration_of_arterial_hypertension</th>\n",
       "      <th>chronic_heart_failure_in_anam</th>\n",
       "      <th>...</th>\n",
       "      <th>ventricular_fibrillation</th>\n",
       "      <th>third_degree_AV_block</th>\n",
       "      <th>pulmonary_edema</th>\n",
       "      <th>myocardial_rupture</th>\n",
       "      <th>dressler_syndrome</th>\n",
       "      <th>chronic_heart_failure</th>\n",
       "      <th>relapse_of_MI</th>\n",
       "      <th>post_infarction_angina</th>\n",
       "      <th>lethal_outcome</th>\n",
       "      <th>target</th>\n",
       "    </tr>\n",
       "  </thead>\n",
       "  <tbody>\n",
       "    <tr>\n",
       "      <th>0</th>\n",
       "      <td>77.0</td>\n",
       "      <td>1.0</td>\n",
       "      <td>2.0</td>\n",
       "      <td>1.0</td>\n",
       "      <td>1.0</td>\n",
       "      <td>2.0</td>\n",
       "      <td>3.0</td>\n",
       "      <td>0.0</td>\n",
       "      <td>7.0</td>\n",
       "      <td>0.0</td>\n",
       "      <td>...</td>\n",
       "      <td>0.0</td>\n",
       "      <td>0.0</td>\n",
       "      <td>0.0</td>\n",
       "      <td>0.0</td>\n",
       "      <td>0.0</td>\n",
       "      <td>0.0</td>\n",
       "      <td>0.0</td>\n",
       "      <td>0.0</td>\n",
       "      <td>0.0</td>\n",
       "      <td>0.0</td>\n",
       "    </tr>\n",
       "    <tr>\n",
       "      <th>1</th>\n",
       "      <td>55.0</td>\n",
       "      <td>1.0</td>\n",
       "      <td>1.0</td>\n",
       "      <td>0.0</td>\n",
       "      <td>0.0</td>\n",
       "      <td>0.0</td>\n",
       "      <td>0.0</td>\n",
       "      <td>0.0</td>\n",
       "      <td>0.0</td>\n",
       "      <td>0.0</td>\n",
       "      <td>...</td>\n",
       "      <td>0.0</td>\n",
       "      <td>0.0</td>\n",
       "      <td>0.0</td>\n",
       "      <td>0.0</td>\n",
       "      <td>0.0</td>\n",
       "      <td>0.0</td>\n",
       "      <td>0.0</td>\n",
       "      <td>0.0</td>\n",
       "      <td>0.0</td>\n",
       "      <td>0.0</td>\n",
       "    </tr>\n",
       "    <tr>\n",
       "      <th>2</th>\n",
       "      <td>52.0</td>\n",
       "      <td>1.0</td>\n",
       "      <td>0.0</td>\n",
       "      <td>0.0</td>\n",
       "      <td>0.0</td>\n",
       "      <td>2.0</td>\n",
       "      <td>2.0</td>\n",
       "      <td>0.0</td>\n",
       "      <td>2.0</td>\n",
       "      <td>0.0</td>\n",
       "      <td>...</td>\n",
       "      <td>0.0</td>\n",
       "      <td>0.0</td>\n",
       "      <td>0.0</td>\n",
       "      <td>0.0</td>\n",
       "      <td>0.0</td>\n",
       "      <td>0.0</td>\n",
       "      <td>0.0</td>\n",
       "      <td>0.0</td>\n",
       "      <td>0.0</td>\n",
       "      <td>0.0</td>\n",
       "    </tr>\n",
       "    <tr>\n",
       "      <th>3</th>\n",
       "      <td>68.0</td>\n",
       "      <td>0.0</td>\n",
       "      <td>0.0</td>\n",
       "      <td>0.0</td>\n",
       "      <td>0.0</td>\n",
       "      <td>2.0</td>\n",
       "      <td>2.0</td>\n",
       "      <td>0.0</td>\n",
       "      <td>3.0</td>\n",
       "      <td>1.0</td>\n",
       "      <td>...</td>\n",
       "      <td>0.0</td>\n",
       "      <td>0.0</td>\n",
       "      <td>0.0</td>\n",
       "      <td>0.0</td>\n",
       "      <td>0.0</td>\n",
       "      <td>1.0</td>\n",
       "      <td>0.0</td>\n",
       "      <td>0.0</td>\n",
       "      <td>0.0</td>\n",
       "      <td>1.0</td>\n",
       "    </tr>\n",
       "    <tr>\n",
       "      <th>4</th>\n",
       "      <td>60.0</td>\n",
       "      <td>1.0</td>\n",
       "      <td>0.0</td>\n",
       "      <td>0.0</td>\n",
       "      <td>0.0</td>\n",
       "      <td>2.0</td>\n",
       "      <td>3.0</td>\n",
       "      <td>0.0</td>\n",
       "      <td>7.0</td>\n",
       "      <td>0.0</td>\n",
       "      <td>...</td>\n",
       "      <td>0.0</td>\n",
       "      <td>0.0</td>\n",
       "      <td>0.0</td>\n",
       "      <td>0.0</td>\n",
       "      <td>0.0</td>\n",
       "      <td>0.0</td>\n",
       "      <td>0.0</td>\n",
       "      <td>0.0</td>\n",
       "      <td>0.0</td>\n",
       "      <td>0.0</td>\n",
       "    </tr>\n",
       "  </tbody>\n",
       "</table>\n",
       "<p>5 rows × 117 columns</p>\n",
       "</div>"
      ],
      "text/plain": [
       "    Age  Sex  num_MI_in_anam  exertional_angina_pectoris_in_anam  \\\n",
       "0  77.0  1.0             2.0                                 1.0   \n",
       "1  55.0  1.0             1.0                                 0.0   \n",
       "2  52.0  1.0             0.0                                 0.0   \n",
       "3  68.0  0.0             0.0                                 0.0   \n",
       "4  60.0  1.0             0.0                                 0.0   \n",
       "\n",
       "   functional_class_of_angina_pectoris_in_last_year  CHD_in_recent_weeks  \\\n",
       "0                                               1.0                  2.0   \n",
       "1                                               0.0                  0.0   \n",
       "2                                               0.0                  2.0   \n",
       "3                                               0.0                  2.0   \n",
       "4                                               0.0                  2.0   \n",
       "\n",
       "   essential_hypertension  symptomatic_hypertension  \\\n",
       "0                     3.0                       0.0   \n",
       "1                     0.0                       0.0   \n",
       "2                     2.0                       0.0   \n",
       "3                     2.0                       0.0   \n",
       "4                     3.0                       0.0   \n",
       "\n",
       "   duration_of_arterial_hypertension  chronic_heart_failure_in_anam  ...  \\\n",
       "0                                7.0                            0.0  ...   \n",
       "1                                0.0                            0.0  ...   \n",
       "2                                2.0                            0.0  ...   \n",
       "3                                3.0                            1.0  ...   \n",
       "4                                7.0                            0.0  ...   \n",
       "\n",
       "   ventricular_fibrillation  third_degree_AV_block  pulmonary_edema  \\\n",
       "0                       0.0                    0.0              0.0   \n",
       "1                       0.0                    0.0              0.0   \n",
       "2                       0.0                    0.0              0.0   \n",
       "3                       0.0                    0.0              0.0   \n",
       "4                       0.0                    0.0              0.0   \n",
       "\n",
       "   myocardial_rupture  dressler_syndrome  chronic_heart_failure  \\\n",
       "0                 0.0                0.0                    0.0   \n",
       "1                 0.0                0.0                    0.0   \n",
       "2                 0.0                0.0                    0.0   \n",
       "3                 0.0                0.0                    1.0   \n",
       "4                 0.0                0.0                    0.0   \n",
       "\n",
       "   relapse_of_MI  post_infarction_angina  lethal_outcome  target  \n",
       "0            0.0                     0.0             0.0     0.0  \n",
       "1            0.0                     0.0             0.0     0.0  \n",
       "2            0.0                     0.0             0.0     0.0  \n",
       "3            0.0                     0.0             0.0     1.0  \n",
       "4            0.0                     0.0             0.0     0.0  \n",
       "\n",
       "[5 rows x 117 columns]"
      ]
     },
     "execution_count": 40,
     "metadata": {},
     "output_type": "execute_result"
    }
   ],
   "source": [
    "from sklearn.experimental import enable_iterative_imputer\n",
    "from sklearn.impute import IterativeImputer\n",
    "\n",
    "\n",
    "imp = IterativeImputer(max_iter=30, random_state=1)\n",
    "no_nan_df[:] = imp.fit_transform(no_nan_df)\n",
    "no_nan_df.head()"
   ]
  },
  {
   "cell_type": "code",
   "execution_count": 41,
   "id": "9b985fa1",
   "metadata": {},
   "outputs": [
    {
     "data": {
      "text/html": [
       "<div>\n",
       "<style scoped>\n",
       "    .dataframe tbody tr th:only-of-type {\n",
       "        vertical-align: middle;\n",
       "    }\n",
       "\n",
       "    .dataframe tbody tr th {\n",
       "        vertical-align: top;\n",
       "    }\n",
       "\n",
       "    .dataframe thead th {\n",
       "        text-align: right;\n",
       "    }\n",
       "</style>\n",
       "<table border=\"1\" class=\"dataframe\">\n",
       "  <thead>\n",
       "    <tr style=\"text-align: right;\">\n",
       "      <th></th>\n",
       "      <th>Age</th>\n",
       "      <th>Sex</th>\n",
       "      <th>num_MI_in_anam</th>\n",
       "      <th>exertional_angina_pectoris_in_anam</th>\n",
       "      <th>functional_class_of_angina_pectoris_in_last_year</th>\n",
       "      <th>CHD_in_recent_weeks</th>\n",
       "      <th>essential_hypertension</th>\n",
       "      <th>symptomatic_hypertension</th>\n",
       "      <th>duration_of_arterial_hypertension</th>\n",
       "      <th>chronic_heart_failure_in_anam</th>\n",
       "      <th>...</th>\n",
       "      <th>ventricular_fibrillation</th>\n",
       "      <th>third_degree_AV_block</th>\n",
       "      <th>pulmonary_edema</th>\n",
       "      <th>myocardial_rupture</th>\n",
       "      <th>dressler_syndrome</th>\n",
       "      <th>chronic_heart_failure</th>\n",
       "      <th>relapse_of_MI</th>\n",
       "      <th>post_infarction_angina</th>\n",
       "      <th>lethal_outcome</th>\n",
       "      <th>target</th>\n",
       "    </tr>\n",
       "  </thead>\n",
       "  <tbody>\n",
       "    <tr>\n",
       "      <th>0</th>\n",
       "      <td>77</td>\n",
       "      <td>1</td>\n",
       "      <td>2</td>\n",
       "      <td>1</td>\n",
       "      <td>1</td>\n",
       "      <td>2</td>\n",
       "      <td>3</td>\n",
       "      <td>0</td>\n",
       "      <td>7</td>\n",
       "      <td>0</td>\n",
       "      <td>...</td>\n",
       "      <td>0</td>\n",
       "      <td>0</td>\n",
       "      <td>0</td>\n",
       "      <td>0</td>\n",
       "      <td>0</td>\n",
       "      <td>0</td>\n",
       "      <td>0</td>\n",
       "      <td>0</td>\n",
       "      <td>0</td>\n",
       "      <td>0</td>\n",
       "    </tr>\n",
       "    <tr>\n",
       "      <th>1</th>\n",
       "      <td>55</td>\n",
       "      <td>1</td>\n",
       "      <td>1</td>\n",
       "      <td>0</td>\n",
       "      <td>0</td>\n",
       "      <td>0</td>\n",
       "      <td>0</td>\n",
       "      <td>0</td>\n",
       "      <td>0</td>\n",
       "      <td>0</td>\n",
       "      <td>...</td>\n",
       "      <td>0</td>\n",
       "      <td>0</td>\n",
       "      <td>0</td>\n",
       "      <td>0</td>\n",
       "      <td>0</td>\n",
       "      <td>0</td>\n",
       "      <td>0</td>\n",
       "      <td>0</td>\n",
       "      <td>0</td>\n",
       "      <td>0</td>\n",
       "    </tr>\n",
       "    <tr>\n",
       "      <th>2</th>\n",
       "      <td>52</td>\n",
       "      <td>1</td>\n",
       "      <td>0</td>\n",
       "      <td>0</td>\n",
       "      <td>0</td>\n",
       "      <td>2</td>\n",
       "      <td>2</td>\n",
       "      <td>0</td>\n",
       "      <td>2</td>\n",
       "      <td>0</td>\n",
       "      <td>...</td>\n",
       "      <td>0</td>\n",
       "      <td>0</td>\n",
       "      <td>0</td>\n",
       "      <td>0</td>\n",
       "      <td>0</td>\n",
       "      <td>0</td>\n",
       "      <td>0</td>\n",
       "      <td>0</td>\n",
       "      <td>0</td>\n",
       "      <td>0</td>\n",
       "    </tr>\n",
       "    <tr>\n",
       "      <th>3</th>\n",
       "      <td>68</td>\n",
       "      <td>0</td>\n",
       "      <td>0</td>\n",
       "      <td>0</td>\n",
       "      <td>0</td>\n",
       "      <td>2</td>\n",
       "      <td>2</td>\n",
       "      <td>0</td>\n",
       "      <td>3</td>\n",
       "      <td>1</td>\n",
       "      <td>...</td>\n",
       "      <td>0</td>\n",
       "      <td>0</td>\n",
       "      <td>0</td>\n",
       "      <td>0</td>\n",
       "      <td>0</td>\n",
       "      <td>1</td>\n",
       "      <td>0</td>\n",
       "      <td>0</td>\n",
       "      <td>0</td>\n",
       "      <td>1</td>\n",
       "    </tr>\n",
       "    <tr>\n",
       "      <th>4</th>\n",
       "      <td>60</td>\n",
       "      <td>1</td>\n",
       "      <td>0</td>\n",
       "      <td>0</td>\n",
       "      <td>0</td>\n",
       "      <td>2</td>\n",
       "      <td>3</td>\n",
       "      <td>0</td>\n",
       "      <td>7</td>\n",
       "      <td>0</td>\n",
       "      <td>...</td>\n",
       "      <td>0</td>\n",
       "      <td>0</td>\n",
       "      <td>0</td>\n",
       "      <td>0</td>\n",
       "      <td>0</td>\n",
       "      <td>0</td>\n",
       "      <td>0</td>\n",
       "      <td>0</td>\n",
       "      <td>0</td>\n",
       "      <td>0</td>\n",
       "    </tr>\n",
       "  </tbody>\n",
       "</table>\n",
       "<p>5 rows × 117 columns</p>\n",
       "</div>"
      ],
      "text/plain": [
       "   Age  Sex  num_MI_in_anam  exertional_angina_pectoris_in_anam  \\\n",
       "0   77    1               2                                   1   \n",
       "1   55    1               1                                   0   \n",
       "2   52    1               0                                   0   \n",
       "3   68    0               0                                   0   \n",
       "4   60    1               0                                   0   \n",
       "\n",
       "   functional_class_of_angina_pectoris_in_last_year  CHD_in_recent_weeks  \\\n",
       "0                                                 1                    2   \n",
       "1                                                 0                    0   \n",
       "2                                                 0                    2   \n",
       "3                                                 0                    2   \n",
       "4                                                 0                    2   \n",
       "\n",
       "   essential_hypertension  symptomatic_hypertension  \\\n",
       "0                       3                         0   \n",
       "1                       0                         0   \n",
       "2                       2                         0   \n",
       "3                       2                         0   \n",
       "4                       3                         0   \n",
       "\n",
       "   duration_of_arterial_hypertension  chronic_heart_failure_in_anam  ...  \\\n",
       "0                                  7                              0  ...   \n",
       "1                                  0                              0  ...   \n",
       "2                                  2                              0  ...   \n",
       "3                                  3                              1  ...   \n",
       "4                                  7                              0  ...   \n",
       "\n",
       "   ventricular_fibrillation  third_degree_AV_block  pulmonary_edema  \\\n",
       "0                         0                      0                0   \n",
       "1                         0                      0                0   \n",
       "2                         0                      0                0   \n",
       "3                         0                      0                0   \n",
       "4                         0                      0                0   \n",
       "\n",
       "   myocardial_rupture  dressler_syndrome  chronic_heart_failure  \\\n",
       "0                   0                  0                      0   \n",
       "1                   0                  0                      0   \n",
       "2                   0                  0                      0   \n",
       "3                   0                  0                      1   \n",
       "4                   0                  0                      0   \n",
       "\n",
       "   relapse_of_MI  post_infarction_angina  lethal_outcome  target  \n",
       "0              0                       0               0       0  \n",
       "1              0                       0               0       0  \n",
       "2              0                       0               0       0  \n",
       "3              0                       0               0       1  \n",
       "4              0                       0               0       0  \n",
       "\n",
       "[5 rows x 117 columns]"
      ]
     },
     "execution_count": 41,
     "metadata": {},
     "output_type": "execute_result"
    }
   ],
   "source": [
    "no_nan_df = no_nan_df.round()\n",
    "no_nan_df = no_nan_df.apply(lambda x: abs(x).astype(int))\n",
    "no_nan_df.head()"
   ]
  },
  {
   "cell_type": "code",
   "execution_count": 42,
   "id": "413518bb",
   "metadata": {},
   "outputs": [
    {
     "data": {
      "text/plain": [
       "Age                                                 0\n",
       "Sex                                                 0\n",
       "num_MI_in_anam                                      0\n",
       "exertional_angina_pectoris_in_anam                  0\n",
       "functional_class_of_angina_pectoris_in_last_year    0\n",
       "                                                   ..\n",
       "chronic_heart_failure                               0\n",
       "relapse_of_MI                                       0\n",
       "post_infarction_angina                              0\n",
       "lethal_outcome                                      0\n",
       "target                                              0\n",
       "Length: 117, dtype: int64"
      ]
     },
     "execution_count": 42,
     "metadata": {},
     "output_type": "execute_result"
    }
   ],
   "source": [
    "no_nan_df.isnull().sum()"
   ]
  },
  {
   "cell_type": "markdown",
   "id": "f7fa2571",
   "metadata": {},
   "source": [
    "<a id=\"Feature_engineering\"></a>"
   ]
  },
  {
   "cell_type": "markdown",
   "id": "8fb896d1",
   "metadata": {},
   "source": [
    "## 3.2 Feature Engineering"
   ]
  },
  {
   "cell_type": "markdown",
   "id": "4bda41f0",
   "metadata": {},
   "source": [
    "At the beginning, we discussed a secondary goal we could pursue, in which we predict complications both at the patient's time of admission to the hospital, and after being there for three days. To follow through with this, we'll make two versions of the existing dataset: one with all the columns so far, and one only with the columns available at the time of admission. \n",
    "\n",
    "We'll ultimately call the dataframe with the full hospital stay `day_three_df`, and the dataframe at the time of admission will be `admission_df`."
   ]
  },
  {
   "cell_type": "markdown",
   "id": "7e7d58a3",
   "metadata": {},
   "source": [
    "Because we need to treat categorical data and numerical data slightly differently, for now we also need to create a distinction between these columns. "
   ]
  },
  {
   "cell_type": "markdown",
   "id": "2cc368a9",
   "metadata": {},
   "source": [
    "<a id=\"Separating_into_categorical,_numerical,_and_admissions-only_features\"></a>"
   ]
  },
  {
   "cell_type": "markdown",
   "id": "40689531",
   "metadata": {},
   "source": [
    "### 3.2.1 Separating Into Categorical, Numerical, and Admissions-only Features"
   ]
  },
  {
   "cell_type": "code",
   "execution_count": 43,
   "id": "29d68317",
   "metadata": {},
   "outputs": [],
   "source": [
    "df2 = no_nan_df.copy()"
   ]
  },
  {
   "cell_type": "code",
   "execution_count": 44,
   "id": "0fc55afa",
   "metadata": {},
   "outputs": [
    {
     "data": {
      "text/plain": [
       "0    1429\n",
       "1     110\n",
       "3      54\n",
       "6      27\n",
       "7      27\n",
       "4      23\n",
       "2      18\n",
       "5      12\n",
       "Name: lethal_outcome, dtype: int64"
      ]
     },
     "execution_count": 44,
     "metadata": {},
     "output_type": "execute_result"
    }
   ],
   "source": [
    "df2['lethal_outcome'].value_counts()"
   ]
  },
  {
   "cell_type": "code",
   "execution_count": 45,
   "id": "bf0963ee",
   "metadata": {},
   "outputs": [],
   "source": [
    "# identifying only the remaining categorical columns using the data description.\n",
    "\n",
    "cat_cols = ['Sex', 'num_MI_in_anam', 'exertional_angina_pectoris_in_anam', \n",
    "     'functional_class_of_angina_pectoris_in_last_year', 'CHD_in_recent_weeks', 'essential_hypertension', 'symptomatic_hypertension',\n",
    "     'duration_of_arterial_hypertension', 'chronic_heart_failure_in_anam', 'arrhythmia_in_anam', 'premature_atrial_contractions_in_anam', 'premature_ventricular_contractions_in_anam',\n",
    "     'paroxysms_of_atrial_fibrillation_in_anam', 'persistent_form_of_atrial_fibrillation_in_anam', 'ventricular_fibrillation_in_anam', 'ventricular_paaroxysmal_tachycardia_in_anam', 'first_degree_AV_block_in_anam',\n",
    "     'third_degree_AV_block_in_anam', 'LBBB_anterior_in_anam', 'incomplete_LBBB_in_anam', 'complete_LBBB_in_anam', 'incomplete_RBBB_in_anam',\n",
    "     'complete_RBBB_in_anam', 'diabetes_in_anam', 'obesity_in_anam', 'thyrotoxicosis_in_anam', 'chronic_bronchitis_in_anam',\n",
    "     'obstructive_chronic_bronchitis_in_anam', 'bronchial_asthma_in_anam', 'chronic_pneumonia_in_anam', 'pulmonary_tuberculosis_in_anam', 'pulmonary_edema_at_admission_to_ICU', 'cardiogenic_shock_at_admission_to_ICU',\n",
    "     'paroxysms_of_atrial_fibrillation_at_admission_to_ICU', 'paroxysms_of_supraventricular_techycardia_at_admission_to_ICU', 'paroxysms_of_ventricular_tachycardia_at_admission_to_ICU', 'ventricular_fibrillation_at_admission_to_ICU', 'presence_of_anterior_MI_by_ECG',\n",
    "     'presence_of_lateral_MI_by_ECG', 'presence_of_inferior_MI_by_ECG', 'presence_of_posterior_MI_by_ECG', 'presence_of_right_ventricular_MI', 'sinus_ECG_rhythm_at_admission_with_HR_60-90',\n",
    "     'atrial_fibrillation_ECG_rhythm_at_admission', 'atrial_ECG_rhythm_at_admission', 'idioventricular_fibrillation_ECG_rhythm_at_admission', 'sinus_ECG_rhythm_at_admission_with_HR_above_90', 'sinus_ECG_rhythm_at_admission_with_HR_below_60', \n",
    "     'premature_atrial_contractions_on_ECG_at_admission', 'frequent_premature_atrial_contractions_on_ECG_at_admission', 'premature_ventricular_contractions_on_ECG_at_admission', 'frequent_premature_ventricular_contractions_on_ECG_at_admission', 'paroxysms_of_atrial_fibrillation_on_ECG_at_admission',\n",
    "     'persistent_form_of_atrial_fibrillation_on_ECG_at_admission', 'paroxysms_of_supraventricular_tachycardia_on_ECG_at_admission', 'paroxysms_of_ventricular_tachycardia_on_ECG_at_admission', 'ventricular_fibrillation_on_ECG_at_admission', 'sinoatrial_block_on_ECG_at_admission',\n",
    "     'first_degree_AV_block_on_ECG_at_admission', 'type_1_second_degree_AV_block_on_ECG_at_admission', 'type_2_second_degree_AV_block_on_ECG_at_admission', 'third_degree_AV_block_on_ECG_at_admission', 'LBBB_anterior_branch_on_ECG_at_admission', \n",
    "     'LBBB_posterior_branch_on_ECG_at_admission', 'incomplete_LBBB_on_ECG_at_admission', 'complete_LBBB_on_ECG_at_admission', 'incomplete_RBBB_on_ECG_at_admission', 'complete_RBBB_on_ECG_at_admission',\n",
    "     'fibrinolytic_therapy_750k_IU', 'fibrinolytic_therapy_1m_IU', 'fibrinolytic_therapy_3m_IU', 'fibrinolytic_therapy_by_streptase', 'fibrinolytic_therapy_500k_IU', \n",
    "     'fibrinolytic_therapy_250k_IU', 'fibrinolytic_therapy_by_streptodecase_1.5m_IU', 'hypokalemia', 'increase_of_sodium_in_serum',\n",
    "     'time_from_beginning_of_attack_of_CHD_to_hospital', 'relapse_of_pain_in_first_hours_of_hospital_period', 'relapse_of_pain_in_second_day_of_hospital_period', 'relapse_of_pain_in_third_day_of_hospital_period',\n",
    "     'use_of_liquid_nitrates_in_ICU', 'use_of_opioid_drugs_in_ICU_in_first_hours_of_hospital_period',\n",
    "     'use_of_opioid_drugs_in_ICU_in_second_day_of_hospital_period', 'use_of_opioid_drugs_in_ICU_in_third_day_of_hospital_period', 'use_of_NSAIDs_in_ICU_in_first_hours_of_hospital_period', 'use_of_NSAIDs_in_ICU_in_second_day_of_hospital_period', 'use_of_NSAIDs_in_ICU_in_third_day_of_hospital_period',\n",
    "     'use_of_lidocaine_in_ICU', 'use_of_beta-blockers_in_ICU', 'use_of_calcium_channel_blockers_in_ICU', 'use_of_heparin_in_ICU', 'use_of_acetylsalicylic_acid_in_ICU', \n",
    "     'use_of_ticlid_in_ICU', 'use_of_trental_in_ICU', 'lethal_outcome']\n"
   ]
  },
  {
   "cell_type": "code",
   "execution_count": 46,
   "id": "b54117cb",
   "metadata": {},
   "outputs": [],
   "source": [
    "# identifying only the remaining numerical columns using the data description.\n",
    "\n",
    "real_cols = [\n",
    "     'Age', 'systolic_blood_pressure_by_ICU_in_mmHg', 'diastolic_blood_pressure_by_ICU_in_mmHg', 'serum_potassium_content',\n",
    "     'serum_sodium_content', 'serum_AlAT_content', 'serum_AsAT_content', 'white_blood_cell_count_in_billions_per_liter', \n",
    "     'erythrocyte_sedimentation_rate']"
   ]
  },
  {
   "cell_type": "code",
   "execution_count": 47,
   "id": "d66fb4f9",
   "metadata": {},
   "outputs": [],
   "source": [
    "# identifying only the remaining columns available at the time of admission to the hospital using the data description.\n",
    "\n",
    "admission_cols = ['Sex', 'num_MI_in_anam', 'exertional_angina_pectoris_in_anam', \n",
    "     'functional_class_of_angina_pectoris_in_last_year', 'CHD_in_recent_weeks', 'essential_hypertension', 'symptomatic_hypertension',\n",
    "     'duration_of_arterial_hypertension', 'chronic_heart_failure_in_anam', 'arrhythmia_in_anam', 'premature_atrial_contractions_in_anam', 'premature_ventricular_contractions_in_anam',\n",
    "     'paroxysms_of_atrial_fibrillation_in_anam', 'persistent_form_of_atrial_fibrillation_in_anam', 'ventricular_fibrillation_in_anam', 'ventricular_paaroxysmal_tachycardia_in_anam', 'first_degree_AV_block_in_anam',\n",
    "     'third_degree_AV_block_in_anam', 'LBBB_anterior_in_anam', 'incomplete_LBBB_in_anam', 'complete_LBBB_in_anam', 'incomplete_RBBB_in_anam',\n",
    "     'complete_RBBB_in_anam', 'diabetes_in_anam', 'obesity_in_anam', 'thyrotoxicosis_in_anam', 'chronic_bronchitis_in_anam',\n",
    "     'obstructive_chronic_bronchitis_in_anam', 'bronchial_asthma_in_anam', 'chronic_pneumonia_in_anam', 'pulmonary_tuberculosis_in_anam', 'pulmonary_edema_at_admission_to_ICU', 'cardiogenic_shock_at_admission_to_ICU',\n",
    "     'paroxysms_of_atrial_fibrillation_at_admission_to_ICU', 'paroxysms_of_supraventricular_techycardia_at_admission_to_ICU', 'paroxysms_of_ventricular_tachycardia_at_admission_to_ICU', 'ventricular_fibrillation_at_admission_to_ICU', 'presence_of_anterior_MI_by_ECG',\n",
    "     'presence_of_lateral_MI_by_ECG', 'presence_of_inferior_MI_by_ECG', 'presence_of_posterior_MI_by_ECG', 'presence_of_right_ventricular_MI', 'sinus_ECG_rhythm_at_admission_with_HR_60-90',\n",
    "     'atrial_fibrillation_ECG_rhythm_at_admission', 'atrial_ECG_rhythm_at_admission', 'idioventricular_fibrillation_ECG_rhythm_at_admission', 'sinus_ECG_rhythm_at_admission_with_HR_above_90', 'sinus_ECG_rhythm_at_admission_with_HR_below_60', \n",
    "     'premature_atrial_contractions_on_ECG_at_admission', 'frequent_premature_atrial_contractions_on_ECG_at_admission', 'premature_ventricular_contractions_on_ECG_at_admission', 'frequent_premature_ventricular_contractions_on_ECG_at_admission', 'paroxysms_of_atrial_fibrillation_on_ECG_at_admission',\n",
    "     'persistent_form_of_atrial_fibrillation_on_ECG_at_admission', 'paroxysms_of_supraventricular_tachycardia_on_ECG_at_admission', 'paroxysms_of_ventricular_tachycardia_on_ECG_at_admission', 'ventricular_fibrillation_on_ECG_at_admission', 'sinoatrial_block_on_ECG_at_admission',\n",
    "     'first_degree_AV_block_on_ECG_at_admission', 'type_1_second_degree_AV_block_on_ECG_at_admission', 'type_2_second_degree_AV_block_on_ECG_at_admission', 'third_degree_AV_block_on_ECG_at_admission', 'LBBB_anterior_branch_on_ECG_at_admission', \n",
    "     'LBBB_posterior_branch_on_ECG_at_admission', 'incomplete_LBBB_on_ECG_at_admission', 'complete_LBBB_on_ECG_at_admission', 'incomplete_RBBB_on_ECG_at_admission', 'complete_RBBB_on_ECG_at_admission',\n",
    "     'fibrinolytic_therapy_750k_IU', 'fibrinolytic_therapy_1m_IU', 'fibrinolytic_therapy_3m_IU', 'fibrinolytic_therapy_by_streptase', 'fibrinolytic_therapy_500k_IU', \n",
    "     'fibrinolytic_therapy_250k_IU', 'fibrinolytic_therapy_by_streptodecase_1.5m_IU', 'hypokalemia', 'increase_of_sodium_in_serum',\n",
    "     'time_from_beginning_of_attack_of_CHD_to_hospital', 'use_of_liquid_nitrates_in_ICU', 'use_of_lidocaine_in_ICU', 'use_of_beta-blockers_in_ICU', 'use_of_calcium_channel_blockers_in_ICU', 'use_of_heparin_in_ICU', 'use_of_acetylsalicylic_acid_in_ICU', \n",
    "     'use_of_ticlid_in_ICU', 'use_of_trental_in_ICU']"
   ]
  },
  {
   "cell_type": "code",
   "execution_count": 48,
   "id": "2cbc4e0c",
   "metadata": {},
   "outputs": [
    {
     "data": {
      "text/html": [
       "<div>\n",
       "<style scoped>\n",
       "    .dataframe tbody tr th:only-of-type {\n",
       "        vertical-align: middle;\n",
       "    }\n",
       "\n",
       "    .dataframe tbody tr th {\n",
       "        vertical-align: top;\n",
       "    }\n",
       "\n",
       "    .dataframe thead th {\n",
       "        text-align: right;\n",
       "    }\n",
       "</style>\n",
       "<table border=\"1\" class=\"dataframe\">\n",
       "  <thead>\n",
       "    <tr style=\"text-align: right;\">\n",
       "      <th></th>\n",
       "      <th>Sex</th>\n",
       "      <th>num_MI_in_anam</th>\n",
       "      <th>exertional_angina_pectoris_in_anam</th>\n",
       "      <th>functional_class_of_angina_pectoris_in_last_year</th>\n",
       "      <th>CHD_in_recent_weeks</th>\n",
       "      <th>essential_hypertension</th>\n",
       "      <th>symptomatic_hypertension</th>\n",
       "      <th>duration_of_arterial_hypertension</th>\n",
       "      <th>chronic_heart_failure_in_anam</th>\n",
       "      <th>arrhythmia_in_anam</th>\n",
       "      <th>...</th>\n",
       "      <th>use_of_NSAIDs_in_ICU_in_second_day_of_hospital_period</th>\n",
       "      <th>use_of_NSAIDs_in_ICU_in_third_day_of_hospital_period</th>\n",
       "      <th>use_of_lidocaine_in_ICU</th>\n",
       "      <th>use_of_beta-blockers_in_ICU</th>\n",
       "      <th>use_of_calcium_channel_blockers_in_ICU</th>\n",
       "      <th>use_of_heparin_in_ICU</th>\n",
       "      <th>use_of_acetylsalicylic_acid_in_ICU</th>\n",
       "      <th>use_of_ticlid_in_ICU</th>\n",
       "      <th>use_of_trental_in_ICU</th>\n",
       "      <th>lethal_outcome</th>\n",
       "    </tr>\n",
       "  </thead>\n",
       "  <tbody>\n",
       "    <tr>\n",
       "      <th>0</th>\n",
       "      <td>1</td>\n",
       "      <td>2</td>\n",
       "      <td>1</td>\n",
       "      <td>1</td>\n",
       "      <td>2</td>\n",
       "      <td>3</td>\n",
       "      <td>0</td>\n",
       "      <td>7</td>\n",
       "      <td>0</td>\n",
       "      <td>0</td>\n",
       "      <td>...</td>\n",
       "      <td>0</td>\n",
       "      <td>0</td>\n",
       "      <td>1</td>\n",
       "      <td>0</td>\n",
       "      <td>0</td>\n",
       "      <td>1</td>\n",
       "      <td>1</td>\n",
       "      <td>0</td>\n",
       "      <td>0</td>\n",
       "      <td>0</td>\n",
       "    </tr>\n",
       "    <tr>\n",
       "      <th>1</th>\n",
       "      <td>1</td>\n",
       "      <td>1</td>\n",
       "      <td>0</td>\n",
       "      <td>0</td>\n",
       "      <td>0</td>\n",
       "      <td>0</td>\n",
       "      <td>0</td>\n",
       "      <td>0</td>\n",
       "      <td>0</td>\n",
       "      <td>0</td>\n",
       "      <td>...</td>\n",
       "      <td>0</td>\n",
       "      <td>0</td>\n",
       "      <td>1</td>\n",
       "      <td>0</td>\n",
       "      <td>1</td>\n",
       "      <td>1</td>\n",
       "      <td>1</td>\n",
       "      <td>0</td>\n",
       "      <td>1</td>\n",
       "      <td>0</td>\n",
       "    </tr>\n",
       "    <tr>\n",
       "      <th>2</th>\n",
       "      <td>1</td>\n",
       "      <td>0</td>\n",
       "      <td>0</td>\n",
       "      <td>0</td>\n",
       "      <td>2</td>\n",
       "      <td>2</td>\n",
       "      <td>0</td>\n",
       "      <td>2</td>\n",
       "      <td>0</td>\n",
       "      <td>0</td>\n",
       "      <td>...</td>\n",
       "      <td>2</td>\n",
       "      <td>2</td>\n",
       "      <td>1</td>\n",
       "      <td>1</td>\n",
       "      <td>0</td>\n",
       "      <td>1</td>\n",
       "      <td>1</td>\n",
       "      <td>0</td>\n",
       "      <td>0</td>\n",
       "      <td>0</td>\n",
       "    </tr>\n",
       "    <tr>\n",
       "      <th>3</th>\n",
       "      <td>0</td>\n",
       "      <td>0</td>\n",
       "      <td>0</td>\n",
       "      <td>0</td>\n",
       "      <td>2</td>\n",
       "      <td>2</td>\n",
       "      <td>0</td>\n",
       "      <td>3</td>\n",
       "      <td>1</td>\n",
       "      <td>0</td>\n",
       "      <td>...</td>\n",
       "      <td>0</td>\n",
       "      <td>0</td>\n",
       "      <td>0</td>\n",
       "      <td>0</td>\n",
       "      <td>1</td>\n",
       "      <td>1</td>\n",
       "      <td>1</td>\n",
       "      <td>0</td>\n",
       "      <td>0</td>\n",
       "      <td>0</td>\n",
       "    </tr>\n",
       "    <tr>\n",
       "      <th>4</th>\n",
       "      <td>1</td>\n",
       "      <td>0</td>\n",
       "      <td>0</td>\n",
       "      <td>0</td>\n",
       "      <td>2</td>\n",
       "      <td>3</td>\n",
       "      <td>0</td>\n",
       "      <td>7</td>\n",
       "      <td>0</td>\n",
       "      <td>0</td>\n",
       "      <td>...</td>\n",
       "      <td>0</td>\n",
       "      <td>0</td>\n",
       "      <td>0</td>\n",
       "      <td>0</td>\n",
       "      <td>1</td>\n",
       "      <td>0</td>\n",
       "      <td>1</td>\n",
       "      <td>0</td>\n",
       "      <td>1</td>\n",
       "      <td>0</td>\n",
       "    </tr>\n",
       "  </tbody>\n",
       "</table>\n",
       "<p>5 rows × 96 columns</p>\n",
       "</div>"
      ],
      "text/plain": [
       "   Sex  num_MI_in_anam  exertional_angina_pectoris_in_anam  \\\n",
       "0    1               2                                   1   \n",
       "1    1               1                                   0   \n",
       "2    1               0                                   0   \n",
       "3    0               0                                   0   \n",
       "4    1               0                                   0   \n",
       "\n",
       "   functional_class_of_angina_pectoris_in_last_year  CHD_in_recent_weeks  \\\n",
       "0                                                 1                    2   \n",
       "1                                                 0                    0   \n",
       "2                                                 0                    2   \n",
       "3                                                 0                    2   \n",
       "4                                                 0                    2   \n",
       "\n",
       "   essential_hypertension  symptomatic_hypertension  \\\n",
       "0                       3                         0   \n",
       "1                       0                         0   \n",
       "2                       2                         0   \n",
       "3                       2                         0   \n",
       "4                       3                         0   \n",
       "\n",
       "   duration_of_arterial_hypertension  chronic_heart_failure_in_anam  \\\n",
       "0                                  7                              0   \n",
       "1                                  0                              0   \n",
       "2                                  2                              0   \n",
       "3                                  3                              1   \n",
       "4                                  7                              0   \n",
       "\n",
       "   arrhythmia_in_anam  ...  \\\n",
       "0                   0  ...   \n",
       "1                   0  ...   \n",
       "2                   0  ...   \n",
       "3                   0  ...   \n",
       "4                   0  ...   \n",
       "\n",
       "   use_of_NSAIDs_in_ICU_in_second_day_of_hospital_period  \\\n",
       "0                                                  0       \n",
       "1                                                  0       \n",
       "2                                                  2       \n",
       "3                                                  0       \n",
       "4                                                  0       \n",
       "\n",
       "   use_of_NSAIDs_in_ICU_in_third_day_of_hospital_period  \\\n",
       "0                                                  0      \n",
       "1                                                  0      \n",
       "2                                                  2      \n",
       "3                                                  0      \n",
       "4                                                  0      \n",
       "\n",
       "   use_of_lidocaine_in_ICU  use_of_beta-blockers_in_ICU  \\\n",
       "0                        1                            0   \n",
       "1                        1                            0   \n",
       "2                        1                            1   \n",
       "3                        0                            0   \n",
       "4                        0                            0   \n",
       "\n",
       "   use_of_calcium_channel_blockers_in_ICU  use_of_heparin_in_ICU  \\\n",
       "0                                       0                      1   \n",
       "1                                       1                      1   \n",
       "2                                       0                      1   \n",
       "3                                       1                      1   \n",
       "4                                       1                      0   \n",
       "\n",
       "   use_of_acetylsalicylic_acid_in_ICU  use_of_ticlid_in_ICU  \\\n",
       "0                                   1                     0   \n",
       "1                                   1                     0   \n",
       "2                                   1                     0   \n",
       "3                                   1                     0   \n",
       "4                                   1                     0   \n",
       "\n",
       "   use_of_trental_in_ICU  lethal_outcome  \n",
       "0                      0               0  \n",
       "1                      1               0  \n",
       "2                      0               0  \n",
       "3                      0               0  \n",
       "4                      1               0  \n",
       "\n",
       "[5 rows x 96 columns]"
      ]
     },
     "execution_count": 48,
     "metadata": {},
     "output_type": "execute_result"
    }
   ],
   "source": [
    "df2[cat_cols].head()"
   ]
  },
  {
   "cell_type": "code",
   "execution_count": 49,
   "id": "64b923c7",
   "metadata": {},
   "outputs": [
    {
     "data": {
      "text/html": [
       "<div>\n",
       "<style scoped>\n",
       "    .dataframe tbody tr th:only-of-type {\n",
       "        vertical-align: middle;\n",
       "    }\n",
       "\n",
       "    .dataframe tbody tr th {\n",
       "        vertical-align: top;\n",
       "    }\n",
       "\n",
       "    .dataframe thead th {\n",
       "        text-align: right;\n",
       "    }\n",
       "</style>\n",
       "<table border=\"1\" class=\"dataframe\">\n",
       "  <thead>\n",
       "    <tr style=\"text-align: right;\">\n",
       "      <th></th>\n",
       "      <th>Age</th>\n",
       "      <th>systolic_blood_pressure_by_ICU_in_mmHg</th>\n",
       "      <th>diastolic_blood_pressure_by_ICU_in_mmHg</th>\n",
       "      <th>serum_potassium_content</th>\n",
       "      <th>serum_sodium_content</th>\n",
       "      <th>serum_AlAT_content</th>\n",
       "      <th>serum_AsAT_content</th>\n",
       "      <th>white_blood_cell_count_in_billions_per_liter</th>\n",
       "      <th>erythrocyte_sedimentation_rate</th>\n",
       "    </tr>\n",
       "  </thead>\n",
       "  <tbody>\n",
       "    <tr>\n",
       "      <th>0</th>\n",
       "      <td>77</td>\n",
       "      <td>180</td>\n",
       "      <td>100</td>\n",
       "      <td>5</td>\n",
       "      <td>138</td>\n",
       "      <td>0</td>\n",
       "      <td>0</td>\n",
       "      <td>8</td>\n",
       "      <td>16</td>\n",
       "    </tr>\n",
       "    <tr>\n",
       "      <th>1</th>\n",
       "      <td>55</td>\n",
       "      <td>120</td>\n",
       "      <td>90</td>\n",
       "      <td>4</td>\n",
       "      <td>132</td>\n",
       "      <td>0</td>\n",
       "      <td>0</td>\n",
       "      <td>8</td>\n",
       "      <td>3</td>\n",
       "    </tr>\n",
       "    <tr>\n",
       "      <th>2</th>\n",
       "      <td>52</td>\n",
       "      <td>180</td>\n",
       "      <td>100</td>\n",
       "      <td>4</td>\n",
       "      <td>132</td>\n",
       "      <td>0</td>\n",
       "      <td>0</td>\n",
       "      <td>11</td>\n",
       "      <td>9</td>\n",
       "    </tr>\n",
       "    <tr>\n",
       "      <th>3</th>\n",
       "      <td>68</td>\n",
       "      <td>120</td>\n",
       "      <td>70</td>\n",
       "      <td>4</td>\n",
       "      <td>146</td>\n",
       "      <td>1</td>\n",
       "      <td>0</td>\n",
       "      <td>9</td>\n",
       "      <td>14</td>\n",
       "    </tr>\n",
       "    <tr>\n",
       "      <th>4</th>\n",
       "      <td>60</td>\n",
       "      <td>160</td>\n",
       "      <td>90</td>\n",
       "      <td>4</td>\n",
       "      <td>132</td>\n",
       "      <td>0</td>\n",
       "      <td>0</td>\n",
       "      <td>8</td>\n",
       "      <td>15</td>\n",
       "    </tr>\n",
       "  </tbody>\n",
       "</table>\n",
       "</div>"
      ],
      "text/plain": [
       "   Age  systolic_blood_pressure_by_ICU_in_mmHg  \\\n",
       "0   77                                     180   \n",
       "1   55                                     120   \n",
       "2   52                                     180   \n",
       "3   68                                     120   \n",
       "4   60                                     160   \n",
       "\n",
       "   diastolic_blood_pressure_by_ICU_in_mmHg  serum_potassium_content  \\\n",
       "0                                      100                        5   \n",
       "1                                       90                        4   \n",
       "2                                      100                        4   \n",
       "3                                       70                        4   \n",
       "4                                       90                        4   \n",
       "\n",
       "   serum_sodium_content  serum_AlAT_content  serum_AsAT_content  \\\n",
       "0                   138                   0                   0   \n",
       "1                   132                   0                   0   \n",
       "2                   132                   0                   0   \n",
       "3                   146                   1                   0   \n",
       "4                   132                   0                   0   \n",
       "\n",
       "   white_blood_cell_count_in_billions_per_liter  \\\n",
       "0                                             8   \n",
       "1                                             8   \n",
       "2                                            11   \n",
       "3                                             9   \n",
       "4                                             8   \n",
       "\n",
       "   erythrocyte_sedimentation_rate  \n",
       "0                              16  \n",
       "1                               3  \n",
       "2                               9  \n",
       "3                              14  \n",
       "4                              15  "
      ]
     },
     "execution_count": 49,
     "metadata": {},
     "output_type": "execute_result"
    }
   ],
   "source": [
    "df2[real_cols].head()"
   ]
  },
  {
   "cell_type": "code",
   "execution_count": 50,
   "id": "b374ee50",
   "metadata": {},
   "outputs": [],
   "source": [
    "cats_df = df2[cat_cols]\n",
    "real_df = df2[real_cols]\n",
    "admission_cats_df = df2[admission_cols]"
   ]
  },
  {
   "cell_type": "code",
   "execution_count": 51,
   "id": "73e19b0b",
   "metadata": {},
   "outputs": [
    {
     "data": {
      "text/plain": [
       "(1700, 96)"
      ]
     },
     "execution_count": 51,
     "metadata": {},
     "output_type": "execute_result"
    }
   ],
   "source": [
    "cats_df.shape"
   ]
  },
  {
   "cell_type": "code",
   "execution_count": 52,
   "id": "10eebf36",
   "metadata": {},
   "outputs": [
    {
     "data": {
      "text/plain": [
       "(1700, 9)"
      ]
     },
     "execution_count": 52,
     "metadata": {},
     "output_type": "execute_result"
    }
   ],
   "source": [
    "real_df.shape"
   ]
  },
  {
   "cell_type": "code",
   "execution_count": 53,
   "id": "039af9ba",
   "metadata": {},
   "outputs": [
    {
     "data": {
      "text/plain": [
       "(1700, 86)"
      ]
     },
     "execution_count": 53,
     "metadata": {},
     "output_type": "execute_result"
    }
   ],
   "source": [
    "admission_cats_df.shape"
   ]
  },
  {
   "cell_type": "markdown",
   "id": "80ab90e1",
   "metadata": {},
   "source": [
    "<a id=\"Creation_of_new_columns\"></a>"
   ]
  },
  {
   "cell_type": "markdown",
   "id": "7c3bdb4b",
   "metadata": {},
   "source": [
    "### 3.2.2 Creation of New Columns"
   ]
  },
  {
   "cell_type": "markdown",
   "id": "66d7fd9b",
   "metadata": {},
   "source": [
    "Choices, choices! \n",
    "\n",
    "We can create the columns that isolate each of these values in a couple different ways. The preferred way, which we'll use here, involves a process called one-hot encoding. It's a slightly more robust version of the other way often seen, a pandas library called \"get_dummies\". Both processes create a unique column per value, but one-hot encoding can receive new data more easily than get_dummies will, making it more flexibile.\n",
    "\n",
    "The thing to be aware of in the case of many unique values is a phenomenon called \"the curse of dimensionality\", in which so many features are created in the dataset that there are too few combinations of features to be useful. Feature engineering is therefore a balance of creating useful combinations of features that are not too many, nor too few. \n",
    "\n",
    "We should be able to avoid this issue here, but if it turns out we have too many features, we can always pursue methods of reducing the dimensionality while seeking to preserve the relationships we've identified. "
   ]
  },
  {
   "cell_type": "code",
   "execution_count": 54,
   "id": "8963c218",
   "metadata": {},
   "outputs": [],
   "source": [
    "from sklearn.preprocessing import OneHotEncoder\n",
    "\n",
    "def one_hot(df, cols):\n",
    "    enc = OneHotEncoder(sparse=False)\n",
    "    df_encoded = pd.DataFrame(enc.fit_transform(df))\n",
    "    df_encoded.columns = enc.get_feature_names(cols)\n",
    "    return df_encoded"
   ]
  },
  {
   "cell_type": "markdown",
   "id": "fcdfcbbd",
   "metadata": {},
   "source": [
    "<a id=\"Categorical_one-hot_encoding\"></a>"
   ]
  },
  {
   "cell_type": "markdown",
   "id": "0d394a5e",
   "metadata": {},
   "source": [
    "#### 3.2.2.1 Categorical One-Hot Encoding"
   ]
  },
  {
   "cell_type": "code",
   "execution_count": 55,
   "id": "0a5cb08d",
   "metadata": {},
   "outputs": [
    {
     "data": {
      "text/html": [
       "<div>\n",
       "<style scoped>\n",
       "    .dataframe tbody tr th:only-of-type {\n",
       "        vertical-align: middle;\n",
       "    }\n",
       "\n",
       "    .dataframe tbody tr th {\n",
       "        vertical-align: top;\n",
       "    }\n",
       "\n",
       "    .dataframe thead th {\n",
       "        text-align: right;\n",
       "    }\n",
       "</style>\n",
       "<table border=\"1\" class=\"dataframe\">\n",
       "  <thead>\n",
       "    <tr style=\"text-align: right;\">\n",
       "      <th></th>\n",
       "      <th>Sex_0</th>\n",
       "      <th>Sex_1</th>\n",
       "      <th>num_MI_in_anam_0</th>\n",
       "      <th>num_MI_in_anam_1</th>\n",
       "      <th>num_MI_in_anam_2</th>\n",
       "      <th>num_MI_in_anam_3</th>\n",
       "      <th>exertional_angina_pectoris_in_anam_0</th>\n",
       "      <th>exertional_angina_pectoris_in_anam_1</th>\n",
       "      <th>exertional_angina_pectoris_in_anam_2</th>\n",
       "      <th>exertional_angina_pectoris_in_anam_3</th>\n",
       "      <th>...</th>\n",
       "      <th>use_of_trental_in_ICU_0</th>\n",
       "      <th>use_of_trental_in_ICU_1</th>\n",
       "      <th>lethal_outcome_0</th>\n",
       "      <th>lethal_outcome_1</th>\n",
       "      <th>lethal_outcome_2</th>\n",
       "      <th>lethal_outcome_3</th>\n",
       "      <th>lethal_outcome_4</th>\n",
       "      <th>lethal_outcome_5</th>\n",
       "      <th>lethal_outcome_6</th>\n",
       "      <th>lethal_outcome_7</th>\n",
       "    </tr>\n",
       "  </thead>\n",
       "  <tbody>\n",
       "    <tr>\n",
       "      <th>0</th>\n",
       "      <td>0.0</td>\n",
       "      <td>1.0</td>\n",
       "      <td>0.0</td>\n",
       "      <td>0.0</td>\n",
       "      <td>1.0</td>\n",
       "      <td>0.0</td>\n",
       "      <td>0.0</td>\n",
       "      <td>1.0</td>\n",
       "      <td>0.0</td>\n",
       "      <td>0.0</td>\n",
       "      <td>...</td>\n",
       "      <td>1.0</td>\n",
       "      <td>0.0</td>\n",
       "      <td>1.0</td>\n",
       "      <td>0.0</td>\n",
       "      <td>0.0</td>\n",
       "      <td>0.0</td>\n",
       "      <td>0.0</td>\n",
       "      <td>0.0</td>\n",
       "      <td>0.0</td>\n",
       "      <td>0.0</td>\n",
       "    </tr>\n",
       "    <tr>\n",
       "      <th>1</th>\n",
       "      <td>0.0</td>\n",
       "      <td>1.0</td>\n",
       "      <td>0.0</td>\n",
       "      <td>1.0</td>\n",
       "      <td>0.0</td>\n",
       "      <td>0.0</td>\n",
       "      <td>1.0</td>\n",
       "      <td>0.0</td>\n",
       "      <td>0.0</td>\n",
       "      <td>0.0</td>\n",
       "      <td>...</td>\n",
       "      <td>0.0</td>\n",
       "      <td>1.0</td>\n",
       "      <td>1.0</td>\n",
       "      <td>0.0</td>\n",
       "      <td>0.0</td>\n",
       "      <td>0.0</td>\n",
       "      <td>0.0</td>\n",
       "      <td>0.0</td>\n",
       "      <td>0.0</td>\n",
       "      <td>0.0</td>\n",
       "    </tr>\n",
       "    <tr>\n",
       "      <th>2</th>\n",
       "      <td>0.0</td>\n",
       "      <td>1.0</td>\n",
       "      <td>1.0</td>\n",
       "      <td>0.0</td>\n",
       "      <td>0.0</td>\n",
       "      <td>0.0</td>\n",
       "      <td>1.0</td>\n",
       "      <td>0.0</td>\n",
       "      <td>0.0</td>\n",
       "      <td>0.0</td>\n",
       "      <td>...</td>\n",
       "      <td>1.0</td>\n",
       "      <td>0.0</td>\n",
       "      <td>1.0</td>\n",
       "      <td>0.0</td>\n",
       "      <td>0.0</td>\n",
       "      <td>0.0</td>\n",
       "      <td>0.0</td>\n",
       "      <td>0.0</td>\n",
       "      <td>0.0</td>\n",
       "      <td>0.0</td>\n",
       "    </tr>\n",
       "    <tr>\n",
       "      <th>3</th>\n",
       "      <td>1.0</td>\n",
       "      <td>0.0</td>\n",
       "      <td>1.0</td>\n",
       "      <td>0.0</td>\n",
       "      <td>0.0</td>\n",
       "      <td>0.0</td>\n",
       "      <td>1.0</td>\n",
       "      <td>0.0</td>\n",
       "      <td>0.0</td>\n",
       "      <td>0.0</td>\n",
       "      <td>...</td>\n",
       "      <td>1.0</td>\n",
       "      <td>0.0</td>\n",
       "      <td>1.0</td>\n",
       "      <td>0.0</td>\n",
       "      <td>0.0</td>\n",
       "      <td>0.0</td>\n",
       "      <td>0.0</td>\n",
       "      <td>0.0</td>\n",
       "      <td>0.0</td>\n",
       "      <td>0.0</td>\n",
       "    </tr>\n",
       "    <tr>\n",
       "      <th>4</th>\n",
       "      <td>0.0</td>\n",
       "      <td>1.0</td>\n",
       "      <td>1.0</td>\n",
       "      <td>0.0</td>\n",
       "      <td>0.0</td>\n",
       "      <td>0.0</td>\n",
       "      <td>1.0</td>\n",
       "      <td>0.0</td>\n",
       "      <td>0.0</td>\n",
       "      <td>0.0</td>\n",
       "      <td>...</td>\n",
       "      <td>0.0</td>\n",
       "      <td>1.0</td>\n",
       "      <td>1.0</td>\n",
       "      <td>0.0</td>\n",
       "      <td>0.0</td>\n",
       "      <td>0.0</td>\n",
       "      <td>0.0</td>\n",
       "      <td>0.0</td>\n",
       "      <td>0.0</td>\n",
       "      <td>0.0</td>\n",
       "    </tr>\n",
       "  </tbody>\n",
       "</table>\n",
       "<p>5 rows × 259 columns</p>\n",
       "</div>"
      ],
      "text/plain": [
       "   Sex_0  Sex_1  num_MI_in_anam_0  num_MI_in_anam_1  num_MI_in_anam_2  \\\n",
       "0    0.0    1.0               0.0               0.0               1.0   \n",
       "1    0.0    1.0               0.0               1.0               0.0   \n",
       "2    0.0    1.0               1.0               0.0               0.0   \n",
       "3    1.0    0.0               1.0               0.0               0.0   \n",
       "4    0.0    1.0               1.0               0.0               0.0   \n",
       "\n",
       "   num_MI_in_anam_3  exertional_angina_pectoris_in_anam_0  \\\n",
       "0               0.0                                   0.0   \n",
       "1               0.0                                   1.0   \n",
       "2               0.0                                   1.0   \n",
       "3               0.0                                   1.0   \n",
       "4               0.0                                   1.0   \n",
       "\n",
       "   exertional_angina_pectoris_in_anam_1  exertional_angina_pectoris_in_anam_2  \\\n",
       "0                                   1.0                                   0.0   \n",
       "1                                   0.0                                   0.0   \n",
       "2                                   0.0                                   0.0   \n",
       "3                                   0.0                                   0.0   \n",
       "4                                   0.0                                   0.0   \n",
       "\n",
       "   exertional_angina_pectoris_in_anam_3  ...  use_of_trental_in_ICU_0  \\\n",
       "0                                   0.0  ...                      1.0   \n",
       "1                                   0.0  ...                      0.0   \n",
       "2                                   0.0  ...                      1.0   \n",
       "3                                   0.0  ...                      1.0   \n",
       "4                                   0.0  ...                      0.0   \n",
       "\n",
       "   use_of_trental_in_ICU_1  lethal_outcome_0  lethal_outcome_1  \\\n",
       "0                      0.0               1.0               0.0   \n",
       "1                      1.0               1.0               0.0   \n",
       "2                      0.0               1.0               0.0   \n",
       "3                      0.0               1.0               0.0   \n",
       "4                      1.0               1.0               0.0   \n",
       "\n",
       "   lethal_outcome_2  lethal_outcome_3  lethal_outcome_4  lethal_outcome_5  \\\n",
       "0               0.0               0.0               0.0               0.0   \n",
       "1               0.0               0.0               0.0               0.0   \n",
       "2               0.0               0.0               0.0               0.0   \n",
       "3               0.0               0.0               0.0               0.0   \n",
       "4               0.0               0.0               0.0               0.0   \n",
       "\n",
       "   lethal_outcome_6  lethal_outcome_7  \n",
       "0               0.0               0.0  \n",
       "1               0.0               0.0  \n",
       "2               0.0               0.0  \n",
       "3               0.0               0.0  \n",
       "4               0.0               0.0  \n",
       "\n",
       "[5 rows x 259 columns]"
      ]
     },
     "execution_count": 55,
     "metadata": {},
     "output_type": "execute_result"
    }
   ],
   "source": [
    "cats_encoded = one_hot(cats_df, cat_cols)\n",
    "cats_encoded.head()"
   ]
  },
  {
   "cell_type": "code",
   "execution_count": 56,
   "id": "5eb2adb0",
   "metadata": {},
   "outputs": [
    {
     "name": "stdout",
     "output_type": "stream",
     "text": [
      "Number of features in cats_encoded: 259\n"
     ]
    }
   ],
   "source": [
    "print('Number of features in cats_encoded:', cats_encoded.shape[1])"
   ]
  },
  {
   "cell_type": "code",
   "execution_count": 57,
   "id": "e0a12241",
   "metadata": {
    "scrolled": true
   },
   "outputs": [
    {
     "data": {
      "text/plain": [
       "0.0    1590\n",
       "1.0     110\n",
       "Name: lethal_outcome_1, dtype: int64"
      ]
     },
     "execution_count": 57,
     "metadata": {},
     "output_type": "execute_result"
    }
   ],
   "source": [
    "cats_encoded['lethal_outcome_1'].value_counts()"
   ]
  },
  {
   "cell_type": "code",
   "execution_count": 58,
   "id": "76da1af4",
   "metadata": {},
   "outputs": [],
   "source": [
    "cats_encoded = cats_encoded.drop('lethal_outcome_0', axis=1)"
   ]
  },
  {
   "cell_type": "markdown",
   "id": "20ce7a05",
   "metadata": {},
   "source": [
    "<a id=\"Real_binning\"></a>"
   ]
  },
  {
   "cell_type": "markdown",
   "id": "9bd13cb3",
   "metadata": {},
   "source": [
    "#### 3.2.2.2 Real Binning"
   ]
  },
  {
   "cell_type": "markdown",
   "id": "d5e50a1b",
   "metadata": {},
   "source": [
    "Earlier I mentioned we needed to treat categorical and numerical columns a bit differently. If we were to one-hot encode the many unique values in a given numerical column, we would certainly run into the curse of dimensionality. \n",
    "\n",
    "To solve this problem, we'll instead group ranges of these numerical values together. Once we have a small but useful number of groups, we can apply one-hot encoding as before. \n",
    "\n",
    "The way we'll determine what the group cutoffs are will have to do with finding cutoff points that will contain roughly equivalent numbers of values. This proportional cutoff approach will provide more meaningful data to a machine learning model than if we selected a different common approach which uses equivalent points within the range of values. "
   ]
  },
  {
   "cell_type": "code",
   "execution_count": 59,
   "id": "bf9dd25f",
   "metadata": {},
   "outputs": [],
   "source": [
    "def binning_q_cuts(df, column_name):\n",
    "    df[column_name + ' category'] = pd.qcut(df[column_name], 5, duplicates='drop')\n",
    "    \n",
    "    # deleting the old, non-categorized columns\n",
    "    del df[column_name]\n",
    "    \n",
    "    return df"
   ]
  },
  {
   "cell_type": "code",
   "execution_count": 60,
   "id": "a31810dd",
   "metadata": {
    "scrolled": true
   },
   "outputs": [],
   "source": [
    "pd.set_option('mode.chained_assignment', None)\n",
    "\n",
    "for col in real_df:\n",
    "    binned_real_df = binning_q_cuts(real_df, col)"
   ]
  },
  {
   "cell_type": "code",
   "execution_count": 61,
   "id": "146eb332",
   "metadata": {
    "scrolled": true
   },
   "outputs": [
    {
     "name": "stdout",
     "output_type": "stream",
     "text": [
      "(60.0, 65.0]      374\n",
      "(52.0, 60.0]      356\n",
      "(25.999, 52.0]    348\n",
      "(71.2, 92.0]      340\n",
      "(65.0, 71.2]      282\n",
      "Name: Age category, dtype: int64\n",
      "(-0.001, 120.0]    550\n",
      "(140.0, 160.0]     358\n",
      "(120.0, 130.0]     299\n",
      "(130.0, 140.0]     296\n",
      "(160.0, 260.0]     197\n",
      "Name: systolic_blood_pressure_by_ICU_in_mmHg category, dtype: int64\n",
      "(74.0, 80.0]      562\n",
      "(-0.001, 74.0]    342\n",
      "(89.0, 92.0]      335\n",
      "(92.0, 190.0]     332\n",
      "(80.0, 89.0]      129\n",
      "Name: diastolic_blood_pressure_by_ICU_in_mmHg category, dtype: int64\n",
      "(1.999, 4.0]    1306\n",
      "(4.0, 5.0]       315\n",
      "(5.0, 8.0]        79\n",
      "Name: serum_potassium_content category, dtype: int64\n",
      "(133.0, 136.0]      435\n",
      "(116.999, 133.0]    419\n",
      "(138.0, 140.0]      284\n",
      "(140.0, 169.0]      284\n",
      "(136.0, 138.0]      278\n",
      "Name: serum_sodium_content category, dtype: int64\n",
      "(-0.001, 1.0]    1648\n",
      "(1.0, 3.0]         52\n",
      "Name: serum_AlAT_content category, dtype: int64\n",
      "(-0.001, 2.0]    1700\n",
      "Name: serum_AsAT_content category, dtype: int64\n",
      "(6.0, 8.0]      508\n",
      "(1.999, 6.0]    423\n",
      "(11.0, 28.0]    299\n",
      "(9.0, 11.0]     266\n",
      "(8.0, 9.0]      204\n",
      "Name: white_blood_cell_count_in_billions_per_liter category, dtype: int64\n",
      "(0.999, 5.0]     401\n",
      "(13.0, 20.0]     362\n",
      "(9.0, 13.0]      317\n",
      "(5.0, 9.0]       315\n",
      "(20.0, 140.0]    305\n",
      "Name: erythrocyte_sedimentation_rate category, dtype: int64\n"
     ]
    }
   ],
   "source": [
    "pd.reset_option('mode.chained_assignment')\n",
    "\n",
    "for col in binned_real_df:\n",
    "    print(binned_real_df[col].value_counts())"
   ]
  },
  {
   "cell_type": "markdown",
   "id": "90fdb367",
   "metadata": {},
   "source": [
    "<a id=\"Real_one-hot_encoding\"></a>"
   ]
  },
  {
   "cell_type": "markdown",
   "id": "7a01f23a",
   "metadata": {},
   "source": [
    "#### 3.2.2.3 Real One-Hot Encoding"
   ]
  },
  {
   "cell_type": "code",
   "execution_count": 62,
   "id": "e50f7972",
   "metadata": {},
   "outputs": [
    {
     "data": {
      "text/html": [
       "<div>\n",
       "<style scoped>\n",
       "    .dataframe tbody tr th:only-of-type {\n",
       "        vertical-align: middle;\n",
       "    }\n",
       "\n",
       "    .dataframe tbody tr th {\n",
       "        vertical-align: top;\n",
       "    }\n",
       "\n",
       "    .dataframe thead th {\n",
       "        text-align: right;\n",
       "    }\n",
       "</style>\n",
       "<table border=\"1\" class=\"dataframe\">\n",
       "  <thead>\n",
       "    <tr style=\"text-align: right;\">\n",
       "      <th></th>\n",
       "      <th>Age_(25.999, 52.0]</th>\n",
       "      <th>Age_(52.0, 60.0]</th>\n",
       "      <th>Age_(60.0, 65.0]</th>\n",
       "      <th>Age_(65.0, 71.2]</th>\n",
       "      <th>Age_(71.2, 92.0]</th>\n",
       "      <th>systolic_blood_pressure_by_ICU_in_mmHg_(-0.001, 120.0]</th>\n",
       "      <th>systolic_blood_pressure_by_ICU_in_mmHg_(120.0, 130.0]</th>\n",
       "      <th>systolic_blood_pressure_by_ICU_in_mmHg_(130.0, 140.0]</th>\n",
       "      <th>systolic_blood_pressure_by_ICU_in_mmHg_(140.0, 160.0]</th>\n",
       "      <th>systolic_blood_pressure_by_ICU_in_mmHg_(160.0, 260.0]</th>\n",
       "      <th>...</th>\n",
       "      <th>white_blood_cell_count_in_billions_per_liter_(1.999, 6.0]</th>\n",
       "      <th>white_blood_cell_count_in_billions_per_liter_(6.0, 8.0]</th>\n",
       "      <th>white_blood_cell_count_in_billions_per_liter_(8.0, 9.0]</th>\n",
       "      <th>white_blood_cell_count_in_billions_per_liter_(9.0, 11.0]</th>\n",
       "      <th>white_blood_cell_count_in_billions_per_liter_(11.0, 28.0]</th>\n",
       "      <th>erythrocyte_sedimentation_rate_(0.999, 5.0]</th>\n",
       "      <th>erythrocyte_sedimentation_rate_(5.0, 9.0]</th>\n",
       "      <th>erythrocyte_sedimentation_rate_(9.0, 13.0]</th>\n",
       "      <th>erythrocyte_sedimentation_rate_(13.0, 20.0]</th>\n",
       "      <th>erythrocyte_sedimentation_rate_(20.0, 140.0]</th>\n",
       "    </tr>\n",
       "  </thead>\n",
       "  <tbody>\n",
       "    <tr>\n",
       "      <th>0</th>\n",
       "      <td>0.0</td>\n",
       "      <td>0.0</td>\n",
       "      <td>0.0</td>\n",
       "      <td>0.0</td>\n",
       "      <td>1.0</td>\n",
       "      <td>0.0</td>\n",
       "      <td>0.0</td>\n",
       "      <td>0.0</td>\n",
       "      <td>0.0</td>\n",
       "      <td>1.0</td>\n",
       "      <td>...</td>\n",
       "      <td>0.0</td>\n",
       "      <td>1.0</td>\n",
       "      <td>0.0</td>\n",
       "      <td>0.0</td>\n",
       "      <td>0.0</td>\n",
       "      <td>0.0</td>\n",
       "      <td>0.0</td>\n",
       "      <td>0.0</td>\n",
       "      <td>1.0</td>\n",
       "      <td>0.0</td>\n",
       "    </tr>\n",
       "    <tr>\n",
       "      <th>1</th>\n",
       "      <td>0.0</td>\n",
       "      <td>1.0</td>\n",
       "      <td>0.0</td>\n",
       "      <td>0.0</td>\n",
       "      <td>0.0</td>\n",
       "      <td>1.0</td>\n",
       "      <td>0.0</td>\n",
       "      <td>0.0</td>\n",
       "      <td>0.0</td>\n",
       "      <td>0.0</td>\n",
       "      <td>...</td>\n",
       "      <td>0.0</td>\n",
       "      <td>1.0</td>\n",
       "      <td>0.0</td>\n",
       "      <td>0.0</td>\n",
       "      <td>0.0</td>\n",
       "      <td>1.0</td>\n",
       "      <td>0.0</td>\n",
       "      <td>0.0</td>\n",
       "      <td>0.0</td>\n",
       "      <td>0.0</td>\n",
       "    </tr>\n",
       "    <tr>\n",
       "      <th>2</th>\n",
       "      <td>1.0</td>\n",
       "      <td>0.0</td>\n",
       "      <td>0.0</td>\n",
       "      <td>0.0</td>\n",
       "      <td>0.0</td>\n",
       "      <td>0.0</td>\n",
       "      <td>0.0</td>\n",
       "      <td>0.0</td>\n",
       "      <td>0.0</td>\n",
       "      <td>1.0</td>\n",
       "      <td>...</td>\n",
       "      <td>0.0</td>\n",
       "      <td>0.0</td>\n",
       "      <td>0.0</td>\n",
       "      <td>1.0</td>\n",
       "      <td>0.0</td>\n",
       "      <td>0.0</td>\n",
       "      <td>1.0</td>\n",
       "      <td>0.0</td>\n",
       "      <td>0.0</td>\n",
       "      <td>0.0</td>\n",
       "    </tr>\n",
       "    <tr>\n",
       "      <th>3</th>\n",
       "      <td>0.0</td>\n",
       "      <td>0.0</td>\n",
       "      <td>0.0</td>\n",
       "      <td>1.0</td>\n",
       "      <td>0.0</td>\n",
       "      <td>1.0</td>\n",
       "      <td>0.0</td>\n",
       "      <td>0.0</td>\n",
       "      <td>0.0</td>\n",
       "      <td>0.0</td>\n",
       "      <td>...</td>\n",
       "      <td>0.0</td>\n",
       "      <td>0.0</td>\n",
       "      <td>1.0</td>\n",
       "      <td>0.0</td>\n",
       "      <td>0.0</td>\n",
       "      <td>0.0</td>\n",
       "      <td>0.0</td>\n",
       "      <td>0.0</td>\n",
       "      <td>1.0</td>\n",
       "      <td>0.0</td>\n",
       "    </tr>\n",
       "    <tr>\n",
       "      <th>4</th>\n",
       "      <td>0.0</td>\n",
       "      <td>1.0</td>\n",
       "      <td>0.0</td>\n",
       "      <td>0.0</td>\n",
       "      <td>0.0</td>\n",
       "      <td>0.0</td>\n",
       "      <td>0.0</td>\n",
       "      <td>0.0</td>\n",
       "      <td>1.0</td>\n",
       "      <td>0.0</td>\n",
       "      <td>...</td>\n",
       "      <td>0.0</td>\n",
       "      <td>1.0</td>\n",
       "      <td>0.0</td>\n",
       "      <td>0.0</td>\n",
       "      <td>0.0</td>\n",
       "      <td>0.0</td>\n",
       "      <td>0.0</td>\n",
       "      <td>0.0</td>\n",
       "      <td>1.0</td>\n",
       "      <td>0.0</td>\n",
       "    </tr>\n",
       "  </tbody>\n",
       "</table>\n",
       "<p>5 rows × 36 columns</p>\n",
       "</div>"
      ],
      "text/plain": [
       "   Age_(25.999, 52.0]  Age_(52.0, 60.0]  Age_(60.0, 65.0]  Age_(65.0, 71.2]  \\\n",
       "0                 0.0               0.0               0.0               0.0   \n",
       "1                 0.0               1.0               0.0               0.0   \n",
       "2                 1.0               0.0               0.0               0.0   \n",
       "3                 0.0               0.0               0.0               1.0   \n",
       "4                 0.0               1.0               0.0               0.0   \n",
       "\n",
       "   Age_(71.2, 92.0]  systolic_blood_pressure_by_ICU_in_mmHg_(-0.001, 120.0]  \\\n",
       "0               1.0                                                0.0        \n",
       "1               0.0                                                1.0        \n",
       "2               0.0                                                0.0        \n",
       "3               0.0                                                1.0        \n",
       "4               0.0                                                0.0        \n",
       "\n",
       "   systolic_blood_pressure_by_ICU_in_mmHg_(120.0, 130.0]  \\\n",
       "0                                                0.0       \n",
       "1                                                0.0       \n",
       "2                                                0.0       \n",
       "3                                                0.0       \n",
       "4                                                0.0       \n",
       "\n",
       "   systolic_blood_pressure_by_ICU_in_mmHg_(130.0, 140.0]  \\\n",
       "0                                                0.0       \n",
       "1                                                0.0       \n",
       "2                                                0.0       \n",
       "3                                                0.0       \n",
       "4                                                0.0       \n",
       "\n",
       "   systolic_blood_pressure_by_ICU_in_mmHg_(140.0, 160.0]  \\\n",
       "0                                                0.0       \n",
       "1                                                0.0       \n",
       "2                                                0.0       \n",
       "3                                                0.0       \n",
       "4                                                1.0       \n",
       "\n",
       "   systolic_blood_pressure_by_ICU_in_mmHg_(160.0, 260.0]  ...  \\\n",
       "0                                                1.0      ...   \n",
       "1                                                0.0      ...   \n",
       "2                                                1.0      ...   \n",
       "3                                                0.0      ...   \n",
       "4                                                0.0      ...   \n",
       "\n",
       "   white_blood_cell_count_in_billions_per_liter_(1.999, 6.0]  \\\n",
       "0                                                0.0           \n",
       "1                                                0.0           \n",
       "2                                                0.0           \n",
       "3                                                0.0           \n",
       "4                                                0.0           \n",
       "\n",
       "   white_blood_cell_count_in_billions_per_liter_(6.0, 8.0]  \\\n",
       "0                                                1.0         \n",
       "1                                                1.0         \n",
       "2                                                0.0         \n",
       "3                                                0.0         \n",
       "4                                                1.0         \n",
       "\n",
       "   white_blood_cell_count_in_billions_per_liter_(8.0, 9.0]  \\\n",
       "0                                                0.0         \n",
       "1                                                0.0         \n",
       "2                                                0.0         \n",
       "3                                                1.0         \n",
       "4                                                0.0         \n",
       "\n",
       "   white_blood_cell_count_in_billions_per_liter_(9.0, 11.0]  \\\n",
       "0                                                0.0          \n",
       "1                                                0.0          \n",
       "2                                                1.0          \n",
       "3                                                0.0          \n",
       "4                                                0.0          \n",
       "\n",
       "   white_blood_cell_count_in_billions_per_liter_(11.0, 28.0]  \\\n",
       "0                                                0.0           \n",
       "1                                                0.0           \n",
       "2                                                0.0           \n",
       "3                                                0.0           \n",
       "4                                                0.0           \n",
       "\n",
       "   erythrocyte_sedimentation_rate_(0.999, 5.0]  \\\n",
       "0                                          0.0   \n",
       "1                                          1.0   \n",
       "2                                          0.0   \n",
       "3                                          0.0   \n",
       "4                                          0.0   \n",
       "\n",
       "   erythrocyte_sedimentation_rate_(5.0, 9.0]  \\\n",
       "0                                        0.0   \n",
       "1                                        0.0   \n",
       "2                                        1.0   \n",
       "3                                        0.0   \n",
       "4                                        0.0   \n",
       "\n",
       "   erythrocyte_sedimentation_rate_(9.0, 13.0]  \\\n",
       "0                                         0.0   \n",
       "1                                         0.0   \n",
       "2                                         0.0   \n",
       "3                                         0.0   \n",
       "4                                         0.0   \n",
       "\n",
       "   erythrocyte_sedimentation_rate_(13.0, 20.0]  \\\n",
       "0                                          1.0   \n",
       "1                                          0.0   \n",
       "2                                          0.0   \n",
       "3                                          1.0   \n",
       "4                                          1.0   \n",
       "\n",
       "   erythrocyte_sedimentation_rate_(20.0, 140.0]  \n",
       "0                                           0.0  \n",
       "1                                           0.0  \n",
       "2                                           0.0  \n",
       "3                                           0.0  \n",
       "4                                           0.0  \n",
       "\n",
       "[5 rows x 36 columns]"
      ]
     },
     "execution_count": 62,
     "metadata": {},
     "output_type": "execute_result"
    }
   ],
   "source": [
    "real_encoded = one_hot(real_df, real_cols)\n",
    "real_encoded.head()"
   ]
  },
  {
   "cell_type": "code",
   "execution_count": 63,
   "id": "2a55671b",
   "metadata": {},
   "outputs": [
    {
     "name": "stdout",
     "output_type": "stream",
     "text": [
      "Number of features in real_encoded: 36\n"
     ]
    }
   ],
   "source": [
    "print('Number of features in real_encoded:', real_encoded.shape[1])"
   ]
  },
  {
   "cell_type": "markdown",
   "id": "5d1c3a7b",
   "metadata": {},
   "source": [
    "<a id=\"Admissions_one-hot_encoding\"></a>"
   ]
  },
  {
   "cell_type": "markdown",
   "id": "7ce19417",
   "metadata": {},
   "source": [
    "#### 3.2.2.4 Admissions One-Hot Encoding"
   ]
  },
  {
   "cell_type": "code",
   "execution_count": 64,
   "id": "70f4f414",
   "metadata": {},
   "outputs": [
    {
     "data": {
      "text/html": [
       "<div>\n",
       "<style scoped>\n",
       "    .dataframe tbody tr th:only-of-type {\n",
       "        vertical-align: middle;\n",
       "    }\n",
       "\n",
       "    .dataframe tbody tr th {\n",
       "        vertical-align: top;\n",
       "    }\n",
       "\n",
       "    .dataframe thead th {\n",
       "        text-align: right;\n",
       "    }\n",
       "</style>\n",
       "<table border=\"1\" class=\"dataframe\">\n",
       "  <thead>\n",
       "    <tr style=\"text-align: right;\">\n",
       "      <th></th>\n",
       "      <th>Sex_0</th>\n",
       "      <th>Sex_1</th>\n",
       "      <th>num_MI_in_anam_0</th>\n",
       "      <th>num_MI_in_anam_1</th>\n",
       "      <th>num_MI_in_anam_2</th>\n",
       "      <th>num_MI_in_anam_3</th>\n",
       "      <th>exertional_angina_pectoris_in_anam_0</th>\n",
       "      <th>exertional_angina_pectoris_in_anam_1</th>\n",
       "      <th>exertional_angina_pectoris_in_anam_2</th>\n",
       "      <th>exertional_angina_pectoris_in_anam_3</th>\n",
       "      <th>...</th>\n",
       "      <th>use_of_calcium_channel_blockers_in_ICU_0</th>\n",
       "      <th>use_of_calcium_channel_blockers_in_ICU_1</th>\n",
       "      <th>use_of_heparin_in_ICU_0</th>\n",
       "      <th>use_of_heparin_in_ICU_1</th>\n",
       "      <th>use_of_acetylsalicylic_acid_in_ICU_0</th>\n",
       "      <th>use_of_acetylsalicylic_acid_in_ICU_1</th>\n",
       "      <th>use_of_ticlid_in_ICU_0</th>\n",
       "      <th>use_of_ticlid_in_ICU_1</th>\n",
       "      <th>use_of_trental_in_ICU_0</th>\n",
       "      <th>use_of_trental_in_ICU_1</th>\n",
       "    </tr>\n",
       "  </thead>\n",
       "  <tbody>\n",
       "    <tr>\n",
       "      <th>0</th>\n",
       "      <td>0.0</td>\n",
       "      <td>1.0</td>\n",
       "      <td>0.0</td>\n",
       "      <td>0.0</td>\n",
       "      <td>1.0</td>\n",
       "      <td>0.0</td>\n",
       "      <td>0.0</td>\n",
       "      <td>1.0</td>\n",
       "      <td>0.0</td>\n",
       "      <td>0.0</td>\n",
       "      <td>...</td>\n",
       "      <td>1.0</td>\n",
       "      <td>0.0</td>\n",
       "      <td>0.0</td>\n",
       "      <td>1.0</td>\n",
       "      <td>0.0</td>\n",
       "      <td>1.0</td>\n",
       "      <td>1.0</td>\n",
       "      <td>0.0</td>\n",
       "      <td>1.0</td>\n",
       "      <td>0.0</td>\n",
       "    </tr>\n",
       "    <tr>\n",
       "      <th>1</th>\n",
       "      <td>0.0</td>\n",
       "      <td>1.0</td>\n",
       "      <td>0.0</td>\n",
       "      <td>1.0</td>\n",
       "      <td>0.0</td>\n",
       "      <td>0.0</td>\n",
       "      <td>1.0</td>\n",
       "      <td>0.0</td>\n",
       "      <td>0.0</td>\n",
       "      <td>0.0</td>\n",
       "      <td>...</td>\n",
       "      <td>0.0</td>\n",
       "      <td>1.0</td>\n",
       "      <td>0.0</td>\n",
       "      <td>1.0</td>\n",
       "      <td>0.0</td>\n",
       "      <td>1.0</td>\n",
       "      <td>1.0</td>\n",
       "      <td>0.0</td>\n",
       "      <td>0.0</td>\n",
       "      <td>1.0</td>\n",
       "    </tr>\n",
       "    <tr>\n",
       "      <th>2</th>\n",
       "      <td>0.0</td>\n",
       "      <td>1.0</td>\n",
       "      <td>1.0</td>\n",
       "      <td>0.0</td>\n",
       "      <td>0.0</td>\n",
       "      <td>0.0</td>\n",
       "      <td>1.0</td>\n",
       "      <td>0.0</td>\n",
       "      <td>0.0</td>\n",
       "      <td>0.0</td>\n",
       "      <td>...</td>\n",
       "      <td>1.0</td>\n",
       "      <td>0.0</td>\n",
       "      <td>0.0</td>\n",
       "      <td>1.0</td>\n",
       "      <td>0.0</td>\n",
       "      <td>1.0</td>\n",
       "      <td>1.0</td>\n",
       "      <td>0.0</td>\n",
       "      <td>1.0</td>\n",
       "      <td>0.0</td>\n",
       "    </tr>\n",
       "    <tr>\n",
       "      <th>3</th>\n",
       "      <td>1.0</td>\n",
       "      <td>0.0</td>\n",
       "      <td>1.0</td>\n",
       "      <td>0.0</td>\n",
       "      <td>0.0</td>\n",
       "      <td>0.0</td>\n",
       "      <td>1.0</td>\n",
       "      <td>0.0</td>\n",
       "      <td>0.0</td>\n",
       "      <td>0.0</td>\n",
       "      <td>...</td>\n",
       "      <td>0.0</td>\n",
       "      <td>1.0</td>\n",
       "      <td>0.0</td>\n",
       "      <td>1.0</td>\n",
       "      <td>0.0</td>\n",
       "      <td>1.0</td>\n",
       "      <td>1.0</td>\n",
       "      <td>0.0</td>\n",
       "      <td>1.0</td>\n",
       "      <td>0.0</td>\n",
       "    </tr>\n",
       "    <tr>\n",
       "      <th>4</th>\n",
       "      <td>0.0</td>\n",
       "      <td>1.0</td>\n",
       "      <td>1.0</td>\n",
       "      <td>0.0</td>\n",
       "      <td>0.0</td>\n",
       "      <td>0.0</td>\n",
       "      <td>1.0</td>\n",
       "      <td>0.0</td>\n",
       "      <td>0.0</td>\n",
       "      <td>0.0</td>\n",
       "      <td>...</td>\n",
       "      <td>0.0</td>\n",
       "      <td>1.0</td>\n",
       "      <td>1.0</td>\n",
       "      <td>0.0</td>\n",
       "      <td>0.0</td>\n",
       "      <td>1.0</td>\n",
       "      <td>1.0</td>\n",
       "      <td>0.0</td>\n",
       "      <td>0.0</td>\n",
       "      <td>1.0</td>\n",
       "    </tr>\n",
       "  </tbody>\n",
       "</table>\n",
       "<p>5 rows × 215 columns</p>\n",
       "</div>"
      ],
      "text/plain": [
       "   Sex_0  Sex_1  num_MI_in_anam_0  num_MI_in_anam_1  num_MI_in_anam_2  \\\n",
       "0    0.0    1.0               0.0               0.0               1.0   \n",
       "1    0.0    1.0               0.0               1.0               0.0   \n",
       "2    0.0    1.0               1.0               0.0               0.0   \n",
       "3    1.0    0.0               1.0               0.0               0.0   \n",
       "4    0.0    1.0               1.0               0.0               0.0   \n",
       "\n",
       "   num_MI_in_anam_3  exertional_angina_pectoris_in_anam_0  \\\n",
       "0               0.0                                   0.0   \n",
       "1               0.0                                   1.0   \n",
       "2               0.0                                   1.0   \n",
       "3               0.0                                   1.0   \n",
       "4               0.0                                   1.0   \n",
       "\n",
       "   exertional_angina_pectoris_in_anam_1  exertional_angina_pectoris_in_anam_2  \\\n",
       "0                                   1.0                                   0.0   \n",
       "1                                   0.0                                   0.0   \n",
       "2                                   0.0                                   0.0   \n",
       "3                                   0.0                                   0.0   \n",
       "4                                   0.0                                   0.0   \n",
       "\n",
       "   exertional_angina_pectoris_in_anam_3  ...  \\\n",
       "0                                   0.0  ...   \n",
       "1                                   0.0  ...   \n",
       "2                                   0.0  ...   \n",
       "3                                   0.0  ...   \n",
       "4                                   0.0  ...   \n",
       "\n",
       "   use_of_calcium_channel_blockers_in_ICU_0  \\\n",
       "0                                       1.0   \n",
       "1                                       0.0   \n",
       "2                                       1.0   \n",
       "3                                       0.0   \n",
       "4                                       0.0   \n",
       "\n",
       "   use_of_calcium_channel_blockers_in_ICU_1  use_of_heparin_in_ICU_0  \\\n",
       "0                                       0.0                      0.0   \n",
       "1                                       1.0                      0.0   \n",
       "2                                       0.0                      0.0   \n",
       "3                                       1.0                      0.0   \n",
       "4                                       1.0                      1.0   \n",
       "\n",
       "   use_of_heparin_in_ICU_1  use_of_acetylsalicylic_acid_in_ICU_0  \\\n",
       "0                      1.0                                   0.0   \n",
       "1                      1.0                                   0.0   \n",
       "2                      1.0                                   0.0   \n",
       "3                      1.0                                   0.0   \n",
       "4                      0.0                                   0.0   \n",
       "\n",
       "   use_of_acetylsalicylic_acid_in_ICU_1  use_of_ticlid_in_ICU_0  \\\n",
       "0                                   1.0                     1.0   \n",
       "1                                   1.0                     1.0   \n",
       "2                                   1.0                     1.0   \n",
       "3                                   1.0                     1.0   \n",
       "4                                   1.0                     1.0   \n",
       "\n",
       "   use_of_ticlid_in_ICU_1  use_of_trental_in_ICU_0  use_of_trental_in_ICU_1  \n",
       "0                     0.0                      1.0                      0.0  \n",
       "1                     0.0                      0.0                      1.0  \n",
       "2                     0.0                      1.0                      0.0  \n",
       "3                     0.0                      1.0                      0.0  \n",
       "4                     0.0                      0.0                      1.0  \n",
       "\n",
       "[5 rows x 215 columns]"
      ]
     },
     "execution_count": 64,
     "metadata": {},
     "output_type": "execute_result"
    }
   ],
   "source": [
    "admission_cats_encoded = one_hot(admission_cats_df, admission_cols)\n",
    "admission_cats_encoded.head()"
   ]
  },
  {
   "cell_type": "code",
   "execution_count": 65,
   "id": "09cb4001",
   "metadata": {},
   "outputs": [
    {
     "name": "stdout",
     "output_type": "stream",
     "text": [
      "Number of features in admission_cats_encoded: 215\n"
     ]
    }
   ],
   "source": [
    "print('Number of features in admission_cats_encoded:', admission_cats_encoded.shape[1])"
   ]
  },
  {
   "cell_type": "markdown",
   "id": "51eb4bb6",
   "metadata": {},
   "source": [
    "<a id=\"Combining_categorical_and_real_data\"></a>"
   ]
  },
  {
   "cell_type": "markdown",
   "id": "50b6f88e",
   "metadata": {},
   "source": [
    "### 3.2.3 Combining Categorical and Real Data\n",
    "\n",
    "We'll combine the categorical and real dataframes for both the day three and admissions datasets, now that they're encoded appropriately for our machine learning model.\n",
    "\n",
    "After they're combined, we'll bring in the summed complications target column from earlier."
   ]
  },
  {
   "cell_type": "code",
   "execution_count": 66,
   "id": "4fd4cb31",
   "metadata": {},
   "outputs": [],
   "source": [
    "day_three_df = pd.concat([real_encoded, cats_encoded], axis=1)"
   ]
  },
  {
   "cell_type": "code",
   "execution_count": 67,
   "id": "a4843db0",
   "metadata": {},
   "outputs": [],
   "source": [
    "day_three_df['target'] = data['target']"
   ]
  },
  {
   "cell_type": "code",
   "execution_count": 68,
   "id": "b2c2113d",
   "metadata": {},
   "outputs": [
    {
     "data": {
      "text/plain": [
       "0    765\n",
       "1    639\n",
       "2    201\n",
       "3     74\n",
       "4     19\n",
       "5      2\n",
       "Name: target, dtype: int64"
      ]
     },
     "execution_count": 68,
     "metadata": {},
     "output_type": "execute_result"
    }
   ],
   "source": [
    "day_three_df['target'].value_counts()"
   ]
  },
  {
   "cell_type": "markdown",
   "id": "b8db8a24",
   "metadata": {},
   "source": [
    "#### A Note on Lethal Outcomes \n",
    "\n",
    "Because all the complications features are binary except for lethal outcomes, previously we summed them to get the target column. However, various lethal outcomes, represented by numbers 1 through 7, are also complications, so we need to include any instance of these in our target as well. \n",
    "\n",
    "We added the lethal_column category to the cat_cols list just above, so we could use one-hot encoding to create separate features to represent each of those 7 reasons for lethal outcome. We then can take these features and add them to our target. \n",
    "\n",
    "Once they're included in the target, we'll remove the lethal outcome columns so that just like the other complications, we're not creating data leakage in our modelling process.\n"
   ]
  },
  {
   "cell_type": "code",
   "execution_count": 69,
   "id": "9ffdf387",
   "metadata": {},
   "outputs": [],
   "source": [
    "lethal_outcomes_target = ['lethal_outcome_1', 'lethal_outcome_2', 'lethal_outcome_3', 'lethal_outcome_4', \n",
    "    'lethal_outcome_5', 'lethal_outcome_6', 'lethal_outcome_7', 'target']"
   ]
  },
  {
   "cell_type": "code",
   "execution_count": 70,
   "id": "110b07f0",
   "metadata": {},
   "outputs": [],
   "source": [
    "day_three_df['target'] = day_three_df[lethal_outcomes_target].sum(axis=1)"
   ]
  },
  {
   "cell_type": "code",
   "execution_count": 71,
   "id": "ef413948",
   "metadata": {},
   "outputs": [
    {
     "data": {
      "text/plain": [
       "0.0    663\n",
       "1.0    636\n",
       "2.0    269\n",
       "3.0     89\n",
       "4.0     36\n",
       "5.0      7\n",
       "Name: target, dtype: int64"
      ]
     },
     "execution_count": 71,
     "metadata": {},
     "output_type": "execute_result"
    }
   ],
   "source": [
    "day_three_df['target'].value_counts()"
   ]
  },
  {
   "cell_type": "code",
   "execution_count": 72,
   "id": "469cf991",
   "metadata": {},
   "outputs": [],
   "source": [
    "lethal_outcomes = ['lethal_outcome_1', 'lethal_outcome_2', 'lethal_outcome_3', 'lethal_outcome_4', \n",
    "    'lethal_outcome_5', 'lethal_outcome_6', 'lethal_outcome_7']"
   ]
  },
  {
   "cell_type": "code",
   "execution_count": 73,
   "id": "a97029b7",
   "metadata": {},
   "outputs": [],
   "source": [
    "day_three_df = day_three_df.drop(columns=lethal_outcomes)"
   ]
  },
  {
   "cell_type": "code",
   "execution_count": 74,
   "id": "89241e56",
   "metadata": {},
   "outputs": [],
   "source": [
    "admission_df = pd.concat([real_encoded, admission_cats_encoded], axis=1)"
   ]
  },
  {
   "cell_type": "code",
   "execution_count": 75,
   "id": "12816583",
   "metadata": {},
   "outputs": [],
   "source": [
    "admission_df['target'] = day_three_df['target']"
   ]
  },
  {
   "cell_type": "code",
   "execution_count": 76,
   "id": "defa2ce6",
   "metadata": {},
   "outputs": [
    {
     "data": {
      "text/plain": [
       "(1700, 288)"
      ]
     },
     "execution_count": 76,
     "metadata": {},
     "output_type": "execute_result"
    }
   ],
   "source": [
    "day_three_df.shape"
   ]
  },
  {
   "cell_type": "code",
   "execution_count": 77,
   "id": "90740924",
   "metadata": {},
   "outputs": [
    {
     "data": {
      "text/plain": [
       "(1700, 252)"
      ]
     },
     "execution_count": 77,
     "metadata": {},
     "output_type": "execute_result"
    }
   ],
   "source": [
    "admission_df.shape"
   ]
  },
  {
   "cell_type": "markdown",
   "id": "b0eb1fd8",
   "metadata": {},
   "source": [
    "<a id=\"Feature_selection\"></a>"
   ]
  },
  {
   "cell_type": "markdown",
   "id": "f2e43c91",
   "metadata": {},
   "source": [
    "## 3.3 Feature Selection\n"
   ]
  },
  {
   "cell_type": "markdown",
   "id": "f976c224",
   "metadata": {},
   "source": [
    "Our goal here will be to select only the features that are only strongly correlated to the target, based on a threshold we specify. \n",
    "\n",
    "First, let's make a function that will allow us to easily apply this logic to each dataframe. By specifying the threshold value when we call this function, we can quickly obtain new combinations of features to feed to the models. \n"
   ]
  },
  {
   "cell_type": "code",
   "execution_count": 78,
   "id": "ae0a8cef",
   "metadata": {},
   "outputs": [],
   "source": [
    "def get_best_corrs(df, thresh):\n",
    "    corr_no_nan = df.corr().abs()\n",
    "    sorted_corrs = corr_no_nan['target'].sort_values(ascending=False)\n",
    "\n",
    "    best_corrs = sorted_corrs[sorted_corrs > thresh]\n",
    "    return best_corrs"
   ]
  },
  {
   "cell_type": "markdown",
   "id": "8c774c03",
   "metadata": {},
   "source": [
    "<a id=\"Day_three_feature_selection\"></a>"
   ]
  },
  {
   "cell_type": "markdown",
   "id": "66f25e7a",
   "metadata": {},
   "source": [
    "### 3.3.1 Day Three Feature Selection"
   ]
  },
  {
   "cell_type": "code",
   "execution_count": 79,
   "id": "2462a090",
   "metadata": {
    "scrolled": true
   },
   "outputs": [],
   "source": [
    "day_three_best = get_best_corrs(day_three_df, 0.1)"
   ]
  },
  {
   "cell_type": "code",
   "execution_count": 80,
   "id": "1caa78d7",
   "metadata": {},
   "outputs": [
    {
     "data": {
      "text/plain": [
       "target                                                            1.000000\n",
       "use_of_liquid_nitrates_in_ICU_0                                   0.233374\n",
       "use_of_liquid_nitrates_in_ICU_1                                   0.233374\n",
       "use_of_opioid_drugs_in_ICU_in_first_hours_of_hospital_period_0    0.211023\n",
       "relapse_of_pain_in_third_day_of_hospital_period_0                 0.195864\n",
       "use_of_opioid_drugs_in_ICU_in_third_day_of_hospital_period_0      0.192974\n",
       "Age_(25.999, 52.0]                                                0.192209\n",
       "presence_of_anterior_MI_by_ECG_1                                  0.178971\n",
       "obstructive_chronic_bronchitis_in_anam_1                          0.174425\n",
       "obstructive_chronic_bronchitis_in_anam_0                          0.174425\n",
       "relapse_of_pain_in_first_hours_of_hospital_period_0               0.174411\n",
       "chronic_heart_failure_in_anam_0                                   0.172622\n",
       "use_of_opioid_drugs_in_ICU_in_second_day_of_hospital_period_0     0.163572\n",
       "use_of_opioid_drugs_in_ICU_in_third_day_of_hospital_period_1      0.159935\n",
       "relapse_of_pain_in_third_day_of_hospital_period_1                 0.158015\n",
       "Age_(71.2, 92.0]                                                  0.153501\n",
       "use_of_opioid_drugs_in_ICU_in_second_day_of_hospital_period_2     0.152834\n",
       "sinus_ECG_rhythm_at_admission_with_HR_60-90_1                     0.151639\n",
       "sinus_ECG_rhythm_at_admission_with_HR_60-90_0                     0.151639\n",
       "Sex_1                                                             0.150963\n",
       "Sex_0                                                             0.150963\n",
       "use_of_opioid_drugs_in_ICU_in_first_hours_of_hospital_period_2    0.146864\n",
       "chronic_heart_failure_in_anam_1                                   0.143772\n",
       "presence_of_lateral_MI_by_ECG_2                                   0.141477\n",
       "relapse_of_pain_in_first_hours_of_hospital_period_1               0.139658\n",
       "functional_class_of_angina_pectoris_in_last_year_0                0.139022\n",
       "presence_of_anterior_MI_by_ECG_4                                  0.136860\n",
       "time_from_beginning_of_attack_of_CHD_to_hospital_9                0.136739\n",
       "exertional_angina_pectoris_in_anam_0                              0.136623\n",
       "paroxysms_of_atrial_fibrillation_at_admission_to_ICU_0            0.136009\n",
       "paroxysms_of_atrial_fibrillation_at_admission_to_ICU_1            0.136009\n",
       "diastolic_blood_pressure_by_ICU_in_mmHg_(-0.001, 74.0]            0.134338\n",
       "relapse_of_pain_in_second_day_of_hospital_period_0                0.131567\n",
       "paroxysms_of_atrial_fibrillation_on_ECG_at_admission_0            0.125982\n",
       "paroxysms_of_atrial_fibrillation_on_ECG_at_admission_1            0.125982\n",
       "relapse_of_pain_in_third_day_of_hospital_period_2                 0.123220\n",
       "diabetes_in_anam_1                                                0.121369\n",
       "diabetes_in_anam_0                                                0.121369\n",
       "atrial_fibrillation_ECG_rhythm_at_admission_1                     0.120378\n",
       "atrial_fibrillation_ECG_rhythm_at_admission_0                     0.120378\n",
       "exertional_angina_pectoris_in_anam_6                              0.120267\n",
       "presence_of_right_ventricular_MI_1                                0.115435\n",
       "presence_of_right_ventricular_MI_0                                0.115435\n",
       "duration_of_arterial_hypertension_7                               0.112899\n",
       "use_of_opioid_drugs_in_ICU_in_third_day_of_hospital_period_2      0.107515\n",
       "essential_hypertension_3                                          0.106756\n",
       "white_blood_cell_count_in_billions_per_liter_(11.0, 28.0]         0.106089\n",
       "use_of_opioid_drugs_in_ICU_in_first_hours_of_hospital_period_3    0.105615\n",
       "relapse_of_pain_in_second_day_of_hospital_period_2                0.103377\n",
       "functional_class_of_angina_pectoris_in_last_year_2                0.101664\n",
       "duration_of_arterial_hypertension_1                               0.100022\n",
       "Name: target, dtype: float64"
      ]
     },
     "execution_count": 80,
     "metadata": {},
     "output_type": "execute_result"
    }
   ],
   "source": [
    "day_three_best"
   ]
  },
  {
   "cell_type": "markdown",
   "id": "015c323d",
   "metadata": {},
   "source": [
    "<a id=\"Admission_feature_selection\"></a>"
   ]
  },
  {
   "cell_type": "markdown",
   "id": "70db1a4e",
   "metadata": {},
   "source": [
    "### 3.3.2 Admission Feature Selection"
   ]
  },
  {
   "cell_type": "code",
   "execution_count": 81,
   "id": "e19abd15",
   "metadata": {},
   "outputs": [],
   "source": [
    "admission_best = get_best_corrs(admission_df, 0.1)"
   ]
  },
  {
   "cell_type": "code",
   "execution_count": 82,
   "id": "4a1d76b2",
   "metadata": {},
   "outputs": [
    {
     "data": {
      "text/plain": [
       "target                                                       1.000000\n",
       "use_of_liquid_nitrates_in_ICU_0                              0.233374\n",
       "use_of_liquid_nitrates_in_ICU_1                              0.233374\n",
       "Age_(25.999, 52.0]                                           0.192209\n",
       "presence_of_anterior_MI_by_ECG_1                             0.178971\n",
       "obstructive_chronic_bronchitis_in_anam_1                     0.174425\n",
       "obstructive_chronic_bronchitis_in_anam_0                     0.174425\n",
       "chronic_heart_failure_in_anam_0                              0.172622\n",
       "Age_(71.2, 92.0]                                             0.153501\n",
       "sinus_ECG_rhythm_at_admission_with_HR_60-90_1                0.151639\n",
       "sinus_ECG_rhythm_at_admission_with_HR_60-90_0                0.151639\n",
       "Sex_1                                                        0.150963\n",
       "Sex_0                                                        0.150963\n",
       "chronic_heart_failure_in_anam_1                              0.143772\n",
       "presence_of_lateral_MI_by_ECG_2                              0.141477\n",
       "functional_class_of_angina_pectoris_in_last_year_0           0.139022\n",
       "presence_of_anterior_MI_by_ECG_4                             0.136860\n",
       "time_from_beginning_of_attack_of_CHD_to_hospital_9           0.136739\n",
       "exertional_angina_pectoris_in_anam_0                         0.136623\n",
       "paroxysms_of_atrial_fibrillation_at_admission_to_ICU_0       0.136009\n",
       "paroxysms_of_atrial_fibrillation_at_admission_to_ICU_1       0.136009\n",
       "diastolic_blood_pressure_by_ICU_in_mmHg_(-0.001, 74.0]       0.134338\n",
       "paroxysms_of_atrial_fibrillation_on_ECG_at_admission_0       0.125982\n",
       "paroxysms_of_atrial_fibrillation_on_ECG_at_admission_1       0.125982\n",
       "diabetes_in_anam_1                                           0.121369\n",
       "diabetes_in_anam_0                                           0.121369\n",
       "atrial_fibrillation_ECG_rhythm_at_admission_1                0.120378\n",
       "atrial_fibrillation_ECG_rhythm_at_admission_0                0.120378\n",
       "exertional_angina_pectoris_in_anam_6                         0.120267\n",
       "presence_of_right_ventricular_MI_1                           0.115435\n",
       "presence_of_right_ventricular_MI_0                           0.115435\n",
       "duration_of_arterial_hypertension_7                          0.112899\n",
       "essential_hypertension_3                                     0.106756\n",
       "white_blood_cell_count_in_billions_per_liter_(11.0, 28.0]    0.106089\n",
       "functional_class_of_angina_pectoris_in_last_year_2           0.101664\n",
       "duration_of_arterial_hypertension_1                          0.100022\n",
       "Name: target, dtype: float64"
      ]
     },
     "execution_count": 82,
     "metadata": {},
     "output_type": "execute_result"
    }
   ],
   "source": [
    "admission_best"
   ]
  },
  {
   "cell_type": "markdown",
   "id": "eca2aad6",
   "metadata": {},
   "source": [
    "Interesting! A history of obstructive chronic bronchitis has a significant relationship with the target. This seems to indicate the strength of the relationship biologically between the respiratory and cardiovascular systems. Age also shows up, along with myocardial infarctions (heart attacks) detected by ECG, which would be expected. \n",
    "\n",
    "The strongest correlation comes from the use of liquid nitrates in the ICU; this might indicate a treatment that is used for patients who are in dire circumstances. \n",
    "\n",
    "In the day three dataset, we see significant relationships between various pain markers and the target as well, which might be helpful in understanding the risk a patient faces if they're in a significant amount of pain while at the hospital.\n",
    "\n",
    "Interestingly, blood pressure did not have a significant correlation to complications from heart attack. More domain knowledge might be helpful here to determine why not."
   ]
  },
  {
   "cell_type": "code",
   "execution_count": 83,
   "id": "490de6f4",
   "metadata": {},
   "outputs": [],
   "source": [
    "d3_features = list(day_three_best.index)\n",
    "d3_features.remove('target')\n",
    "\n",
    "admission_features = list(admission_best.index)\n",
    "admission_features.remove('target')"
   ]
  },
  {
   "cell_type": "code",
   "execution_count": 84,
   "id": "e534b801",
   "metadata": {
    "scrolled": true
   },
   "outputs": [
    {
     "data": {
      "text/plain": [
       "['use_of_liquid_nitrates_in_ICU_0',\n",
       " 'use_of_liquid_nitrates_in_ICU_1',\n",
       " 'use_of_opioid_drugs_in_ICU_in_first_hours_of_hospital_period_0',\n",
       " 'relapse_of_pain_in_third_day_of_hospital_period_0',\n",
       " 'use_of_opioid_drugs_in_ICU_in_third_day_of_hospital_period_0',\n",
       " 'Age_(25.999, 52.0]',\n",
       " 'presence_of_anterior_MI_by_ECG_1',\n",
       " 'obstructive_chronic_bronchitis_in_anam_1',\n",
       " 'obstructive_chronic_bronchitis_in_anam_0',\n",
       " 'relapse_of_pain_in_first_hours_of_hospital_period_0',\n",
       " 'chronic_heart_failure_in_anam_0',\n",
       " 'use_of_opioid_drugs_in_ICU_in_second_day_of_hospital_period_0',\n",
       " 'use_of_opioid_drugs_in_ICU_in_third_day_of_hospital_period_1',\n",
       " 'relapse_of_pain_in_third_day_of_hospital_period_1',\n",
       " 'Age_(71.2, 92.0]',\n",
       " 'use_of_opioid_drugs_in_ICU_in_second_day_of_hospital_period_2',\n",
       " 'sinus_ECG_rhythm_at_admission_with_HR_60-90_1',\n",
       " 'sinus_ECG_rhythm_at_admission_with_HR_60-90_0',\n",
       " 'Sex_1',\n",
       " 'Sex_0',\n",
       " 'use_of_opioid_drugs_in_ICU_in_first_hours_of_hospital_period_2',\n",
       " 'chronic_heart_failure_in_anam_1',\n",
       " 'presence_of_lateral_MI_by_ECG_2',\n",
       " 'relapse_of_pain_in_first_hours_of_hospital_period_1',\n",
       " 'functional_class_of_angina_pectoris_in_last_year_0',\n",
       " 'presence_of_anterior_MI_by_ECG_4',\n",
       " 'time_from_beginning_of_attack_of_CHD_to_hospital_9',\n",
       " 'exertional_angina_pectoris_in_anam_0',\n",
       " 'paroxysms_of_atrial_fibrillation_at_admission_to_ICU_0',\n",
       " 'paroxysms_of_atrial_fibrillation_at_admission_to_ICU_1',\n",
       " 'diastolic_blood_pressure_by_ICU_in_mmHg_(-0.001, 74.0]',\n",
       " 'relapse_of_pain_in_second_day_of_hospital_period_0',\n",
       " 'paroxysms_of_atrial_fibrillation_on_ECG_at_admission_0',\n",
       " 'paroxysms_of_atrial_fibrillation_on_ECG_at_admission_1',\n",
       " 'relapse_of_pain_in_third_day_of_hospital_period_2',\n",
       " 'diabetes_in_anam_1',\n",
       " 'diabetes_in_anam_0',\n",
       " 'atrial_fibrillation_ECG_rhythm_at_admission_1',\n",
       " 'atrial_fibrillation_ECG_rhythm_at_admission_0',\n",
       " 'exertional_angina_pectoris_in_anam_6',\n",
       " 'presence_of_right_ventricular_MI_1',\n",
       " 'presence_of_right_ventricular_MI_0',\n",
       " 'duration_of_arterial_hypertension_7',\n",
       " 'use_of_opioid_drugs_in_ICU_in_third_day_of_hospital_period_2',\n",
       " 'essential_hypertension_3',\n",
       " 'white_blood_cell_count_in_billions_per_liter_(11.0, 28.0]',\n",
       " 'use_of_opioid_drugs_in_ICU_in_first_hours_of_hospital_period_3',\n",
       " 'relapse_of_pain_in_second_day_of_hospital_period_2',\n",
       " 'functional_class_of_angina_pectoris_in_last_year_2',\n",
       " 'duration_of_arterial_hypertension_1']"
      ]
     },
     "execution_count": 84,
     "metadata": {},
     "output_type": "execute_result"
    }
   ],
   "source": [
    "d3_features"
   ]
  },
  {
   "cell_type": "code",
   "execution_count": 85,
   "id": "d6939be1",
   "metadata": {},
   "outputs": [
    {
     "data": {
      "text/plain": [
       "['use_of_liquid_nitrates_in_ICU_0',\n",
       " 'use_of_liquid_nitrates_in_ICU_1',\n",
       " 'Age_(25.999, 52.0]',\n",
       " 'presence_of_anterior_MI_by_ECG_1',\n",
       " 'obstructive_chronic_bronchitis_in_anam_1',\n",
       " 'obstructive_chronic_bronchitis_in_anam_0',\n",
       " 'chronic_heart_failure_in_anam_0',\n",
       " 'Age_(71.2, 92.0]',\n",
       " 'sinus_ECG_rhythm_at_admission_with_HR_60-90_1',\n",
       " 'sinus_ECG_rhythm_at_admission_with_HR_60-90_0',\n",
       " 'Sex_1',\n",
       " 'Sex_0',\n",
       " 'chronic_heart_failure_in_anam_1',\n",
       " 'presence_of_lateral_MI_by_ECG_2',\n",
       " 'functional_class_of_angina_pectoris_in_last_year_0',\n",
       " 'presence_of_anterior_MI_by_ECG_4',\n",
       " 'time_from_beginning_of_attack_of_CHD_to_hospital_9',\n",
       " 'exertional_angina_pectoris_in_anam_0',\n",
       " 'paroxysms_of_atrial_fibrillation_at_admission_to_ICU_0',\n",
       " 'paroxysms_of_atrial_fibrillation_at_admission_to_ICU_1',\n",
       " 'diastolic_blood_pressure_by_ICU_in_mmHg_(-0.001, 74.0]',\n",
       " 'paroxysms_of_atrial_fibrillation_on_ECG_at_admission_0',\n",
       " 'paroxysms_of_atrial_fibrillation_on_ECG_at_admission_1',\n",
       " 'diabetes_in_anam_1',\n",
       " 'diabetes_in_anam_0',\n",
       " 'atrial_fibrillation_ECG_rhythm_at_admission_1',\n",
       " 'atrial_fibrillation_ECG_rhythm_at_admission_0',\n",
       " 'exertional_angina_pectoris_in_anam_6',\n",
       " 'presence_of_right_ventricular_MI_1',\n",
       " 'presence_of_right_ventricular_MI_0',\n",
       " 'duration_of_arterial_hypertension_7',\n",
       " 'essential_hypertension_3',\n",
       " 'white_blood_cell_count_in_billions_per_liter_(11.0, 28.0]',\n",
       " 'functional_class_of_angina_pectoris_in_last_year_2',\n",
       " 'duration_of_arterial_hypertension_1']"
      ]
     },
     "execution_count": 85,
     "metadata": {},
     "output_type": "execute_result"
    }
   ],
   "source": [
    "admission_features"
   ]
  },
  {
   "cell_type": "code",
   "execution_count": 86,
   "id": "037b4476",
   "metadata": {
    "scrolled": true
   },
   "outputs": [],
   "source": [
    "target = 'target'"
   ]
  },
  {
   "cell_type": "markdown",
   "id": "70c31a00",
   "metadata": {},
   "source": [
    "<a id=\"Optional_chi_squared_testing\"></a>"
   ]
  },
  {
   "cell_type": "markdown",
   "id": "ff0ce889",
   "metadata": {},
   "source": [
    "### 3.3.3. Optional Chi Squared Testing"
   ]
  },
  {
   "cell_type": "markdown",
   "id": "04e3f90b",
   "metadata": {},
   "source": [
    "One way to look further into feature selection would be to utilize other ways to assess the dependence of the features to the target. Using the following format, we can select the K best features regarding their relation to the target. We can select any number of scoring metrics, including chi squared.\n",
    "\n",
    "An upside to this approach is that it addresses collinearity. Collinearity is when you have two features that are opposite each other, therefore equally correlated to the target. Having both features involved in the modelling process can hurt the performance of the model. Chi squared testing removes this collinearity in finding the relationship of a given feature to the target.\n",
    "\n",
    "For the time being, I won't assign the results to the feature variable, so that we can move on with our current feature set. We can play with this after some modelling results if necessary. "
   ]
  },
  {
   "cell_type": "code",
   "execution_count": 87,
   "id": "abc545b9",
   "metadata": {},
   "outputs": [],
   "source": [
    "from sklearn.feature_selection import SelectKBest, chi2"
   ]
  },
  {
   "cell_type": "code",
   "execution_count": 88,
   "id": "a79b9e19",
   "metadata": {},
   "outputs": [
    {
     "data": {
      "text/plain": [
       "Index(['Age_(25.999, 52.0]', 'Age_(52.0, 60.0]', 'Age_(60.0, 65.0]',\n",
       "       'Age_(65.0, 71.2]', 'Age_(71.2, 92.0]',\n",
       "       'systolic_blood_pressure_by_ICU_in_mmHg_(-0.001, 120.0]',\n",
       "       'systolic_blood_pressure_by_ICU_in_mmHg_(120.0, 130.0]',\n",
       "       'systolic_blood_pressure_by_ICU_in_mmHg_(130.0, 140.0]',\n",
       "       'systolic_blood_pressure_by_ICU_in_mmHg_(140.0, 160.0]',\n",
       "       'systolic_blood_pressure_by_ICU_in_mmHg_(160.0, 260.0]',\n",
       "       ...\n",
       "       'use_of_calcium_channel_blockers_in_ICU_0',\n",
       "       'use_of_calcium_channel_blockers_in_ICU_1', 'use_of_heparin_in_ICU_0',\n",
       "       'use_of_heparin_in_ICU_1', 'use_of_acetylsalicylic_acid_in_ICU_0',\n",
       "       'use_of_acetylsalicylic_acid_in_ICU_1', 'use_of_ticlid_in_ICU_0',\n",
       "       'use_of_ticlid_in_ICU_1', 'use_of_trental_in_ICU_0',\n",
       "       'use_of_trental_in_ICU_1'],\n",
       "      dtype='object', length=287)"
      ]
     },
     "execution_count": 88,
     "metadata": {},
     "output_type": "execute_result"
    }
   ],
   "source": [
    "all_X = day_three_df.columns.drop('target')\n",
    "all_X"
   ]
  },
  {
   "cell_type": "code",
   "execution_count": 89,
   "id": "6a76e6e6",
   "metadata": {},
   "outputs": [
    {
     "name": "stdout",
     "output_type": "stream",
     "text": [
      "(1700, 10)\n"
     ]
    }
   ],
   "source": [
    "test = SelectKBest(score_func=chi2, k=10)\n",
    "X_new = test.fit(day_three_df[all_X], day_three_df['target'])\n",
    "X_new = test.transform(day_three_df[all_X])\n",
    "\n",
    "print(X_new.shape)"
   ]
  },
  {
   "cell_type": "code",
   "execution_count": 90,
   "id": "b9e37a78",
   "metadata": {},
   "outputs": [
    {
     "name": "stdout",
     "output_type": "stream",
     "text": [
      "['Age_(25.999, 52.0]', 'chronic_heart_failure_in_anam_1', 'premature_atrial_contractions_in_anam_1', 'obstructive_chronic_bronchitis_in_anam_1', 'cardiogenic_shock_at_admission_to_ICU_1', 'presence_of_anterior_MI_by_ECG_1', 'relapse_of_pain_in_third_day_of_hospital_period_1', 'use_of_liquid_nitrates_in_ICU_1', 'use_of_opioid_drugs_in_ICU_in_second_day_of_hospital_period_2', 'use_of_opioid_drugs_in_ICU_in_third_day_of_hospital_period_1']\n"
     ]
    }
   ],
   "source": [
    "day_three_df[all_X].columns[test.get_support(indices=True)]\n",
    "vector_names = list(day_three_df[all_X].columns[test.get_support(indices=True)])\n",
    "print(vector_names)"
   ]
  },
  {
   "cell_type": "code",
   "execution_count": 91,
   "id": "1315267f",
   "metadata": {},
   "outputs": [],
   "source": [
    "# features = vector_names"
   ]
  },
  {
   "cell_type": "code",
   "execution_count": 92,
   "id": "f153cbc9",
   "metadata": {},
   "outputs": [],
   "source": [
    "# features"
   ]
  },
  {
   "cell_type": "markdown",
   "id": "382ab35e",
   "metadata": {},
   "source": [
    "We've made it through the feature preparation section! As we build and test models, we can always come back to feature selection and find other combinations of features to use as inputs. \n",
    "\n",
    "Often, machine learning is not a linear process. Modifying various aspects of the data across different stages of this process not only helps to create more accurate models, but it helps the individual build a working knowledge of the dataset. This translates to results that are more likely to be meaningful in the real world."
   ]
  },
  {
   "cell_type": "markdown",
   "id": "1a9db292",
   "metadata": {},
   "source": [
    "<a id=\"Modelling\"></a>"
   ]
  },
  {
   "cell_type": "markdown",
   "id": "3cc5b257",
   "metadata": {},
   "source": [
    "# 4. Modelling"
   ]
  },
  {
   "cell_type": "markdown",
   "id": "21e1e812",
   "metadata": {},
   "source": [
    "It's time to take the features we've selected and build various predictive models! Our goal here is to audition different types of algorithms according to various scoring methods and understand how our results might translate to new data in the future.\n",
    "\n",
    "Here's an overview of what we'll accomplish in the modelling stage:\n",
    "\n",
    "1. Preliminary linear regression\n",
    "2. Nonlinear regression\n",
    "3. Model selection and hyperparameter tuning\n",
    "4. Visualizing the best performing models"
   ]
  },
  {
   "cell_type": "markdown",
   "id": "79a43d51",
   "metadata": {},
   "source": [
    "<a id=\"Preliminary_linear_regression\"></a>"
   ]
  },
  {
   "cell_type": "markdown",
   "id": "01ee1800",
   "metadata": {},
   "source": [
    "## 4.1. Preliminary Linear Regression"
   ]
  },
  {
   "cell_type": "markdown",
   "id": "a8e1d6d6",
   "metadata": {},
   "source": [
    "To begin the modelling stage, recall that we've framed this as a regression problem. Let's take our feature set for the day three data and run a couple simple models to see what our initial prediction ability is. \n",
    "\n",
    "We can use: \n",
    "- KNeighbors regression\n",
    "- Linear regression (ordinary least squares)\n",
    "\n",
    "In this section, we'll also explore a method of improving the model's ability to predict unseen data called cross validation."
   ]
  },
  {
   "cell_type": "markdown",
   "id": "5e2671ed",
   "metadata": {},
   "source": [
    "In order to easily get predictions for both the day three dataset as well as the admissions dataset, and to use these two different algorithms, let's first make a function that contains all the common logic.  "
   ]
  },
  {
   "cell_type": "code",
   "execution_count": 93,
   "id": "bee78984",
   "metadata": {},
   "outputs": [],
   "source": [
    "from sklearn.metrics import mean_squared_error, mean_absolute_error\n",
    "\n",
    "def get_linear_model(estimator, df, features, thresh):\n",
    "\n",
    "    # randomizing the df\n",
    "    np.random.seed(1)\n",
    "    shuffled_index = np.random.permutation(df.index)\n",
    "    rand_df = df.reindex(shuffled_index)\n",
    "\n",
    "    # defining train and test sets based on a threshold value between 0 and 1\n",
    "    cutoff = int(len(rand_df) * thresh)\n",
    "    train = rand_df.iloc[:cutoff]\n",
    "    test = rand_df.iloc[cutoff:]\n",
    "    \n",
    "    # fitting the model with our data\n",
    "    model = estimator()\n",
    "    model.fit(train[features], train[target])\n",
    "    \n",
    "    # making predictions \n",
    "    predictions = model.predict(test[features])\n",
    "    \n",
    "    # determining accuracy of the predictions\n",
    "    mse = mean_squared_error(predictions, test[target])\n",
    "    rmse = np.round(np.sqrt(mse), 4)\n",
    "    \n",
    "    mae = mean_absolute_error(predictions,test[target])\n",
    "    mae = np.round(mae, 4)\n",
    "\n",
    "    print('RMSE for {}:'.format(estimator.__name__), rmse, 'complications', '\\n'\n",
    "         'MAE for {}:'.format(estimator.__name__), mae, 'complications')\n",
    "    \n",
    "    return rmse, mae\n"
   ]
  },
  {
   "cell_type": "markdown",
   "id": "a04efb38",
   "metadata": {},
   "source": [
    "### A Note On Scoring Metrics\n",
    "\n",
    "Before we continue, let's take a moment to understand the metrics we'll be using to determine the accuracy of our models. We'll use two metrics, known as RMSE and MAE. \n",
    "\n",
    "Both of these metrics measure the numerical distance from the predicted value to the actual value in terms of the target. In other words, for our case, the value of each metric refers to the number of complications away from the actual number our model predicted. For instance, an RMSE of 0 would mean the model perfectly predicted the number of complications, while an RMSE of 2 would mean it predicted within 2 complications of accuracy. With this in mind, the smaller the number, the better.\n",
    "\n",
    "The difference lies in how significantly we want to weigh an error in prediction. RMSE (\"Root Mean Squared Error\") will more heavily penalize the model for an very incorrect prediction than a slightly incorrect prediction, while MAE (\"Mean Absolute Error\") will not penalize more or less, regardless of how incorrect the prediction was. \n",
    "\n",
    "We'll use both metrics to develop a sense of our models' accuracy because it's good to know not only how accurately a model can predict an outcome, but also, when it doesn't predict correctly, to have confidence that those incorrect predictions are not wildly inaccurate. "
   ]
  },
  {
   "cell_type": "markdown",
   "id": "d975f5aa",
   "metadata": {},
   "source": [
    "Now, we can import the algorithms we'd like to use. We'll create a list containing these two, and cycle through them using the function we just made. "
   ]
  },
  {
   "cell_type": "code",
   "execution_count": 94,
   "id": "ed4ce6fd",
   "metadata": {},
   "outputs": [],
   "source": [
    "from sklearn.neighbors import KNeighborsRegressor\n",
    "from sklearn.linear_model import LinearRegression\n",
    "\n",
    "linear_models = [KNeighborsRegressor, LinearRegression]\n",
    "linear_model_names = ['KNeighbors Regression', 'Linear Regression']"
   ]
  },
  {
   "cell_type": "code",
   "execution_count": 95,
   "id": "f9f372b1",
   "metadata": {},
   "outputs": [],
   "source": [
    "day_three_results = pd.DataFrame(columns=['RMSE', 'MAE'])\n",
    "admission_results = pd.DataFrame(columns=['RMSE', 'MAE'])\n"
   ]
  },
  {
   "cell_type": "code",
   "execution_count": 96,
   "id": "65fecd9a",
   "metadata": {
    "scrolled": true
   },
   "outputs": [
    {
     "name": "stdout",
     "output_type": "stream",
     "text": [
      "day_three_df:\n",
      "RMSE for KNeighborsRegressor: 0.9203 complications \n",
      "MAE for KNeighborsRegressor: 0.6924 complications\n",
      "----------------------------------------------------------------------\n",
      "admission_df:\n",
      "RMSE for KNeighborsRegressor: 0.9279 complications \n",
      "MAE for KNeighborsRegressor: 0.7076 complications\n",
      "----------------------------------------------------------------------\n",
      "day_three_df:\n",
      "RMSE for LinearRegression: 0.8404 complications \n",
      "MAE for LinearRegression: 0.6548 complications\n",
      "----------------------------------------------------------------------\n",
      "admission_df:\n",
      "RMSE for LinearRegression: 0.8473 complications \n",
      "MAE for LinearRegression: 0.6609 complications\n",
      "----------------------------------------------------------------------\n"
     ]
    }
   ],
   "source": [
    "for i, j in zip(linear_models, linear_model_names):\n",
    "    print('day_three_df:')\n",
    "    day_three_results.loc[j + ' Holdout'] = get_linear_model(i, day_three_df, d3_features, 0.8)\n",
    "    print('-' *70)\n",
    "    print('admission_df:')\n",
    "    admission_results.loc[j + ' Holdout'] = get_linear_model(i, admission_df, admission_features, 0.8)\n",
    "    print('-' *70)\n"
   ]
  },
  {
   "cell_type": "code",
   "execution_count": 97,
   "id": "05fad18f",
   "metadata": {},
   "outputs": [
    {
     "data": {
      "text/html": [
       "<div>\n",
       "<style scoped>\n",
       "    .dataframe tbody tr th:only-of-type {\n",
       "        vertical-align: middle;\n",
       "    }\n",
       "\n",
       "    .dataframe tbody tr th {\n",
       "        vertical-align: top;\n",
       "    }\n",
       "\n",
       "    .dataframe thead th {\n",
       "        text-align: right;\n",
       "    }\n",
       "</style>\n",
       "<table border=\"1\" class=\"dataframe\">\n",
       "  <thead>\n",
       "    <tr style=\"text-align: right;\">\n",
       "      <th></th>\n",
       "      <th>RMSE</th>\n",
       "      <th>MAE</th>\n",
       "    </tr>\n",
       "  </thead>\n",
       "  <tbody>\n",
       "    <tr>\n",
       "      <th>KNeighbors Regression Holdout</th>\n",
       "      <td>0.9203</td>\n",
       "      <td>0.6924</td>\n",
       "    </tr>\n",
       "    <tr>\n",
       "      <th>Linear Regression Holdout</th>\n",
       "      <td>0.8404</td>\n",
       "      <td>0.6548</td>\n",
       "    </tr>\n",
       "  </tbody>\n",
       "</table>\n",
       "</div>"
      ],
      "text/plain": [
       "                                 RMSE     MAE\n",
       "KNeighbors Regression Holdout  0.9203  0.6924\n",
       "Linear Regression Holdout      0.8404  0.6548"
      ]
     },
     "execution_count": 97,
     "metadata": {},
     "output_type": "execute_result"
    }
   ],
   "source": [
    "day_three_results"
   ]
  },
  {
   "cell_type": "code",
   "execution_count": 98,
   "id": "9a59f7d3",
   "metadata": {},
   "outputs": [
    {
     "data": {
      "text/html": [
       "<div>\n",
       "<style scoped>\n",
       "    .dataframe tbody tr th:only-of-type {\n",
       "        vertical-align: middle;\n",
       "    }\n",
       "\n",
       "    .dataframe tbody tr th {\n",
       "        vertical-align: top;\n",
       "    }\n",
       "\n",
       "    .dataframe thead th {\n",
       "        text-align: right;\n",
       "    }\n",
       "</style>\n",
       "<table border=\"1\" class=\"dataframe\">\n",
       "  <thead>\n",
       "    <tr style=\"text-align: right;\">\n",
       "      <th></th>\n",
       "      <th>RMSE</th>\n",
       "      <th>MAE</th>\n",
       "    </tr>\n",
       "  </thead>\n",
       "  <tbody>\n",
       "    <tr>\n",
       "      <th>KNeighbors Regression Holdout</th>\n",
       "      <td>0.9279</td>\n",
       "      <td>0.7076</td>\n",
       "    </tr>\n",
       "    <tr>\n",
       "      <th>Linear Regression Holdout</th>\n",
       "      <td>0.8473</td>\n",
       "      <td>0.6609</td>\n",
       "    </tr>\n",
       "  </tbody>\n",
       "</table>\n",
       "</div>"
      ],
      "text/plain": [
       "                                 RMSE     MAE\n",
       "KNeighbors Regression Holdout  0.9279  0.7076\n",
       "Linear Regression Holdout      0.8473  0.6609"
      ]
     },
     "execution_count": 98,
     "metadata": {},
     "output_type": "execute_result"
    }
   ],
   "source": [
    "admission_results"
   ]
  },
  {
   "cell_type": "markdown",
   "id": "a468e371",
   "metadata": {},
   "source": [
    "Between the KNeighbors and ordinary least squares models, we appear to have an rmse prediction accuracy of within 0.92 and 0.84 complications, respectively. This means that if we were to predict a new patient's number of outcomes using the KNeighbors model above, that on average, we would be within 0.92 of the correct number of complications according to the rmse.\n",
    "\n",
    "However, these numbers were determined by a relatively poor method of testing \"unseen\" data. We can use a method that generally reflects the real world more, called cross validation. Instead of separating the data once into train and test sets, cross validation separates the data into however many \"folds\" are specified, and sequentially uses each fold as the test set. This minimizes noise in the data, providing a more representative body of information to feed to the model.  \n",
    "\n",
    "Let's build another function that incorporates this and see how it affects our predictions."
   ]
  },
  {
   "cell_type": "code",
   "execution_count": 99,
   "id": "9bd1b96a",
   "metadata": {},
   "outputs": [],
   "source": [
    "from sklearn.model_selection import cross_val_score\n",
    "\n",
    "def linear_cross_val(estimator, df, features, k):\n",
    "    \n",
    "    # separating the df into the features and the target\n",
    "    X = df[features]\n",
    "    y = df[target]\n",
    "    \n",
    "    # types of scoring we'll use\n",
    "    scoring_types = {'neg_root_mean_squared_error': 'RMSE', 'neg_mean_absolute_error': 'MAE'}\n",
    "    \n",
    "    # creating a list of our scores so when we call the function, we can return this to \n",
    "    # assign these values to a results df. \n",
    "    scoring = []\n",
    "    \n",
    "    # fitting the model, making predictions for each k, and determining the average error for each error type\n",
    "    model = estimator()\n",
    "    \n",
    "    for i in scoring_types:\n",
    "        scores = cross_val_score(model, X, y, scoring=i, cv=k)\n",
    "        avg_score = np.round(abs(scores.mean()), 4)\n",
    "        scoring.append(avg_score)\n",
    "        print('{} for {}: {:.4f} complications'.format(scoring_types[i], estimator.__name__, avg_score))\n",
    "    \n",
    "    return scoring"
   ]
  },
  {
   "cell_type": "code",
   "execution_count": 100,
   "id": "db1c1612",
   "metadata": {},
   "outputs": [
    {
     "name": "stdout",
     "output_type": "stream",
     "text": [
      "day_three_df:\n",
      "RMSE for KNeighborsRegressor: 0.9471 complications\n",
      "MAE for KNeighborsRegressor: 0.7366 complications\n",
      "----------------------------------------------------------------------\n",
      "admission_df:\n",
      "RMSE for KNeighborsRegressor: 0.9873 complications\n",
      "MAE for KNeighborsRegressor: 0.7742 complications\n",
      "----------------------------------------------------------------------\n",
      "day_three_df:\n",
      "RMSE for LinearRegression: 0.8883 complications\n",
      "MAE for LinearRegression: 0.7019 complications\n",
      "----------------------------------------------------------------------\n",
      "admission_df:\n",
      "RMSE for LinearRegression: 0.9064 complications\n",
      "MAE for LinearRegression: 0.7163 complications\n",
      "----------------------------------------------------------------------\n"
     ]
    }
   ],
   "source": [
    "for i, j in zip(linear_models, linear_model_names):\n",
    "    print('day_three_df:')\n",
    "    day_three_results.loc[j + ' Cross Val, k=15'] = linear_cross_val(i, day_three_df, d3_features, 15)\n",
    "    print('-' * 70)\n",
    "    print('admission_df:')\n",
    "    admission_results.loc[j + ' Cross Val, k=15'] = linear_cross_val(i, admission_df, admission_features, 15)\n",
    "    print('-' * 70)"
   ]
  },
  {
   "cell_type": "code",
   "execution_count": 101,
   "id": "bace2d08",
   "metadata": {},
   "outputs": [
    {
     "data": {
      "text/html": [
       "<div>\n",
       "<style scoped>\n",
       "    .dataframe tbody tr th:only-of-type {\n",
       "        vertical-align: middle;\n",
       "    }\n",
       "\n",
       "    .dataframe tbody tr th {\n",
       "        vertical-align: top;\n",
       "    }\n",
       "\n",
       "    .dataframe thead th {\n",
       "        text-align: right;\n",
       "    }\n",
       "</style>\n",
       "<table border=\"1\" class=\"dataframe\">\n",
       "  <thead>\n",
       "    <tr style=\"text-align: right;\">\n",
       "      <th></th>\n",
       "      <th>RMSE</th>\n",
       "      <th>MAE</th>\n",
       "    </tr>\n",
       "  </thead>\n",
       "  <tbody>\n",
       "    <tr>\n",
       "      <th>KNeighbors Regression Holdout</th>\n",
       "      <td>0.9203</td>\n",
       "      <td>0.6924</td>\n",
       "    </tr>\n",
       "    <tr>\n",
       "      <th>Linear Regression Holdout</th>\n",
       "      <td>0.8404</td>\n",
       "      <td>0.6548</td>\n",
       "    </tr>\n",
       "    <tr>\n",
       "      <th>KNeighbors Regression Cross Val, k=15</th>\n",
       "      <td>0.9471</td>\n",
       "      <td>0.7366</td>\n",
       "    </tr>\n",
       "    <tr>\n",
       "      <th>Linear Regression Cross Val, k=15</th>\n",
       "      <td>0.8883</td>\n",
       "      <td>0.7019</td>\n",
       "    </tr>\n",
       "  </tbody>\n",
       "</table>\n",
       "</div>"
      ],
      "text/plain": [
       "                                         RMSE     MAE\n",
       "KNeighbors Regression Holdout          0.9203  0.6924\n",
       "Linear Regression Holdout              0.8404  0.6548\n",
       "KNeighbors Regression Cross Val, k=15  0.9471  0.7366\n",
       "Linear Regression Cross Val, k=15      0.8883  0.7019"
      ]
     },
     "execution_count": 101,
     "metadata": {},
     "output_type": "execute_result"
    }
   ],
   "source": [
    "day_three_results"
   ]
  },
  {
   "cell_type": "code",
   "execution_count": 102,
   "id": "27bc3fa7",
   "metadata": {},
   "outputs": [
    {
     "data": {
      "text/html": [
       "<div>\n",
       "<style scoped>\n",
       "    .dataframe tbody tr th:only-of-type {\n",
       "        vertical-align: middle;\n",
       "    }\n",
       "\n",
       "    .dataframe tbody tr th {\n",
       "        vertical-align: top;\n",
       "    }\n",
       "\n",
       "    .dataframe thead th {\n",
       "        text-align: right;\n",
       "    }\n",
       "</style>\n",
       "<table border=\"1\" class=\"dataframe\">\n",
       "  <thead>\n",
       "    <tr style=\"text-align: right;\">\n",
       "      <th></th>\n",
       "      <th>RMSE</th>\n",
       "      <th>MAE</th>\n",
       "    </tr>\n",
       "  </thead>\n",
       "  <tbody>\n",
       "    <tr>\n",
       "      <th>KNeighbors Regression Holdout</th>\n",
       "      <td>0.9279</td>\n",
       "      <td>0.7076</td>\n",
       "    </tr>\n",
       "    <tr>\n",
       "      <th>Linear Regression Holdout</th>\n",
       "      <td>0.8473</td>\n",
       "      <td>0.6609</td>\n",
       "    </tr>\n",
       "    <tr>\n",
       "      <th>KNeighbors Regression Cross Val, k=15</th>\n",
       "      <td>0.9873</td>\n",
       "      <td>0.7742</td>\n",
       "    </tr>\n",
       "    <tr>\n",
       "      <th>Linear Regression Cross Val, k=15</th>\n",
       "      <td>0.9064</td>\n",
       "      <td>0.7163</td>\n",
       "    </tr>\n",
       "  </tbody>\n",
       "</table>\n",
       "</div>"
      ],
      "text/plain": [
       "                                         RMSE     MAE\n",
       "KNeighbors Regression Holdout          0.9279  0.7076\n",
       "Linear Regression Holdout              0.8473  0.6609\n",
       "KNeighbors Regression Cross Val, k=15  0.9873  0.7742\n",
       "Linear Regression Cross Val, k=15      0.9064  0.7163"
      ]
     },
     "execution_count": 102,
     "metadata": {},
     "output_type": "execute_result"
    }
   ],
   "source": [
    "admission_results"
   ]
  },
  {
   "cell_type": "markdown",
   "id": "1f524e89",
   "metadata": {},
   "source": [
    "Using the cross validation technique, we appear to actually see a slight worsening of our predictive ability. This is because cross validation is more accurate than the other way we used, known as holdout validation. Using holdout validation, we were seeing artificially improved results that would not be reproducible in reality. The model essentially learns the training set very well and can predict the test set, but it struggles to generalize to new information. This is known as overfitting.\n",
    "\n",
    "Cross validation, while potentially damaging to the ego, is a valuable tool to reflect the model's realisitic potential. Soon we'll explore more in depth about the amount of overfitting our models may be doing and how to correct it."
   ]
  },
  {
   "cell_type": "markdown",
   "id": "c1da99d1",
   "metadata": {},
   "source": [
    "<a id=\"Nonlinear_regression\"></a>"
   ]
  },
  {
   "cell_type": "markdown",
   "id": "a40641b1",
   "metadata": {},
   "source": [
    "## 4.2 Nonlinear Regression"
   ]
  },
  {
   "cell_type": "markdown",
   "id": "9a11945b",
   "metadata": {},
   "source": [
    "Because the relationships between our features and the target are almost certainly more nuanced than a linear model can estimate, let's try out some nonlinear models to see if we can improve on our scores so far. \n",
    "\n",
    "We'll build models using:\n",
    "- Decision tree\n",
    "- Random forest\n",
    "- Support vector machine (we'll use SVR to adapt this to regression)\n",
    "- Multi-layer perceptron (neural network)\n"
   ]
  },
  {
   "cell_type": "code",
   "execution_count": 103,
   "id": "4640f474",
   "metadata": {},
   "outputs": [],
   "source": [
    "def get_nonlinear_model(estimator, df, features, k):\n",
    "    \n",
    "    # separating the df into the features and the target\n",
    "    X = df[features]\n",
    "    y = df[target]\n",
    "    \n",
    "    # types of scoring we'll use\n",
    "    scoring_types = {'neg_root_mean_squared_error': 'RMSE', 'neg_mean_absolute_error': 'MAE'}\n",
    "    \n",
    "    # creating a list of our scores so when we call the function, we can return this to \n",
    "    # assign these values to a results df. \n",
    "    scoring = []\n",
    "    \n",
    "    # fitting the model, making predictions for each k, and determining the error \n",
    "    model = estimator(random_state=1)\n",
    "    \n",
    "    for i in scoring_types:\n",
    "        scores = cross_val_score(model, X, y, scoring=i, cv=k)\n",
    "        avg_score = np.round(abs(scores.mean()), 4)\n",
    "        scoring.append(avg_score)\n",
    "        print('{} for {}: {:.4f} complications'.format(scoring_types[i], estimator.__name__, avg_score))\n",
    "        \n",
    "    return scoring\n",
    "        "
   ]
  },
  {
   "cell_type": "code",
   "execution_count": 104,
   "id": "c318cf39",
   "metadata": {},
   "outputs": [],
   "source": [
    "from sklearn.tree import DecisionTreeRegressor\n",
    "from sklearn.ensemble import RandomForestRegressor\n",
    "from sklearn.neural_network import MLPRegressor\n",
    "from sklearn.svm import SVR\n",
    "\n",
    "nonlinear_models = [DecisionTreeRegressor, RandomForestRegressor, MLPRegressor]\n",
    "nonlinear_model_names = ['Decision Tree', 'Random Forest', 'Multi-layer Perceptron']"
   ]
  },
  {
   "cell_type": "code",
   "execution_count": 105,
   "id": "1bf09775",
   "metadata": {
    "scrolled": true
   },
   "outputs": [
    {
     "name": "stdout",
     "output_type": "stream",
     "text": [
      "day_three_df:\n",
      "RMSE for DecisionTreeRegressor: 1.2401 complications\n",
      "MAE for DecisionTreeRegressor: 0.8984 complications\n",
      "----------------------------------------------------------------------\n",
      "admission_df:\n",
      "RMSE for DecisionTreeRegressor: 1.2128 complications\n",
      "MAE for DecisionTreeRegressor: 0.8831 complications\n",
      "----------------------------------------------------------------------\n",
      "day_three_df:\n",
      "RMSE for RandomForestRegressor: 0.9316 complications\n",
      "MAE for RandomForestRegressor: 0.7223 complications\n",
      "----------------------------------------------------------------------\n",
      "admission_df:\n",
      "RMSE for RandomForestRegressor: 0.9778 complications\n",
      "MAE for RandomForestRegressor: 0.7695 complications\n",
      "----------------------------------------------------------------------\n",
      "day_three_df:\n"
     ]
    },
    {
     "name": "stderr",
     "output_type": "stream",
     "text": [
      "/Users/lucasjones/opt/miniconda3/envs/minimal_ds/lib/python3.9/site-packages/sklearn/neural_network/_multilayer_perceptron.py:614: ConvergenceWarning: Stochastic Optimizer: Maximum iterations (200) reached and the optimization hasn't converged yet.\n",
      "  warnings.warn(\n",
      "/Users/lucasjones/opt/miniconda3/envs/minimal_ds/lib/python3.9/site-packages/sklearn/neural_network/_multilayer_perceptron.py:614: ConvergenceWarning: Stochastic Optimizer: Maximum iterations (200) reached and the optimization hasn't converged yet.\n",
      "  warnings.warn(\n",
      "/Users/lucasjones/opt/miniconda3/envs/minimal_ds/lib/python3.9/site-packages/sklearn/neural_network/_multilayer_perceptron.py:614: ConvergenceWarning: Stochastic Optimizer: Maximum iterations (200) reached and the optimization hasn't converged yet.\n",
      "  warnings.warn(\n",
      "/Users/lucasjones/opt/miniconda3/envs/minimal_ds/lib/python3.9/site-packages/sklearn/neural_network/_multilayer_perceptron.py:614: ConvergenceWarning: Stochastic Optimizer: Maximum iterations (200) reached and the optimization hasn't converged yet.\n",
      "  warnings.warn(\n",
      "/Users/lucasjones/opt/miniconda3/envs/minimal_ds/lib/python3.9/site-packages/sklearn/neural_network/_multilayer_perceptron.py:614: ConvergenceWarning: Stochastic Optimizer: Maximum iterations (200) reached and the optimization hasn't converged yet.\n",
      "  warnings.warn(\n",
      "/Users/lucasjones/opt/miniconda3/envs/minimal_ds/lib/python3.9/site-packages/sklearn/neural_network/_multilayer_perceptron.py:614: ConvergenceWarning: Stochastic Optimizer: Maximum iterations (200) reached and the optimization hasn't converged yet.\n",
      "  warnings.warn(\n",
      "/Users/lucasjones/opt/miniconda3/envs/minimal_ds/lib/python3.9/site-packages/sklearn/neural_network/_multilayer_perceptron.py:614: ConvergenceWarning: Stochastic Optimizer: Maximum iterations (200) reached and the optimization hasn't converged yet.\n",
      "  warnings.warn(\n",
      "/Users/lucasjones/opt/miniconda3/envs/minimal_ds/lib/python3.9/site-packages/sklearn/neural_network/_multilayer_perceptron.py:614: ConvergenceWarning: Stochastic Optimizer: Maximum iterations (200) reached and the optimization hasn't converged yet.\n",
      "  warnings.warn(\n",
      "/Users/lucasjones/opt/miniconda3/envs/minimal_ds/lib/python3.9/site-packages/sklearn/neural_network/_multilayer_perceptron.py:614: ConvergenceWarning: Stochastic Optimizer: Maximum iterations (200) reached and the optimization hasn't converged yet.\n",
      "  warnings.warn(\n",
      "/Users/lucasjones/opt/miniconda3/envs/minimal_ds/lib/python3.9/site-packages/sklearn/neural_network/_multilayer_perceptron.py:614: ConvergenceWarning: Stochastic Optimizer: Maximum iterations (200) reached and the optimization hasn't converged yet.\n",
      "  warnings.warn(\n",
      "/Users/lucasjones/opt/miniconda3/envs/minimal_ds/lib/python3.9/site-packages/sklearn/neural_network/_multilayer_perceptron.py:614: ConvergenceWarning: Stochastic Optimizer: Maximum iterations (200) reached and the optimization hasn't converged yet.\n",
      "  warnings.warn(\n",
      "/Users/lucasjones/opt/miniconda3/envs/minimal_ds/lib/python3.9/site-packages/sklearn/neural_network/_multilayer_perceptron.py:614: ConvergenceWarning: Stochastic Optimizer: Maximum iterations (200) reached and the optimization hasn't converged yet.\n",
      "  warnings.warn(\n",
      "/Users/lucasjones/opt/miniconda3/envs/minimal_ds/lib/python3.9/site-packages/sklearn/neural_network/_multilayer_perceptron.py:614: ConvergenceWarning: Stochastic Optimizer: Maximum iterations (200) reached and the optimization hasn't converged yet.\n",
      "  warnings.warn(\n",
      "/Users/lucasjones/opt/miniconda3/envs/minimal_ds/lib/python3.9/site-packages/sklearn/neural_network/_multilayer_perceptron.py:614: ConvergenceWarning: Stochastic Optimizer: Maximum iterations (200) reached and the optimization hasn't converged yet.\n",
      "  warnings.warn(\n",
      "/Users/lucasjones/opt/miniconda3/envs/minimal_ds/lib/python3.9/site-packages/sklearn/neural_network/_multilayer_perceptron.py:614: ConvergenceWarning: Stochastic Optimizer: Maximum iterations (200) reached and the optimization hasn't converged yet.\n",
      "  warnings.warn(\n"
     ]
    },
    {
     "name": "stdout",
     "output_type": "stream",
     "text": [
      "RMSE for MLPRegressor: 1.0278 complications\n"
     ]
    },
    {
     "name": "stderr",
     "output_type": "stream",
     "text": [
      "/Users/lucasjones/opt/miniconda3/envs/minimal_ds/lib/python3.9/site-packages/sklearn/neural_network/_multilayer_perceptron.py:614: ConvergenceWarning: Stochastic Optimizer: Maximum iterations (200) reached and the optimization hasn't converged yet.\n",
      "  warnings.warn(\n",
      "/Users/lucasjones/opt/miniconda3/envs/minimal_ds/lib/python3.9/site-packages/sklearn/neural_network/_multilayer_perceptron.py:614: ConvergenceWarning: Stochastic Optimizer: Maximum iterations (200) reached and the optimization hasn't converged yet.\n",
      "  warnings.warn(\n",
      "/Users/lucasjones/opt/miniconda3/envs/minimal_ds/lib/python3.9/site-packages/sklearn/neural_network/_multilayer_perceptron.py:614: ConvergenceWarning: Stochastic Optimizer: Maximum iterations (200) reached and the optimization hasn't converged yet.\n",
      "  warnings.warn(\n",
      "/Users/lucasjones/opt/miniconda3/envs/minimal_ds/lib/python3.9/site-packages/sklearn/neural_network/_multilayer_perceptron.py:614: ConvergenceWarning: Stochastic Optimizer: Maximum iterations (200) reached and the optimization hasn't converged yet.\n",
      "  warnings.warn(\n",
      "/Users/lucasjones/opt/miniconda3/envs/minimal_ds/lib/python3.9/site-packages/sklearn/neural_network/_multilayer_perceptron.py:614: ConvergenceWarning: Stochastic Optimizer: Maximum iterations (200) reached and the optimization hasn't converged yet.\n",
      "  warnings.warn(\n",
      "/Users/lucasjones/opt/miniconda3/envs/minimal_ds/lib/python3.9/site-packages/sklearn/neural_network/_multilayer_perceptron.py:614: ConvergenceWarning: Stochastic Optimizer: Maximum iterations (200) reached and the optimization hasn't converged yet.\n",
      "  warnings.warn(\n",
      "/Users/lucasjones/opt/miniconda3/envs/minimal_ds/lib/python3.9/site-packages/sklearn/neural_network/_multilayer_perceptron.py:614: ConvergenceWarning: Stochastic Optimizer: Maximum iterations (200) reached and the optimization hasn't converged yet.\n",
      "  warnings.warn(\n",
      "/Users/lucasjones/opt/miniconda3/envs/minimal_ds/lib/python3.9/site-packages/sklearn/neural_network/_multilayer_perceptron.py:614: ConvergenceWarning: Stochastic Optimizer: Maximum iterations (200) reached and the optimization hasn't converged yet.\n",
      "  warnings.warn(\n",
      "/Users/lucasjones/opt/miniconda3/envs/minimal_ds/lib/python3.9/site-packages/sklearn/neural_network/_multilayer_perceptron.py:614: ConvergenceWarning: Stochastic Optimizer: Maximum iterations (200) reached and the optimization hasn't converged yet.\n",
      "  warnings.warn(\n",
      "/Users/lucasjones/opt/miniconda3/envs/minimal_ds/lib/python3.9/site-packages/sklearn/neural_network/_multilayer_perceptron.py:614: ConvergenceWarning: Stochastic Optimizer: Maximum iterations (200) reached and the optimization hasn't converged yet.\n",
      "  warnings.warn(\n",
      "/Users/lucasjones/opt/miniconda3/envs/minimal_ds/lib/python3.9/site-packages/sklearn/neural_network/_multilayer_perceptron.py:614: ConvergenceWarning: Stochastic Optimizer: Maximum iterations (200) reached and the optimization hasn't converged yet.\n",
      "  warnings.warn(\n",
      "/Users/lucasjones/opt/miniconda3/envs/minimal_ds/lib/python3.9/site-packages/sklearn/neural_network/_multilayer_perceptron.py:614: ConvergenceWarning: Stochastic Optimizer: Maximum iterations (200) reached and the optimization hasn't converged yet.\n",
      "  warnings.warn(\n",
      "/Users/lucasjones/opt/miniconda3/envs/minimal_ds/lib/python3.9/site-packages/sklearn/neural_network/_multilayer_perceptron.py:614: ConvergenceWarning: Stochastic Optimizer: Maximum iterations (200) reached and the optimization hasn't converged yet.\n",
      "  warnings.warn(\n",
      "/Users/lucasjones/opt/miniconda3/envs/minimal_ds/lib/python3.9/site-packages/sklearn/neural_network/_multilayer_perceptron.py:614: ConvergenceWarning: Stochastic Optimizer: Maximum iterations (200) reached and the optimization hasn't converged yet.\n",
      "  warnings.warn(\n",
      "/Users/lucasjones/opt/miniconda3/envs/minimal_ds/lib/python3.9/site-packages/sklearn/neural_network/_multilayer_perceptron.py:614: ConvergenceWarning: Stochastic Optimizer: Maximum iterations (200) reached and the optimization hasn't converged yet.\n",
      "  warnings.warn(\n"
     ]
    },
    {
     "name": "stdout",
     "output_type": "stream",
     "text": [
      "MAE for MLPRegressor: 0.8108 complications\n",
      "----------------------------------------------------------------------\n",
      "admission_df:\n"
     ]
    },
    {
     "name": "stderr",
     "output_type": "stream",
     "text": [
      "/Users/lucasjones/opt/miniconda3/envs/minimal_ds/lib/python3.9/site-packages/sklearn/neural_network/_multilayer_perceptron.py:614: ConvergenceWarning: Stochastic Optimizer: Maximum iterations (200) reached and the optimization hasn't converged yet.\n",
      "  warnings.warn(\n",
      "/Users/lucasjones/opt/miniconda3/envs/minimal_ds/lib/python3.9/site-packages/sklearn/neural_network/_multilayer_perceptron.py:614: ConvergenceWarning: Stochastic Optimizer: Maximum iterations (200) reached and the optimization hasn't converged yet.\n",
      "  warnings.warn(\n",
      "/Users/lucasjones/opt/miniconda3/envs/minimal_ds/lib/python3.9/site-packages/sklearn/neural_network/_multilayer_perceptron.py:614: ConvergenceWarning: Stochastic Optimizer: Maximum iterations (200) reached and the optimization hasn't converged yet.\n",
      "  warnings.warn(\n",
      "/Users/lucasjones/opt/miniconda3/envs/minimal_ds/lib/python3.9/site-packages/sklearn/neural_network/_multilayer_perceptron.py:614: ConvergenceWarning: Stochastic Optimizer: Maximum iterations (200) reached and the optimization hasn't converged yet.\n",
      "  warnings.warn(\n",
      "/Users/lucasjones/opt/miniconda3/envs/minimal_ds/lib/python3.9/site-packages/sklearn/neural_network/_multilayer_perceptron.py:614: ConvergenceWarning: Stochastic Optimizer: Maximum iterations (200) reached and the optimization hasn't converged yet.\n",
      "  warnings.warn(\n",
      "/Users/lucasjones/opt/miniconda3/envs/minimal_ds/lib/python3.9/site-packages/sklearn/neural_network/_multilayer_perceptron.py:614: ConvergenceWarning: Stochastic Optimizer: Maximum iterations (200) reached and the optimization hasn't converged yet.\n",
      "  warnings.warn(\n",
      "/Users/lucasjones/opt/miniconda3/envs/minimal_ds/lib/python3.9/site-packages/sklearn/neural_network/_multilayer_perceptron.py:614: ConvergenceWarning: Stochastic Optimizer: Maximum iterations (200) reached and the optimization hasn't converged yet.\n",
      "  warnings.warn(\n",
      "/Users/lucasjones/opt/miniconda3/envs/minimal_ds/lib/python3.9/site-packages/sklearn/neural_network/_multilayer_perceptron.py:614: ConvergenceWarning: Stochastic Optimizer: Maximum iterations (200) reached and the optimization hasn't converged yet.\n",
      "  warnings.warn(\n",
      "/Users/lucasjones/opt/miniconda3/envs/minimal_ds/lib/python3.9/site-packages/sklearn/neural_network/_multilayer_perceptron.py:614: ConvergenceWarning: Stochastic Optimizer: Maximum iterations (200) reached and the optimization hasn't converged yet.\n",
      "  warnings.warn(\n",
      "/Users/lucasjones/opt/miniconda3/envs/minimal_ds/lib/python3.9/site-packages/sklearn/neural_network/_multilayer_perceptron.py:614: ConvergenceWarning: Stochastic Optimizer: Maximum iterations (200) reached and the optimization hasn't converged yet.\n",
      "  warnings.warn(\n",
      "/Users/lucasjones/opt/miniconda3/envs/minimal_ds/lib/python3.9/site-packages/sklearn/neural_network/_multilayer_perceptron.py:614: ConvergenceWarning: Stochastic Optimizer: Maximum iterations (200) reached and the optimization hasn't converged yet.\n",
      "  warnings.warn(\n",
      "/Users/lucasjones/opt/miniconda3/envs/minimal_ds/lib/python3.9/site-packages/sklearn/neural_network/_multilayer_perceptron.py:614: ConvergenceWarning: Stochastic Optimizer: Maximum iterations (200) reached and the optimization hasn't converged yet.\n",
      "  warnings.warn(\n",
      "/Users/lucasjones/opt/miniconda3/envs/minimal_ds/lib/python3.9/site-packages/sklearn/neural_network/_multilayer_perceptron.py:614: ConvergenceWarning: Stochastic Optimizer: Maximum iterations (200) reached and the optimization hasn't converged yet.\n",
      "  warnings.warn(\n",
      "/Users/lucasjones/opt/miniconda3/envs/minimal_ds/lib/python3.9/site-packages/sklearn/neural_network/_multilayer_perceptron.py:614: ConvergenceWarning: Stochastic Optimizer: Maximum iterations (200) reached and the optimization hasn't converged yet.\n",
      "  warnings.warn(\n",
      "/Users/lucasjones/opt/miniconda3/envs/minimal_ds/lib/python3.9/site-packages/sklearn/neural_network/_multilayer_perceptron.py:614: ConvergenceWarning: Stochastic Optimizer: Maximum iterations (200) reached and the optimization hasn't converged yet.\n",
      "  warnings.warn(\n"
     ]
    },
    {
     "name": "stdout",
     "output_type": "stream",
     "text": [
      "RMSE for MLPRegressor: 0.9801 complications\n"
     ]
    },
    {
     "name": "stderr",
     "output_type": "stream",
     "text": [
      "/Users/lucasjones/opt/miniconda3/envs/minimal_ds/lib/python3.9/site-packages/sklearn/neural_network/_multilayer_perceptron.py:614: ConvergenceWarning: Stochastic Optimizer: Maximum iterations (200) reached and the optimization hasn't converged yet.\n",
      "  warnings.warn(\n",
      "/Users/lucasjones/opt/miniconda3/envs/minimal_ds/lib/python3.9/site-packages/sklearn/neural_network/_multilayer_perceptron.py:614: ConvergenceWarning: Stochastic Optimizer: Maximum iterations (200) reached and the optimization hasn't converged yet.\n",
      "  warnings.warn(\n",
      "/Users/lucasjones/opt/miniconda3/envs/minimal_ds/lib/python3.9/site-packages/sklearn/neural_network/_multilayer_perceptron.py:614: ConvergenceWarning: Stochastic Optimizer: Maximum iterations (200) reached and the optimization hasn't converged yet.\n",
      "  warnings.warn(\n",
      "/Users/lucasjones/opt/miniconda3/envs/minimal_ds/lib/python3.9/site-packages/sklearn/neural_network/_multilayer_perceptron.py:614: ConvergenceWarning: Stochastic Optimizer: Maximum iterations (200) reached and the optimization hasn't converged yet.\n",
      "  warnings.warn(\n",
      "/Users/lucasjones/opt/miniconda3/envs/minimal_ds/lib/python3.9/site-packages/sklearn/neural_network/_multilayer_perceptron.py:614: ConvergenceWarning: Stochastic Optimizer: Maximum iterations (200) reached and the optimization hasn't converged yet.\n",
      "  warnings.warn(\n",
      "/Users/lucasjones/opt/miniconda3/envs/minimal_ds/lib/python3.9/site-packages/sklearn/neural_network/_multilayer_perceptron.py:614: ConvergenceWarning: Stochastic Optimizer: Maximum iterations (200) reached and the optimization hasn't converged yet.\n",
      "  warnings.warn(\n",
      "/Users/lucasjones/opt/miniconda3/envs/minimal_ds/lib/python3.9/site-packages/sklearn/neural_network/_multilayer_perceptron.py:614: ConvergenceWarning: Stochastic Optimizer: Maximum iterations (200) reached and the optimization hasn't converged yet.\n",
      "  warnings.warn(\n",
      "/Users/lucasjones/opt/miniconda3/envs/minimal_ds/lib/python3.9/site-packages/sklearn/neural_network/_multilayer_perceptron.py:614: ConvergenceWarning: Stochastic Optimizer: Maximum iterations (200) reached and the optimization hasn't converged yet.\n",
      "  warnings.warn(\n",
      "/Users/lucasjones/opt/miniconda3/envs/minimal_ds/lib/python3.9/site-packages/sklearn/neural_network/_multilayer_perceptron.py:614: ConvergenceWarning: Stochastic Optimizer: Maximum iterations (200) reached and the optimization hasn't converged yet.\n",
      "  warnings.warn(\n",
      "/Users/lucasjones/opt/miniconda3/envs/minimal_ds/lib/python3.9/site-packages/sklearn/neural_network/_multilayer_perceptron.py:614: ConvergenceWarning: Stochastic Optimizer: Maximum iterations (200) reached and the optimization hasn't converged yet.\n",
      "  warnings.warn(\n",
      "/Users/lucasjones/opt/miniconda3/envs/minimal_ds/lib/python3.9/site-packages/sklearn/neural_network/_multilayer_perceptron.py:614: ConvergenceWarning: Stochastic Optimizer: Maximum iterations (200) reached and the optimization hasn't converged yet.\n",
      "  warnings.warn(\n",
      "/Users/lucasjones/opt/miniconda3/envs/minimal_ds/lib/python3.9/site-packages/sklearn/neural_network/_multilayer_perceptron.py:614: ConvergenceWarning: Stochastic Optimizer: Maximum iterations (200) reached and the optimization hasn't converged yet.\n",
      "  warnings.warn(\n",
      "/Users/lucasjones/opt/miniconda3/envs/minimal_ds/lib/python3.9/site-packages/sklearn/neural_network/_multilayer_perceptron.py:614: ConvergenceWarning: Stochastic Optimizer: Maximum iterations (200) reached and the optimization hasn't converged yet.\n",
      "  warnings.warn(\n",
      "/Users/lucasjones/opt/miniconda3/envs/minimal_ds/lib/python3.9/site-packages/sklearn/neural_network/_multilayer_perceptron.py:614: ConvergenceWarning: Stochastic Optimizer: Maximum iterations (200) reached and the optimization hasn't converged yet.\n",
      "  warnings.warn(\n"
     ]
    },
    {
     "name": "stdout",
     "output_type": "stream",
     "text": [
      "MAE for MLPRegressor: 0.7686 complications\n",
      "----------------------------------------------------------------------\n"
     ]
    },
    {
     "name": "stderr",
     "output_type": "stream",
     "text": [
      "/Users/lucasjones/opt/miniconda3/envs/minimal_ds/lib/python3.9/site-packages/sklearn/neural_network/_multilayer_perceptron.py:614: ConvergenceWarning: Stochastic Optimizer: Maximum iterations (200) reached and the optimization hasn't converged yet.\n",
      "  warnings.warn(\n"
     ]
    }
   ],
   "source": [
    "for i, j in zip(nonlinear_models, nonlinear_model_names):\n",
    "    print('day_three_df:')\n",
    "    day_three_results.loc[j + ', k=15'] = get_nonlinear_model(i, day_three_df, d3_features, 15)\n",
    "    print('-' * 70)\n",
    "    print('admission_df:')\n",
    "    admission_results.loc[j + ', k=15'] = get_nonlinear_model(i, admission_df, admission_features, 15)\n",
    "    print('-' * 70)"
   ]
  },
  {
   "cell_type": "markdown",
   "id": "a6f5d7d7",
   "metadata": {},
   "source": [
    "In order to implement the SVR algorithm, for now we'll call the linear_cross_val function. This is because the way the random_state parameter is implemented in sklearn's regresssion version of SVM is different syntactically than the other nonlinear algorithms, and SVR actually doesn't accept a random_state parameter. This doesn't change the fact that we'll still get a valid result from using the logic in our linear_cross_val function. As we move forward into hyperparameter tuning, we'll address this with more granularity.  "
   ]
  },
  {
   "cell_type": "code",
   "execution_count": 106,
   "id": "7dbbf13d",
   "metadata": {},
   "outputs": [
    {
     "name": "stdout",
     "output_type": "stream",
     "text": [
      "RMSE for SVR: 0.8939 complications\n",
      "MAE for SVR: 0.6782 complications\n",
      "----------------------------------------------------------------------\n",
      "admission_df:\n",
      "RMSE for SVR: 0.9165 complications\n",
      "MAE for SVR: 0.6973 complications\n",
      "----------------------------------------------------------------------\n"
     ]
    }
   ],
   "source": [
    "day_three_results.loc['SVR' + ' k=15'] = linear_cross_val(SVR, day_three_df, d3_features, 15)\n",
    "print('-' * 70)\n",
    "print('admission_df:')\n",
    "admission_results.loc['SVR' + ' k=15'] = linear_cross_val(SVR, admission_df, admission_features, 15)\n",
    "print('-' * 70)"
   ]
  },
  {
   "cell_type": "code",
   "execution_count": 107,
   "id": "749c922c",
   "metadata": {},
   "outputs": [
    {
     "data": {
      "text/html": [
       "<div>\n",
       "<style scoped>\n",
       "    .dataframe tbody tr th:only-of-type {\n",
       "        vertical-align: middle;\n",
       "    }\n",
       "\n",
       "    .dataframe tbody tr th {\n",
       "        vertical-align: top;\n",
       "    }\n",
       "\n",
       "    .dataframe thead th {\n",
       "        text-align: right;\n",
       "    }\n",
       "</style>\n",
       "<table border=\"1\" class=\"dataframe\">\n",
       "  <thead>\n",
       "    <tr style=\"text-align: right;\">\n",
       "      <th></th>\n",
       "      <th>RMSE</th>\n",
       "      <th>MAE</th>\n",
       "    </tr>\n",
       "  </thead>\n",
       "  <tbody>\n",
       "    <tr>\n",
       "      <th>KNeighbors Regression Holdout</th>\n",
       "      <td>0.9203</td>\n",
       "      <td>0.6924</td>\n",
       "    </tr>\n",
       "    <tr>\n",
       "      <th>Linear Regression Holdout</th>\n",
       "      <td>0.8404</td>\n",
       "      <td>0.6548</td>\n",
       "    </tr>\n",
       "    <tr>\n",
       "      <th>KNeighbors Regression Cross Val, k=15</th>\n",
       "      <td>0.9471</td>\n",
       "      <td>0.7366</td>\n",
       "    </tr>\n",
       "    <tr>\n",
       "      <th>Linear Regression Cross Val, k=15</th>\n",
       "      <td>0.8883</td>\n",
       "      <td>0.7019</td>\n",
       "    </tr>\n",
       "    <tr>\n",
       "      <th>Decision Tree, k=15</th>\n",
       "      <td>1.2401</td>\n",
       "      <td>0.8984</td>\n",
       "    </tr>\n",
       "    <tr>\n",
       "      <th>Random Forest, k=15</th>\n",
       "      <td>0.9316</td>\n",
       "      <td>0.7223</td>\n",
       "    </tr>\n",
       "    <tr>\n",
       "      <th>Multi-layer Perceptron, k=15</th>\n",
       "      <td>1.0278</td>\n",
       "      <td>0.8108</td>\n",
       "    </tr>\n",
       "    <tr>\n",
       "      <th>SVR k=15</th>\n",
       "      <td>0.8939</td>\n",
       "      <td>0.6782</td>\n",
       "    </tr>\n",
       "  </tbody>\n",
       "</table>\n",
       "</div>"
      ],
      "text/plain": [
       "                                         RMSE     MAE\n",
       "KNeighbors Regression Holdout          0.9203  0.6924\n",
       "Linear Regression Holdout              0.8404  0.6548\n",
       "KNeighbors Regression Cross Val, k=15  0.9471  0.7366\n",
       "Linear Regression Cross Val, k=15      0.8883  0.7019\n",
       "Decision Tree, k=15                    1.2401  0.8984\n",
       "Random Forest, k=15                    0.9316  0.7223\n",
       "Multi-layer Perceptron, k=15           1.0278  0.8108\n",
       "SVR k=15                               0.8939  0.6782"
      ]
     },
     "execution_count": 107,
     "metadata": {},
     "output_type": "execute_result"
    }
   ],
   "source": [
    "day_three_results"
   ]
  },
  {
   "cell_type": "code",
   "execution_count": 108,
   "id": "7302eda3",
   "metadata": {},
   "outputs": [
    {
     "data": {
      "text/html": [
       "<div>\n",
       "<style scoped>\n",
       "    .dataframe tbody tr th:only-of-type {\n",
       "        vertical-align: middle;\n",
       "    }\n",
       "\n",
       "    .dataframe tbody tr th {\n",
       "        vertical-align: top;\n",
       "    }\n",
       "\n",
       "    .dataframe thead th {\n",
       "        text-align: right;\n",
       "    }\n",
       "</style>\n",
       "<table border=\"1\" class=\"dataframe\">\n",
       "  <thead>\n",
       "    <tr style=\"text-align: right;\">\n",
       "      <th></th>\n",
       "      <th>RMSE</th>\n",
       "      <th>MAE</th>\n",
       "    </tr>\n",
       "  </thead>\n",
       "  <tbody>\n",
       "    <tr>\n",
       "      <th>KNeighbors Regression Holdout</th>\n",
       "      <td>0.9279</td>\n",
       "      <td>0.7076</td>\n",
       "    </tr>\n",
       "    <tr>\n",
       "      <th>Linear Regression Holdout</th>\n",
       "      <td>0.8473</td>\n",
       "      <td>0.6609</td>\n",
       "    </tr>\n",
       "    <tr>\n",
       "      <th>KNeighbors Regression Cross Val, k=15</th>\n",
       "      <td>0.9873</td>\n",
       "      <td>0.7742</td>\n",
       "    </tr>\n",
       "    <tr>\n",
       "      <th>Linear Regression Cross Val, k=15</th>\n",
       "      <td>0.9064</td>\n",
       "      <td>0.7163</td>\n",
       "    </tr>\n",
       "    <tr>\n",
       "      <th>Decision Tree, k=15</th>\n",
       "      <td>1.2128</td>\n",
       "      <td>0.8831</td>\n",
       "    </tr>\n",
       "    <tr>\n",
       "      <th>Random Forest, k=15</th>\n",
       "      <td>0.9778</td>\n",
       "      <td>0.7695</td>\n",
       "    </tr>\n",
       "    <tr>\n",
       "      <th>Multi-layer Perceptron, k=15</th>\n",
       "      <td>0.9801</td>\n",
       "      <td>0.7686</td>\n",
       "    </tr>\n",
       "    <tr>\n",
       "      <th>SVR k=15</th>\n",
       "      <td>0.9165</td>\n",
       "      <td>0.6973</td>\n",
       "    </tr>\n",
       "  </tbody>\n",
       "</table>\n",
       "</div>"
      ],
      "text/plain": [
       "                                         RMSE     MAE\n",
       "KNeighbors Regression Holdout          0.9279  0.7076\n",
       "Linear Regression Holdout              0.8473  0.6609\n",
       "KNeighbors Regression Cross Val, k=15  0.9873  0.7742\n",
       "Linear Regression Cross Val, k=15      0.9064  0.7163\n",
       "Decision Tree, k=15                    1.2128  0.8831\n",
       "Random Forest, k=15                    0.9778  0.7695\n",
       "Multi-layer Perceptron, k=15           0.9801  0.7686\n",
       "SVR k=15                               0.9165  0.6973"
      ]
     },
     "execution_count": 108,
     "metadata": {},
     "output_type": "execute_result"
    }
   ],
   "source": [
    "admission_results"
   ]
  },
  {
   "cell_type": "markdown",
   "id": "04413a97",
   "metadata": {},
   "source": [
    "We've explored a number of different models now, and have some initial scores. \n",
    "\n",
    "At first glance, it would seem as if the linear models are more successful than the nonlinear models. As we'll find when we visualize the variance between the training and validation sets, these models are still likely overfitting, as previously mentioned. \n",
    "\n",
    "Out of the default nonlinear models, the SVR model performs the best on both the day three and admission datasets. \n"
   ]
  },
  {
   "cell_type": "markdown",
   "id": "e16188fc",
   "metadata": {},
   "source": [
    "<a id=\"Model_selection_and_hyperparameter_tuning\"></a>"
   ]
  },
  {
   "cell_type": "markdown",
   "id": "3c6c8ee7",
   "metadata": {},
   "source": [
    "## 4.3 Model Selection and Hyperparameter Tuning"
   ]
  },
  {
   "cell_type": "markdown",
   "id": "ad7cf907",
   "metadata": {},
   "source": [
    "So far, we've only used the default settings for each of these algorithms. However, we can (and should!) change these default parameters to find ways to improve each model's performance. In fact, we can run the model through a range of different values for each parameter to systematically optimize the performance, rather than just guessing at different parameter combinations. This process, called hyperparameter tuning, can greatly improve our scores. \n",
    "\n",
    "Let's begin by building a function that can do such a thing."
   ]
  },
  {
   "cell_type": "code",
   "execution_count": 109,
   "id": "a5616bdf",
   "metadata": {},
   "outputs": [],
   "source": [
    "from sklearn.model_selection import GridSearchCV\n",
    "\n",
    "def gridsearchCV(df, features):\n",
    "    \n",
    "    '''This returns a list of lists which each contain the scores for whatever number of scoring metrics are specififed.\n",
    "        If more than 2 scoring types are needed, add them to the score types list, and update the pairwise_scores list logic \n",
    "        to include the correct number of scoring types. \n",
    "        \n",
    "        Also, becauses the returned list of lists does not label the estimator used, be sure to check which models \n",
    "        are used in the function as well as their order. \n",
    "    '''\n",
    "    # separating the df into features and target\n",
    "    all_X = df[features]\n",
    "    all_y = df[target]\n",
    "    \n",
    "    # identifying the parameters for each model to search through:\n",
    "    #random forest\n",
    "    depth = [1, 8]\n",
    "    rf_hyper = dict(n_estimators=[25, 50], min_samples_leaf=[1, 5], max_depth=depth, random_state=[1])\n",
    "    \n",
    "    # support vector machine\n",
    "    svr_hyper = dict(kernel=['linear', 'poly', 'rbf'], C=[0.2, 0.6, 1, 1.4])\n",
    "\n",
    "    # multi-layer perceptron\n",
    "    layers = []\n",
    "    for i in range(1, 15, 4):\n",
    "        layers.append((i, i,))\n",
    "    \n",
    "    mlp_hyper = dict(hidden_layer_sizes=layers, activation=['logistic', 'tanh', 'relu'], random_state=[1], max_iter=[3000])\n",
    "\n",
    "    # creating an iterable for the models\n",
    "    models = [\n",
    "        {\n",
    "            'name': 'Random Forest',\n",
    "            'estimator': RandomForestRegressor(),\n",
    "            'hyperparameters': rf_hyper\n",
    "        },\n",
    "        {\n",
    "            'name': 'SVR',\n",
    "            'estimator': SVR(),\n",
    "            'hyperparameters': svr_hyper\n",
    "        },\n",
    "        {\n",
    "            'name': 'Multi-layer Perceptron',\n",
    "            'estimator': MLPRegressor(),\n",
    "            'hyperparameters': mlp_hyper\n",
    "        }\n",
    "    ]\n",
    "    \n",
    "    # identifying score types and a total list of scores\n",
    "    score_types = ['neg_root_mean_squared_error', 'neg_mean_absolute_error']\n",
    "    model_scoring = []\n",
    "  \n",
    "    # performing the gridsearch to find the optimal parameterrs\n",
    "    for i in models:\n",
    "        for j in score_types:\n",
    "            grid = GridSearchCV(i['estimator'], i['hyperparameters'], scoring=j, cv=15)\n",
    "            grid.fit(all_X, all_y)\n",
    "\n",
    "            best_score = np.round(abs(grid.best_score_), 4)\n",
    "            best_estimator = grid.best_estimator_\n",
    "\n",
    "            model_scoring.append(best_score)\n",
    "            \n",
    "            print(j, 'best_score:', best_score)\n",
    "            print('best_estimator:', best_estimator)\n",
    "            print('-' * 70)\n",
    "\n",
    "    # returning a list of sublists that contain each model's scores\n",
    "    pairwise_scores = [model_scoring[i:i+2] for i in range(0, len(model_scoring), 2)]\n",
    "        \n",
    "    return pairwise_scores\n"
   ]
  },
  {
   "cell_type": "code",
   "execution_count": 110,
   "id": "ffcb4565",
   "metadata": {},
   "outputs": [
    {
     "name": "stdout",
     "output_type": "stream",
     "text": [
      "neg_root_mean_squared_error best_score: 0.8972\n",
      "best_estimator: RandomForestRegressor(max_depth=8, min_samples_leaf=5, n_estimators=25,\n",
      "                      random_state=1)\n",
      "----------------------------------------------------------------------\n",
      "neg_mean_absolute_error best_score: 0.7147\n",
      "best_estimator: RandomForestRegressor(max_depth=8, min_samples_leaf=5, n_estimators=25,\n",
      "                      random_state=1)\n",
      "----------------------------------------------------------------------\n",
      "neg_root_mean_squared_error best_score: 0.8831\n",
      "best_estimator: SVR(C=0.2)\n",
      "----------------------------------------------------------------------\n",
      "neg_mean_absolute_error best_score: 0.6739\n",
      "best_estimator: SVR(C=0.6)\n",
      "----------------------------------------------------------------------\n",
      "neg_root_mean_squared_error best_score: 0.8762\n",
      "best_estimator: MLPRegressor(activation='logistic', hidden_layer_sizes=(5, 5), max_iter=3000,\n",
      "             random_state=1)\n",
      "----------------------------------------------------------------------\n",
      "neg_mean_absolute_error best_score: 0.6987\n",
      "best_estimator: MLPRegressor(activation='logistic', hidden_layer_sizes=(5, 5), max_iter=3000,\n",
      "             random_state=1)\n",
      "----------------------------------------------------------------------\n"
     ]
    }
   ],
   "source": [
    "d3_gridsearch = gridsearchCV(day_three_df, d3_features)"
   ]
  },
  {
   "cell_type": "code",
   "execution_count": 111,
   "id": "c5f67c09",
   "metadata": {},
   "outputs": [
    {
     "data": {
      "text/plain": [
       "[[0.8972, 0.7147], [0.8831, 0.6739], [0.8762, 0.6987]]"
      ]
     },
     "execution_count": 111,
     "metadata": {},
     "output_type": "execute_result"
    }
   ],
   "source": [
    "d3_gridsearch"
   ]
  },
  {
   "cell_type": "code",
   "execution_count": 112,
   "id": "35231333",
   "metadata": {
    "scrolled": false
   },
   "outputs": [
    {
     "name": "stdout",
     "output_type": "stream",
     "text": [
      "neg_root_mean_squared_error best_score: 0.9158\n",
      "best_estimator: RandomForestRegressor(max_depth=8, min_samples_leaf=5, n_estimators=25,\n",
      "                      random_state=1)\n",
      "----------------------------------------------------------------------\n",
      "neg_mean_absolute_error best_score: 0.7302\n",
      "best_estimator: RandomForestRegressor(max_depth=8, min_samples_leaf=5, n_estimators=25,\n",
      "                      random_state=1)\n",
      "----------------------------------------------------------------------\n",
      "neg_root_mean_squared_error best_score: 0.9092\n",
      "best_estimator: SVR(C=0.2)\n",
      "----------------------------------------------------------------------\n",
      "neg_mean_absolute_error best_score: 0.6973\n",
      "best_estimator: SVR(C=1)\n",
      "----------------------------------------------------------------------\n",
      "neg_root_mean_squared_error best_score: 0.8963\n",
      "best_estimator: MLPRegressor(activation='logistic', hidden_layer_sizes=(9, 9), max_iter=3000,\n",
      "             random_state=1)\n",
      "----------------------------------------------------------------------\n",
      "neg_mean_absolute_error best_score: 0.7171\n",
      "best_estimator: MLPRegressor(activation='logistic', hidden_layer_sizes=(13, 13), max_iter=3000,\n",
      "             random_state=1)\n",
      "----------------------------------------------------------------------\n"
     ]
    }
   ],
   "source": [
    "admission_gridsearch = gridsearchCV(admission_df, admission_features)"
   ]
  },
  {
   "cell_type": "code",
   "execution_count": 113,
   "id": "0273933b",
   "metadata": {},
   "outputs": [
    {
     "data": {
      "text/plain": [
       "[[0.9158, 0.7302], [0.9092, 0.6973], [0.8963, 0.7171]]"
      ]
     },
     "execution_count": 113,
     "metadata": {},
     "output_type": "execute_result"
    }
   ],
   "source": [
    "admission_gridsearch"
   ]
  },
  {
   "cell_type": "markdown",
   "id": "5e21b357",
   "metadata": {},
   "source": [
    "By running the above gridsearchCV function, we now have the ideal combinations of the parameters we tried for each model. Let's assign these parameters to variables so that we can repeat this accuracy moving forward without needing to run this computationally expensive function again. We can always adjust the model by providing different parameters to compare, but we'll leave it here for the sake of this current exploration. \n",
    "\n",
    "Note that the best parameters are almost identical for both the day three and admissions datasets."
   ]
  },
  {
   "cell_type": "code",
   "execution_count": 114,
   "id": "e6e89573",
   "metadata": {},
   "outputs": [],
   "source": [
    "d3_rf_best_params = RandomForestRegressor(max_depth=8, min_samples_leaf=5, n_estimators=25,\n",
    "                      random_state=1)\n",
    "\n",
    "d3_svr_best_params = SVR(C=0.2)\n",
    "\n",
    "d3_mlp_best_params = MLPRegressor(activation='logistic', hidden_layer_sizes=(5, 5), max_iter=3000,\n",
    "             random_state=1)"
   ]
  },
  {
   "cell_type": "code",
   "execution_count": 115,
   "id": "f7d96816",
   "metadata": {},
   "outputs": [],
   "source": [
    "admission_rf_best_params = RandomForestRegressor(max_depth=8, min_samples_leaf=5, n_estimators=25,\n",
    "                          random_state=1)\n",
    "\n",
    "admission_svr_best_params = SVR(C=0.2)\n",
    "\n",
    "admission_mlp_best_params = MLPRegressor(activation='logistic', hidden_layer_sizes=(9, 9), max_iter=3000,\n",
    "             random_state=1)\n"
   ]
  },
  {
   "cell_type": "code",
   "execution_count": 116,
   "id": "1d9fffdf",
   "metadata": {},
   "outputs": [
    {
     "name": "stdout",
     "output_type": "stream",
     "text": [
      "[[0.8972, 0.7147], [0.8831, 0.6739], [0.8762, 0.6987]]\n",
      "[[0.9158, 0.7302], [0.9092, 0.6973], [0.8963, 0.7171]]\n"
     ]
    }
   ],
   "source": [
    "print(d3_gridsearch)\n",
    "print(admission_gridsearch)\n"
   ]
  },
  {
   "cell_type": "code",
   "execution_count": 117,
   "id": "cf050f76",
   "metadata": {},
   "outputs": [],
   "source": [
    "# updating each df \n",
    "# be sure that the index corresponds to the correct model you say you're assigning \n",
    "\n",
    "day_three_results.loc['Random Forest' + ' tuned parameters'] = d3_gridsearch[0]\n",
    "day_three_results.loc['SVR' + ' tuned parameters'] = d3_gridsearch[1]\n",
    "day_three_results.loc['Multi-layer Perceptron' + ' tuned parameters'] = d3_gridsearch[2]\n",
    "\n",
    "admission_results.loc['Random Forest' + ' tuned parameters'] = admission_gridsearch[0]\n",
    "admission_results.loc['SVR' + ' tuned parameters'] = admission_gridsearch[1]\n",
    "admission_results.loc['Multi-layer Perceptron' + ' tuned parameters'] = admission_gridsearch[2]"
   ]
  },
  {
   "cell_type": "code",
   "execution_count": 118,
   "id": "9714c8ed",
   "metadata": {},
   "outputs": [
    {
     "data": {
      "text/html": [
       "<div>\n",
       "<style scoped>\n",
       "    .dataframe tbody tr th:only-of-type {\n",
       "        vertical-align: middle;\n",
       "    }\n",
       "\n",
       "    .dataframe tbody tr th {\n",
       "        vertical-align: top;\n",
       "    }\n",
       "\n",
       "    .dataframe thead th {\n",
       "        text-align: right;\n",
       "    }\n",
       "</style>\n",
       "<table border=\"1\" class=\"dataframe\">\n",
       "  <thead>\n",
       "    <tr style=\"text-align: right;\">\n",
       "      <th></th>\n",
       "      <th>RMSE</th>\n",
       "      <th>MAE</th>\n",
       "    </tr>\n",
       "  </thead>\n",
       "  <tbody>\n",
       "    <tr>\n",
       "      <th>KNeighbors Regression Holdout</th>\n",
       "      <td>0.9203</td>\n",
       "      <td>0.6924</td>\n",
       "    </tr>\n",
       "    <tr>\n",
       "      <th>Linear Regression Holdout</th>\n",
       "      <td>0.8404</td>\n",
       "      <td>0.6548</td>\n",
       "    </tr>\n",
       "    <tr>\n",
       "      <th>KNeighbors Regression Cross Val, k=15</th>\n",
       "      <td>0.9471</td>\n",
       "      <td>0.7366</td>\n",
       "    </tr>\n",
       "    <tr>\n",
       "      <th>Linear Regression Cross Val, k=15</th>\n",
       "      <td>0.8883</td>\n",
       "      <td>0.7019</td>\n",
       "    </tr>\n",
       "    <tr>\n",
       "      <th>Decision Tree, k=15</th>\n",
       "      <td>1.2401</td>\n",
       "      <td>0.8984</td>\n",
       "    </tr>\n",
       "    <tr>\n",
       "      <th>Random Forest, k=15</th>\n",
       "      <td>0.9316</td>\n",
       "      <td>0.7223</td>\n",
       "    </tr>\n",
       "    <tr>\n",
       "      <th>Multi-layer Perceptron, k=15</th>\n",
       "      <td>1.0278</td>\n",
       "      <td>0.8108</td>\n",
       "    </tr>\n",
       "    <tr>\n",
       "      <th>SVR k=15</th>\n",
       "      <td>0.8939</td>\n",
       "      <td>0.6782</td>\n",
       "    </tr>\n",
       "    <tr>\n",
       "      <th>Random Forest tuned parameters</th>\n",
       "      <td>0.8972</td>\n",
       "      <td>0.7147</td>\n",
       "    </tr>\n",
       "    <tr>\n",
       "      <th>SVR tuned parameters</th>\n",
       "      <td>0.8831</td>\n",
       "      <td>0.6739</td>\n",
       "    </tr>\n",
       "    <tr>\n",
       "      <th>Multi-layer Perceptron tuned parameters</th>\n",
       "      <td>0.8762</td>\n",
       "      <td>0.6987</td>\n",
       "    </tr>\n",
       "  </tbody>\n",
       "</table>\n",
       "</div>"
      ],
      "text/plain": [
       "                                           RMSE     MAE\n",
       "KNeighbors Regression Holdout            0.9203  0.6924\n",
       "Linear Regression Holdout                0.8404  0.6548\n",
       "KNeighbors Regression Cross Val, k=15    0.9471  0.7366\n",
       "Linear Regression Cross Val, k=15        0.8883  0.7019\n",
       "Decision Tree, k=15                      1.2401  0.8984\n",
       "Random Forest, k=15                      0.9316  0.7223\n",
       "Multi-layer Perceptron, k=15             1.0278  0.8108\n",
       "SVR k=15                                 0.8939  0.6782\n",
       "Random Forest tuned parameters           0.8972  0.7147\n",
       "SVR tuned parameters                     0.8831  0.6739\n",
       "Multi-layer Perceptron tuned parameters  0.8762  0.6987"
      ]
     },
     "execution_count": 118,
     "metadata": {},
     "output_type": "execute_result"
    }
   ],
   "source": [
    "day_three_results"
   ]
  },
  {
   "cell_type": "code",
   "execution_count": 119,
   "id": "f268dc10",
   "metadata": {},
   "outputs": [
    {
     "data": {
      "text/html": [
       "<div>\n",
       "<style scoped>\n",
       "    .dataframe tbody tr th:only-of-type {\n",
       "        vertical-align: middle;\n",
       "    }\n",
       "\n",
       "    .dataframe tbody tr th {\n",
       "        vertical-align: top;\n",
       "    }\n",
       "\n",
       "    .dataframe thead th {\n",
       "        text-align: right;\n",
       "    }\n",
       "</style>\n",
       "<table border=\"1\" class=\"dataframe\">\n",
       "  <thead>\n",
       "    <tr style=\"text-align: right;\">\n",
       "      <th></th>\n",
       "      <th>RMSE</th>\n",
       "      <th>MAE</th>\n",
       "    </tr>\n",
       "  </thead>\n",
       "  <tbody>\n",
       "    <tr>\n",
       "      <th>KNeighbors Regression Holdout</th>\n",
       "      <td>0.9279</td>\n",
       "      <td>0.7076</td>\n",
       "    </tr>\n",
       "    <tr>\n",
       "      <th>Linear Regression Holdout</th>\n",
       "      <td>0.8473</td>\n",
       "      <td>0.6609</td>\n",
       "    </tr>\n",
       "    <tr>\n",
       "      <th>KNeighbors Regression Cross Val, k=15</th>\n",
       "      <td>0.9873</td>\n",
       "      <td>0.7742</td>\n",
       "    </tr>\n",
       "    <tr>\n",
       "      <th>Linear Regression Cross Val, k=15</th>\n",
       "      <td>0.9064</td>\n",
       "      <td>0.7163</td>\n",
       "    </tr>\n",
       "    <tr>\n",
       "      <th>Decision Tree, k=15</th>\n",
       "      <td>1.2128</td>\n",
       "      <td>0.8831</td>\n",
       "    </tr>\n",
       "    <tr>\n",
       "      <th>Random Forest, k=15</th>\n",
       "      <td>0.9778</td>\n",
       "      <td>0.7695</td>\n",
       "    </tr>\n",
       "    <tr>\n",
       "      <th>Multi-layer Perceptron, k=15</th>\n",
       "      <td>0.9801</td>\n",
       "      <td>0.7686</td>\n",
       "    </tr>\n",
       "    <tr>\n",
       "      <th>SVR k=15</th>\n",
       "      <td>0.9165</td>\n",
       "      <td>0.6973</td>\n",
       "    </tr>\n",
       "    <tr>\n",
       "      <th>Random Forest tuned parameters</th>\n",
       "      <td>0.9158</td>\n",
       "      <td>0.7302</td>\n",
       "    </tr>\n",
       "    <tr>\n",
       "      <th>SVR tuned parameters</th>\n",
       "      <td>0.9092</td>\n",
       "      <td>0.6973</td>\n",
       "    </tr>\n",
       "    <tr>\n",
       "      <th>Multi-layer Perceptron tuned parameters</th>\n",
       "      <td>0.8963</td>\n",
       "      <td>0.7171</td>\n",
       "    </tr>\n",
       "  </tbody>\n",
       "</table>\n",
       "</div>"
      ],
      "text/plain": [
       "                                           RMSE     MAE\n",
       "KNeighbors Regression Holdout            0.9279  0.7076\n",
       "Linear Regression Holdout                0.8473  0.6609\n",
       "KNeighbors Regression Cross Val, k=15    0.9873  0.7742\n",
       "Linear Regression Cross Val, k=15        0.9064  0.7163\n",
       "Decision Tree, k=15                      1.2128  0.8831\n",
       "Random Forest, k=15                      0.9778  0.7695\n",
       "Multi-layer Perceptron, k=15             0.9801  0.7686\n",
       "SVR k=15                                 0.9165  0.6973\n",
       "Random Forest tuned parameters           0.9158  0.7302\n",
       "SVR tuned parameters                     0.9092  0.6973\n",
       "Multi-layer Perceptron tuned parameters  0.8963  0.7171"
      ]
     },
     "execution_count": 119,
     "metadata": {},
     "output_type": "execute_result"
    }
   ],
   "source": [
    "admission_results"
   ]
  },
  {
   "cell_type": "markdown",
   "id": "d2c80f65",
   "metadata": {},
   "source": [
    "We can see that a given model with tuned parameters performs better than its untuned version. The performance and translation of a model using this sort of hyperparameter tuning are certainly improvements; however, using an exhaustive brute-force search like this is computationally expensive, and when applied to larger datasets (10,000s of rows), may not be a realistic option. There are ways to address this problem which are outside the scope of this project, so we will continue on.   "
   ]
  },
  {
   "cell_type": "markdown",
   "id": "fbfb1d02",
   "metadata": {},
   "source": [
    "<a id=\"Visualizing_the_best-performing_models\"></a>"
   ]
  },
  {
   "cell_type": "markdown",
   "id": "ee588055",
   "metadata": {},
   "source": [
    "## 4.4  Visualizing the Best-Performing Models "
   ]
  },
  {
   "cell_type": "markdown",
   "id": "c41722db",
   "metadata": {},
   "source": [
    "It's time to finally see how well our models' scores stack up against unseen data. Until now, we've seen improvements in the scores of our models as we've gone through model selection and hyperparameter tuning, but we haven't gotten a true sense of how applicable any one of them may be in reality. In other words, how much is a model over (or under) fitting? \n",
    "\n",
    "We'll answer this question by finding the variance between our training and validation sets. We'll begin by finding the variance for our linear model that seems to perform well."
   ]
  },
  {
   "cell_type": "code",
   "execution_count": 120,
   "id": "b016a153",
   "metadata": {},
   "outputs": [],
   "source": [
    "day_three_results['RMSE Variance'] = np.nan\n",
    "day_three_results['MAE Variance'] = np.nan\n",
    "admission_results['RMSE Variance'] = np.nan\n",
    "admission_results['MAE Variance'] = np.nan"
   ]
  },
  {
   "cell_type": "code",
   "execution_count": 121,
   "id": "c28540fa",
   "metadata": {},
   "outputs": [
    {
     "data": {
      "text/html": [
       "<div>\n",
       "<style scoped>\n",
       "    .dataframe tbody tr th:only-of-type {\n",
       "        vertical-align: middle;\n",
       "    }\n",
       "\n",
       "    .dataframe tbody tr th {\n",
       "        vertical-align: top;\n",
       "    }\n",
       "\n",
       "    .dataframe thead th {\n",
       "        text-align: right;\n",
       "    }\n",
       "</style>\n",
       "<table border=\"1\" class=\"dataframe\">\n",
       "  <thead>\n",
       "    <tr style=\"text-align: right;\">\n",
       "      <th></th>\n",
       "      <th>RMSE</th>\n",
       "      <th>MAE</th>\n",
       "      <th>RMSE Variance</th>\n",
       "      <th>MAE Variance</th>\n",
       "    </tr>\n",
       "  </thead>\n",
       "  <tbody>\n",
       "    <tr>\n",
       "      <th>KNeighbors Regression Holdout</th>\n",
       "      <td>0.9203</td>\n",
       "      <td>0.6924</td>\n",
       "      <td>NaN</td>\n",
       "      <td>NaN</td>\n",
       "    </tr>\n",
       "    <tr>\n",
       "      <th>Linear Regression Holdout</th>\n",
       "      <td>0.8404</td>\n",
       "      <td>0.6548</td>\n",
       "      <td>NaN</td>\n",
       "      <td>NaN</td>\n",
       "    </tr>\n",
       "    <tr>\n",
       "      <th>KNeighbors Regression Cross Val, k=15</th>\n",
       "      <td>0.9471</td>\n",
       "      <td>0.7366</td>\n",
       "      <td>NaN</td>\n",
       "      <td>NaN</td>\n",
       "    </tr>\n",
       "    <tr>\n",
       "      <th>Linear Regression Cross Val, k=15</th>\n",
       "      <td>0.8883</td>\n",
       "      <td>0.7019</td>\n",
       "      <td>NaN</td>\n",
       "      <td>NaN</td>\n",
       "    </tr>\n",
       "    <tr>\n",
       "      <th>Decision Tree, k=15</th>\n",
       "      <td>1.2401</td>\n",
       "      <td>0.8984</td>\n",
       "      <td>NaN</td>\n",
       "      <td>NaN</td>\n",
       "    </tr>\n",
       "    <tr>\n",
       "      <th>Random Forest, k=15</th>\n",
       "      <td>0.9316</td>\n",
       "      <td>0.7223</td>\n",
       "      <td>NaN</td>\n",
       "      <td>NaN</td>\n",
       "    </tr>\n",
       "    <tr>\n",
       "      <th>Multi-layer Perceptron, k=15</th>\n",
       "      <td>1.0278</td>\n",
       "      <td>0.8108</td>\n",
       "      <td>NaN</td>\n",
       "      <td>NaN</td>\n",
       "    </tr>\n",
       "    <tr>\n",
       "      <th>SVR k=15</th>\n",
       "      <td>0.8939</td>\n",
       "      <td>0.6782</td>\n",
       "      <td>NaN</td>\n",
       "      <td>NaN</td>\n",
       "    </tr>\n",
       "    <tr>\n",
       "      <th>Random Forest tuned parameters</th>\n",
       "      <td>0.8972</td>\n",
       "      <td>0.7147</td>\n",
       "      <td>NaN</td>\n",
       "      <td>NaN</td>\n",
       "    </tr>\n",
       "    <tr>\n",
       "      <th>SVR tuned parameters</th>\n",
       "      <td>0.8831</td>\n",
       "      <td>0.6739</td>\n",
       "      <td>NaN</td>\n",
       "      <td>NaN</td>\n",
       "    </tr>\n",
       "    <tr>\n",
       "      <th>Multi-layer Perceptron tuned parameters</th>\n",
       "      <td>0.8762</td>\n",
       "      <td>0.6987</td>\n",
       "      <td>NaN</td>\n",
       "      <td>NaN</td>\n",
       "    </tr>\n",
       "  </tbody>\n",
       "</table>\n",
       "</div>"
      ],
      "text/plain": [
       "                                           RMSE     MAE  RMSE Variance  \\\n",
       "KNeighbors Regression Holdout            0.9203  0.6924            NaN   \n",
       "Linear Regression Holdout                0.8404  0.6548            NaN   \n",
       "KNeighbors Regression Cross Val, k=15    0.9471  0.7366            NaN   \n",
       "Linear Regression Cross Val, k=15        0.8883  0.7019            NaN   \n",
       "Decision Tree, k=15                      1.2401  0.8984            NaN   \n",
       "Random Forest, k=15                      0.9316  0.7223            NaN   \n",
       "Multi-layer Perceptron, k=15             1.0278  0.8108            NaN   \n",
       "SVR k=15                                 0.8939  0.6782            NaN   \n",
       "Random Forest tuned parameters           0.8972  0.7147            NaN   \n",
       "SVR tuned parameters                     0.8831  0.6739            NaN   \n",
       "Multi-layer Perceptron tuned parameters  0.8762  0.6987            NaN   \n",
       "\n",
       "                                         MAE Variance  \n",
       "KNeighbors Regression Holdout                     NaN  \n",
       "Linear Regression Holdout                         NaN  \n",
       "KNeighbors Regression Cross Val, k=15             NaN  \n",
       "Linear Regression Cross Val, k=15                 NaN  \n",
       "Decision Tree, k=15                               NaN  \n",
       "Random Forest, k=15                               NaN  \n",
       "Multi-layer Perceptron, k=15                      NaN  \n",
       "SVR k=15                                          NaN  \n",
       "Random Forest tuned parameters                    NaN  \n",
       "SVR tuned parameters                              NaN  \n",
       "Multi-layer Perceptron tuned parameters           NaN  "
      ]
     },
     "execution_count": 121,
     "metadata": {},
     "output_type": "execute_result"
    }
   ],
   "source": [
    "day_three_results"
   ]
  },
  {
   "cell_type": "markdown",
   "id": "cc3e995d",
   "metadata": {},
   "source": [
    "<a id=\"Plotting_variance_for_linear_model\"></a>"
   ]
  },
  {
   "cell_type": "markdown",
   "id": "c79e5a8c",
   "metadata": {},
   "source": [
    "### 4.4.1 Plotting Variance for Linear Model"
   ]
  },
  {
   "cell_type": "code",
   "execution_count": 122,
   "id": "0fc73439",
   "metadata": {},
   "outputs": [],
   "source": [
    "from sklearn.model_selection import learning_curve\n",
    "\n",
    "def plot_linear_variance(df, features):\n",
    "\n",
    "    # separating the df into features and target\n",
    "    X = df[features]\n",
    "    y = df[target]\n",
    "\n",
    "    # creating an iterable for scoring types\n",
    "    score_types = {'neg_root_mean_squared_error': 'RMSE', 'neg_mean_absolute_error': 'MAE'}\n",
    "    \n",
    "    # selecting the sizes of each training set\n",
    "    length = len(df)\n",
    "    train_sizes = [1, int(length*0.05), int(length*0.24), int(length*0.48), int(length*0.64), int(length*0.8)]\n",
    "   \n",
    "    variances = []\n",
    "    \n",
    "    # iterating through the score types to identify and plot training and validataion sets' performance \n",
    "    for i in score_types:\n",
    "        # obtaining the scores for training and validation sets\n",
    "        train_sizes, train_scores, validation_scores = learning_curve(\n",
    "            LinearRegression(), X, y, train_sizes=train_sizes, scoring=i, cv=15)\n",
    "        \n",
    "        print('Scoring for', score_types[i] + ':', '\\n')\n",
    "        print('train sizes:', '\\n', train_sizes)\n",
    "        print('-' * 70, '\\n')\n",
    "\n",
    "        train_scores_mean = np.round(abs(train_scores).mean(axis=1), 4)\n",
    "        validation_scores_mean = np.round(abs(validation_scores).mean(axis=1), 4)\n",
    "        variance = np.round(abs(validation_scores_mean - train_scores_mean), 4)\n",
    "        \n",
    "        variances.append(variance[-1])\n",
    "\n",
    "        print('Mean training scores:', '\\n', train_scores_mean)\n",
    "        print('-' * 70, '\\n')\n",
    "        print('Mean validation scores:', '\\n', validation_scores_mean)\n",
    "        print('-' * 70, '\\n')\n",
    "        print('Variance:', '\\n', variance)\n",
    "        print('-' * 70, '\\n')\n",
    "        \n",
    "        # plotting the graph of fitness\n",
    "        plt.plot(train_sizes, train_scores_mean, label = 'Training error')\n",
    "        plt.plot(train_sizes, validation_scores_mean, label = 'Validation error')\n",
    "        plt.ylabel(score_types[i], fontsize = 14)\n",
    "        plt.xlabel('Training set size', fontsize = 14)\n",
    "        plt.title('Learning Curves for Linear Regression', fontsize = 18, y = 1.03)\n",
    "        plt.legend()\n",
    "        plt.ylim(0, 1)\n",
    "        plt.show()\n",
    "        print('-' * 70)\n",
    "        print('-' * 70)\n",
    "                \n",
    "    return variances \n"
   ]
  },
  {
   "cell_type": "code",
   "execution_count": 123,
   "id": "e56b0556",
   "metadata": {
    "scrolled": true
   },
   "outputs": [
    {
     "name": "stdout",
     "output_type": "stream",
     "text": [
      "Scoring for RMSE: \n",
      "\n",
      "train sizes: \n",
      " [   1   85  408  816 1088 1360]\n",
      "---------------------------------------------------------------------- \n",
      "\n",
      "Mean training scores: \n",
      " [0.     0.3009 0.5058 0.5785 0.6934 0.7925]\n",
      "---------------------------------------------------------------------- \n",
      "\n",
      "Mean validation scores: \n",
      " [1.38440000e+00 1.19340000e+00 2.19540664e+10 2.26338495e+10\n",
      " 1.84085356e+10 1.40700936e+10]\n",
      "---------------------------------------------------------------------- \n",
      "\n",
      "Variance: \n",
      " [1.38440000e+00 8.92500000e-01 2.19540664e+10 2.26338495e+10\n",
      " 1.84085356e+10 1.40700936e+10]\n",
      "---------------------------------------------------------------------- \n",
      "\n"
     ]
    },
    {
     "data": {
      "image/png": "[encoded data removed]",
      "text/plain": [
       "<Figure size 432x288 with 1 Axes>"
      ]
     },
     "metadata": {
      "needs_background": "light"
     },
     "output_type": "display_data"
    },
    {
     "name": "stdout",
     "output_type": "stream",
     "text": [
      "----------------------------------------------------------------------\n",
      "----------------------------------------------------------------------\n",
      "Scoring for MAE: \n",
      "\n",
      "train sizes: \n",
      " [   1   85  408  816 1088 1360]\n",
      "---------------------------------------------------------------------- \n",
      "\n",
      "Mean training scores: \n",
      " [0.     0.2171 0.3647 0.4236 0.5347 0.6122]\n",
      "---------------------------------------------------------------------- \n",
      "\n",
      "Mean validation scores: \n",
      " [1.08190000e+00 9.22000000e-01 2.06526484e+09 2.12921346e+09\n",
      " 1.73172936e+09 1.32360307e+09]\n",
      "---------------------------------------------------------------------- \n",
      "\n",
      "Variance: \n",
      " [1.08190000e+00 7.04900000e-01 2.06526484e+09 2.12921346e+09\n",
      " 1.73172936e+09 1.32360307e+09]\n",
      "---------------------------------------------------------------------- \n",
      "\n"
     ]
    },
    {
     "data": {
      "image/png": "[encoded data removed]",
      "text/plain": [
       "<Figure size 432x288 with 1 Axes>"
      ]
     },
     "metadata": {
      "needs_background": "light"
     },
     "output_type": "display_data"
    },
    {
     "name": "stdout",
     "output_type": "stream",
     "text": [
      "----------------------------------------------------------------------\n",
      "----------------------------------------------------------------------\n"
     ]
    }
   ],
   "source": [
    "lr_variances = plot_linear_variance(day_three_df, d3_features)"
   ]
  },
  {
   "cell_type": "code",
   "execution_count": 124,
   "id": "414bd8a3",
   "metadata": {},
   "outputs": [
    {
     "data": {
      "text/plain": [
       "[14070093592.5724, 1323603066.3557]"
      ]
     },
     "execution_count": 124,
     "metadata": {},
     "output_type": "execute_result"
    }
   ],
   "source": [
    "lr_variances"
   ]
  },
  {
   "cell_type": "code",
   "execution_count": 125,
   "id": "bacc9f74",
   "metadata": {},
   "outputs": [],
   "source": [
    "day_three_results.loc['Linear Regression Cross Val, k=15']['RMSE Variance'] = 9999\n",
    "day_three_results.loc['Linear Regression Cross Val, k=15']['MAE Variance'] = 9999"
   ]
  },
  {
   "cell_type": "code",
   "execution_count": 126,
   "id": "9333fddd",
   "metadata": {
    "scrolled": true
   },
   "outputs": [
    {
     "data": {
      "text/html": [
       "<div>\n",
       "<style scoped>\n",
       "    .dataframe tbody tr th:only-of-type {\n",
       "        vertical-align: middle;\n",
       "    }\n",
       "\n",
       "    .dataframe tbody tr th {\n",
       "        vertical-align: top;\n",
       "    }\n",
       "\n",
       "    .dataframe thead th {\n",
       "        text-align: right;\n",
       "    }\n",
       "</style>\n",
       "<table border=\"1\" class=\"dataframe\">\n",
       "  <thead>\n",
       "    <tr style=\"text-align: right;\">\n",
       "      <th></th>\n",
       "      <th>RMSE</th>\n",
       "      <th>MAE</th>\n",
       "      <th>RMSE Variance</th>\n",
       "      <th>MAE Variance</th>\n",
       "    </tr>\n",
       "  </thead>\n",
       "  <tbody>\n",
       "    <tr>\n",
       "      <th>KNeighbors Regression Holdout</th>\n",
       "      <td>0.9203</td>\n",
       "      <td>0.6924</td>\n",
       "      <td>NaN</td>\n",
       "      <td>NaN</td>\n",
       "    </tr>\n",
       "    <tr>\n",
       "      <th>Linear Regression Holdout</th>\n",
       "      <td>0.8404</td>\n",
       "      <td>0.6548</td>\n",
       "      <td>NaN</td>\n",
       "      <td>NaN</td>\n",
       "    </tr>\n",
       "    <tr>\n",
       "      <th>KNeighbors Regression Cross Val, k=15</th>\n",
       "      <td>0.9471</td>\n",
       "      <td>0.7366</td>\n",
       "      <td>NaN</td>\n",
       "      <td>NaN</td>\n",
       "    </tr>\n",
       "    <tr>\n",
       "      <th>Linear Regression Cross Val, k=15</th>\n",
       "      <td>0.8883</td>\n",
       "      <td>0.7019</td>\n",
       "      <td>9999.0</td>\n",
       "      <td>9999.0</td>\n",
       "    </tr>\n",
       "    <tr>\n",
       "      <th>Decision Tree, k=15</th>\n",
       "      <td>1.2401</td>\n",
       "      <td>0.8984</td>\n",
       "      <td>NaN</td>\n",
       "      <td>NaN</td>\n",
       "    </tr>\n",
       "    <tr>\n",
       "      <th>Random Forest, k=15</th>\n",
       "      <td>0.9316</td>\n",
       "      <td>0.7223</td>\n",
       "      <td>NaN</td>\n",
       "      <td>NaN</td>\n",
       "    </tr>\n",
       "    <tr>\n",
       "      <th>Multi-layer Perceptron, k=15</th>\n",
       "      <td>1.0278</td>\n",
       "      <td>0.8108</td>\n",
       "      <td>NaN</td>\n",
       "      <td>NaN</td>\n",
       "    </tr>\n",
       "    <tr>\n",
       "      <th>SVR k=15</th>\n",
       "      <td>0.8939</td>\n",
       "      <td>0.6782</td>\n",
       "      <td>NaN</td>\n",
       "      <td>NaN</td>\n",
       "    </tr>\n",
       "    <tr>\n",
       "      <th>Random Forest tuned parameters</th>\n",
       "      <td>0.8972</td>\n",
       "      <td>0.7147</td>\n",
       "      <td>NaN</td>\n",
       "      <td>NaN</td>\n",
       "    </tr>\n",
       "    <tr>\n",
       "      <th>SVR tuned parameters</th>\n",
       "      <td>0.8831</td>\n",
       "      <td>0.6739</td>\n",
       "      <td>NaN</td>\n",
       "      <td>NaN</td>\n",
       "    </tr>\n",
       "    <tr>\n",
       "      <th>Multi-layer Perceptron tuned parameters</th>\n",
       "      <td>0.8762</td>\n",
       "      <td>0.6987</td>\n",
       "      <td>NaN</td>\n",
       "      <td>NaN</td>\n",
       "    </tr>\n",
       "  </tbody>\n",
       "</table>\n",
       "</div>"
      ],
      "text/plain": [
       "                                           RMSE     MAE  RMSE Variance  \\\n",
       "KNeighbors Regression Holdout            0.9203  0.6924            NaN   \n",
       "Linear Regression Holdout                0.8404  0.6548            NaN   \n",
       "KNeighbors Regression Cross Val, k=15    0.9471  0.7366            NaN   \n",
       "Linear Regression Cross Val, k=15        0.8883  0.7019         9999.0   \n",
       "Decision Tree, k=15                      1.2401  0.8984            NaN   \n",
       "Random Forest, k=15                      0.9316  0.7223            NaN   \n",
       "Multi-layer Perceptron, k=15             1.0278  0.8108            NaN   \n",
       "SVR k=15                                 0.8939  0.6782            NaN   \n",
       "Random Forest tuned parameters           0.8972  0.7147            NaN   \n",
       "SVR tuned parameters                     0.8831  0.6739            NaN   \n",
       "Multi-layer Perceptron tuned parameters  0.8762  0.6987            NaN   \n",
       "\n",
       "                                         MAE Variance  \n",
       "KNeighbors Regression Holdout                     NaN  \n",
       "Linear Regression Holdout                         NaN  \n",
       "KNeighbors Regression Cross Val, k=15             NaN  \n",
       "Linear Regression Cross Val, k=15              9999.0  \n",
       "Decision Tree, k=15                               NaN  \n",
       "Random Forest, k=15                               NaN  \n",
       "Multi-layer Perceptron, k=15                      NaN  \n",
       "SVR k=15                                          NaN  \n",
       "Random Forest tuned parameters                    NaN  \n",
       "SVR tuned parameters                              NaN  \n",
       "Multi-layer Perceptron tuned parameters           NaN  "
      ]
     },
     "execution_count": 126,
     "metadata": {},
     "output_type": "execute_result"
    }
   ],
   "source": [
    "day_three_results"
   ]
  },
  {
   "cell_type": "markdown",
   "id": "951a380e",
   "metadata": {},
   "source": [
    "What we see here shows that even though a model may appear to perform well according to a given error metric, it's important to understand if your model is overfitting. Ideally, we should see a convergence between the training and validation set lines on the graph, indicating that the performance on each is similar. The linear regression model that initially provided our best RMSE score has a variance that is uselessly high, such that we can put an arbitrary high value in our results; the model ony \"learned\" the training data, with no abiity to generalize to new information. \n",
    "\n",
    "Now we'll get the variances for our best parameters for our nonlinear models. "
   ]
  },
  {
   "cell_type": "markdown",
   "id": "bbc21a6b",
   "metadata": {},
   "source": [
    "<a id=\"Plotting_variances_for_nonlinear_models\"></a>"
   ]
  },
  {
   "cell_type": "markdown",
   "id": "bff84ae5",
   "metadata": {},
   "source": [
    "### 4.4.2 Plotting Variances for Nonlinear Models\n"
   ]
  },
  {
   "cell_type": "code",
   "execution_count": 127,
   "id": "8894b447",
   "metadata": {},
   "outputs": [],
   "source": [
    "def plot_nonlinear_tuned_variances(df, features, model_1_params, model_2_params, model_3_params):\n",
    "    \n",
    "    # separating the df into features and target\n",
    "    X = df[features]\n",
    "    y = df[target]\n",
    "    \n",
    "    # creating an iterable based on the best parameters from gridsearch\n",
    "    models_dict={\n",
    "        'Random Forest': model_1_params,\n",
    "        'SVR': model_2_params,\n",
    "        'Multi-layer Perceptron': model_3_params\n",
    "        }\n",
    "\n",
    "    # creating an iterable for scoring types\n",
    "    score_types = {'neg_root_mean_squared_error': 'RMSE', 'neg_mean_absolute_error': 'MAE'}\n",
    "    \n",
    "    # selecting the sizes of each training set\n",
    "    length = len(df)\n",
    "    train_sizes = [1, int(length*0.05), int(length*0.24), int(length*0.48), int(length*0.64), int(length*0.8)]\n",
    "   \n",
    "    variances = []\n",
    "    \n",
    "    # iterating through our models and score types to identify and plot training and validataion sets' performance \n",
    "    for m in models_dict:\n",
    "        for i in score_types:\n",
    "            # obtaining the scores for training and validation sets\n",
    "            train_sizes, train_scores, validation_scores = learning_curve(\n",
    "                models_dict[m], X, y, train_sizes=train_sizes, scoring=i, cv=15)\n",
    "\n",
    "            print('Scoring for', m, score_types[i] + ':', '\\n')\n",
    "            print('train sizes:', '\\n', train_sizes)\n",
    "            print('-' * 70, '\\n')\n",
    "\n",
    "            train_scores_mean = np.round(abs(train_scores).mean(axis=1), 4)\n",
    "            validation_scores_mean = np.round(abs(validation_scores).mean(axis=1), 4)\n",
    "            variance = np.round(abs(validation_scores_mean - train_scores_mean), 4)\n",
    "\n",
    "            variances.append(variance[-1])\n",
    "\n",
    "            print('Mean training scores:', '\\n', train_scores_mean)\n",
    "            print('-' * 70, '\\n')\n",
    "            print('Mean validation scores:', '\\n', validation_scores_mean)\n",
    "            print('-' * 70, '\\n')\n",
    "            print('Variance:', '\\n', variance)\n",
    "            print('-' * 70, '\\n')\n",
    "\n",
    "            # plotting the graph of fitness\n",
    "            plt.plot(train_sizes, train_scores_mean, label = 'Training error')\n",
    "            plt.plot(train_sizes, validation_scores_mean, label = 'Validation error')\n",
    "            plt.ylabel(score_types[i], fontsize = 14)\n",
    "            plt.xlabel('Training set size', fontsize = 14)\n",
    "            plt.title('Learning Curves for ' + m, fontsize = 18, y = 1.03)\n",
    "            plt.legend()\n",
    "            plt.ylim(0, 1.2)\n",
    "            plt.show()\n",
    "            print('-' * 70)\n",
    "            print('-' * 70)\n",
    "    \n",
    "    # returning a list of sublists containing the two scores for each model\n",
    "    pairwise_variances = [variances[i:i+2] for i in range(0, len(variances), 2)]\n",
    "\n",
    "    return pairwise_variances\n"
   ]
  },
  {
   "cell_type": "code",
   "execution_count": 128,
   "id": "86612272",
   "metadata": {
    "scrolled": true
   },
   "outputs": [
    {
     "name": "stdout",
     "output_type": "stream",
     "text": [
      "Scoring for Random Forest RMSE: \n",
      "\n",
      "train sizes: \n",
      " [   1   85  408  816 1088 1360]\n",
      "---------------------------------------------------------------------- \n",
      "\n",
      "Mean training scores: \n",
      " [0.     0.3935 0.4951 0.5419 0.6525 0.7454]\n",
      "---------------------------------------------------------------------- \n",
      "\n",
      "Mean validation scores: \n",
      " [1.3844 1.0918 0.9841 0.9552 0.9322 0.9045]\n",
      "---------------------------------------------------------------------- \n",
      "\n",
      "Variance: \n",
      " [1.3844 0.6983 0.489  0.4133 0.2797 0.1591]\n",
      "---------------------------------------------------------------------- \n",
      "\n"
     ]
    },
    {
     "data": {
      "image/png": "[encoded data removed]",
      "text/plain": [
       "<Figure size 432x288 with 1 Axes>"
      ]
     },
     "metadata": {
      "needs_background": "light"
     },
     "output_type": "display_data"
    },
    {
     "name": "stdout",
     "output_type": "stream",
     "text": [
      "----------------------------------------------------------------------\n",
      "----------------------------------------------------------------------\n",
      "Scoring for Random Forest MAE: \n",
      "\n",
      "train sizes: \n",
      " [   1   85  408  816 1088 1360]\n",
      "---------------------------------------------------------------------- \n",
      "\n",
      "Mean training scores: \n",
      " [0.     0.2881 0.3635 0.4071 0.5138 0.5901]\n",
      "---------------------------------------------------------------------- \n",
      "\n",
      "Mean validation scores: \n",
      " [1.0819 0.8514 0.7654 0.7436 0.7416 0.7195]\n",
      "---------------------------------------------------------------------- \n",
      "\n",
      "Variance: \n",
      " [1.0819 0.5633 0.4019 0.3365 0.2278 0.1294]\n",
      "---------------------------------------------------------------------- \n",
      "\n"
     ]
    },
    {
     "data": {
      "image/png": "[encoded data removed]",
      "text/plain": [
       "<Figure size 432x288 with 1 Axes>"
      ]
     },
     "metadata": {
      "needs_background": "light"
     },
     "output_type": "display_data"
    },
    {
     "name": "stdout",
     "output_type": "stream",
     "text": [
      "----------------------------------------------------------------------\n",
      "----------------------------------------------------------------------\n",
      "Scoring for SVR RMSE: \n",
      "\n",
      "train sizes: \n",
      " [   1   85  408  816 1088 1360]\n",
      "---------------------------------------------------------------------- \n",
      "\n",
      "Mean training scores: \n",
      " [0.     0.4526 0.575  0.6123 0.7249 0.8031]\n",
      "---------------------------------------------------------------------- \n",
      "\n",
      "Mean validation scores: \n",
      " [1.3844 1.0612 1.0492 1.0385 0.9867 0.91  ]\n",
      "---------------------------------------------------------------------- \n",
      "\n",
      "Variance: \n",
      " [1.3844 0.6086 0.4742 0.4262 0.2618 0.1069]\n",
      "---------------------------------------------------------------------- \n",
      "\n"
     ]
    },
    {
     "data": {
      "image/png": "[encoded data removed]",
      "text/plain": [
       "<Figure size 432x288 with 1 Axes>"
      ]
     },
     "metadata": {
      "needs_background": "light"
     },
     "output_type": "display_data"
    },
    {
     "name": "stdout",
     "output_type": "stream",
     "text": [
      "----------------------------------------------------------------------\n",
      "----------------------------------------------------------------------\n",
      "Scoring for SVR MAE: \n",
      "\n",
      "train sizes: \n",
      " [   1   85  408  816 1088 1360]\n",
      "---------------------------------------------------------------------- \n",
      "\n",
      "Mean training scores: \n",
      " [0.     0.2961 0.3353 0.3681 0.4683 0.5652]\n",
      "---------------------------------------------------------------------- \n",
      "\n",
      "Mean validation scores: \n",
      " [1.0819 0.8214 0.7936 0.7811 0.7535 0.7016]\n",
      "---------------------------------------------------------------------- \n",
      "\n",
      "Variance: \n",
      " [1.0819 0.5253 0.4583 0.413  0.2852 0.1364]\n",
      "---------------------------------------------------------------------- \n",
      "\n"
     ]
    },
    {
     "data": {
      "image/png": "[encoded data removed]",
      "text/plain": [
       "<Figure size 432x288 with 1 Axes>"
      ]
     },
     "metadata": {
      "needs_background": "light"
     },
     "output_type": "display_data"
    },
    {
     "name": "stdout",
     "output_type": "stream",
     "text": [
      "----------------------------------------------------------------------\n",
      "----------------------------------------------------------------------\n",
      "Scoring for Multi-layer Perceptron RMSE: \n",
      "\n",
      "train sizes: \n",
      " [   1   85  408  816 1088 1360]\n",
      "---------------------------------------------------------------------- \n",
      "\n",
      "Mean training scores: \n",
      " [0.0778 0.6465 0.5569 0.5923 0.6902 0.7883]\n",
      "---------------------------------------------------------------------- \n",
      "\n",
      "Mean validation scores: \n",
      " [1.323  1.018  0.9823 0.9612 0.9055 0.8826]\n",
      "---------------------------------------------------------------------- \n",
      "\n",
      "Variance: \n",
      " [1.2452 0.3715 0.4254 0.3689 0.2153 0.0943]\n",
      "---------------------------------------------------------------------- \n",
      "\n"
     ]
    },
    {
     "data": {
      "image/png": "[encoded data removed]",
      "text/plain": [
       "<Figure size 432x288 with 1 Axes>"
      ]
     },
     "metadata": {
      "needs_background": "light"
     },
     "output_type": "display_data"
    },
    {
     "name": "stdout",
     "output_type": "stream",
     "text": [
      "----------------------------------------------------------------------\n",
      "----------------------------------------------------------------------\n",
      "Scoring for Multi-layer Perceptron MAE: \n",
      "\n",
      "train sizes: \n",
      " [   1   85  408  816 1088 1360]\n",
      "---------------------------------------------------------------------- \n",
      "\n",
      "Mean training scores: \n",
      " [0.0778 0.5833 0.4111 0.4408 0.5342 0.6193]\n",
      "---------------------------------------------------------------------- \n",
      "\n",
      "Mean validation scores: \n",
      " [1.054  0.8393 0.7673 0.7516 0.7161 0.7038]\n",
      "---------------------------------------------------------------------- \n",
      "\n",
      "Variance: \n",
      " [0.9762 0.256  0.3562 0.3108 0.1819 0.0845]\n",
      "---------------------------------------------------------------------- \n",
      "\n"
     ]
    },
    {
     "data": {
      "image/png": "[encoded data removed]",
      "text/plain": [
       "<Figure size 432x288 with 1 Axes>"
      ]
     },
     "metadata": {
      "needs_background": "light"
     },
     "output_type": "display_data"
    },
    {
     "name": "stdout",
     "output_type": "stream",
     "text": [
      "----------------------------------------------------------------------\n",
      "----------------------------------------------------------------------\n"
     ]
    }
   ],
   "source": [
    "d3_tuned_variances = plot_nonlinear_tuned_variances(day_three_df, d3_features, d3_rf_best_params, d3_svr_best_params, d3_mlp_best_params)"
   ]
  },
  {
   "cell_type": "code",
   "execution_count": 129,
   "id": "9fcf809c",
   "metadata": {},
   "outputs": [
    {
     "data": {
      "text/plain": [
       "[[0.1591, 0.1294], [0.1069, 0.1364], [0.0943, 0.0845]]"
      ]
     },
     "execution_count": 129,
     "metadata": {},
     "output_type": "execute_result"
    }
   ],
   "source": [
    "d3_tuned_variances"
   ]
  },
  {
   "cell_type": "code",
   "execution_count": 130,
   "id": "526287aa",
   "metadata": {
    "scrolled": true
   },
   "outputs": [
    {
     "name": "stdout",
     "output_type": "stream",
     "text": [
      "Scoring for Random Forest RMSE: \n",
      "\n",
      "train sizes: \n",
      " [   1   85  408  816 1088 1360]\n",
      "---------------------------------------------------------------------- \n",
      "\n",
      "Mean training scores: \n",
      " [0.     0.3935 0.4951 0.5419 0.6525 0.7454]\n",
      "---------------------------------------------------------------------- \n",
      "\n",
      "Mean validation scores: \n",
      " [1.3844 1.0918 0.9841 0.9552 0.9322 0.9045]\n",
      "---------------------------------------------------------------------- \n",
      "\n",
      "Variance: \n",
      " [1.3844 0.6983 0.489  0.4133 0.2797 0.1591]\n",
      "---------------------------------------------------------------------- \n",
      "\n"
     ]
    },
    {
     "data": {
      "image/png": "[encoded data removed]",
      "text/plain": [
       "<Figure size 432x288 with 1 Axes>"
      ]
     },
     "metadata": {
      "needs_background": "light"
     },
     "output_type": "display_data"
    },
    {
     "name": "stdout",
     "output_type": "stream",
     "text": [
      "----------------------------------------------------------------------\n",
      "----------------------------------------------------------------------\n",
      "Scoring for Random Forest MAE: \n",
      "\n",
      "train sizes: \n",
      " [   1   85  408  816 1088 1360]\n",
      "---------------------------------------------------------------------- \n",
      "\n",
      "Mean training scores: \n",
      " [0.     0.2881 0.3635 0.4071 0.5138 0.5901]\n",
      "---------------------------------------------------------------------- \n",
      "\n",
      "Mean validation scores: \n",
      " [1.0819 0.8514 0.7654 0.7436 0.7416 0.7195]\n",
      "---------------------------------------------------------------------- \n",
      "\n",
      "Variance: \n",
      " [1.0819 0.5633 0.4019 0.3365 0.2278 0.1294]\n",
      "---------------------------------------------------------------------- \n",
      "\n"
     ]
    },
    {
     "data": {
      "image/png": "[encoded data removed]",
      "text/plain": [
       "<Figure size 432x288 with 1 Axes>"
      ]
     },
     "metadata": {
      "needs_background": "light"
     },
     "output_type": "display_data"
    },
    {
     "name": "stdout",
     "output_type": "stream",
     "text": [
      "----------------------------------------------------------------------\n",
      "----------------------------------------------------------------------\n",
      "Scoring for SVR RMSE: \n",
      "\n",
      "train sizes: \n",
      " [   1   85  408  816 1088 1360]\n",
      "---------------------------------------------------------------------- \n",
      "\n",
      "Mean training scores: \n",
      " [0.     0.4526 0.575  0.6123 0.7249 0.8031]\n",
      "---------------------------------------------------------------------- \n",
      "\n",
      "Mean validation scores: \n",
      " [1.3844 1.0612 1.0492 1.0385 0.9867 0.91  ]\n",
      "---------------------------------------------------------------------- \n",
      "\n",
      "Variance: \n",
      " [1.3844 0.6086 0.4742 0.4262 0.2618 0.1069]\n",
      "---------------------------------------------------------------------- \n",
      "\n"
     ]
    },
    {
     "data": {
      "image/png": "[encoded data removed]",
      "text/plain": [
       "<Figure size 432x288 with 1 Axes>"
      ]
     },
     "metadata": {
      "needs_background": "light"
     },
     "output_type": "display_data"
    },
    {
     "name": "stdout",
     "output_type": "stream",
     "text": [
      "----------------------------------------------------------------------\n",
      "----------------------------------------------------------------------\n",
      "Scoring for SVR MAE: \n",
      "\n",
      "train sizes: \n",
      " [   1   85  408  816 1088 1360]\n",
      "---------------------------------------------------------------------- \n",
      "\n",
      "Mean training scores: \n",
      " [0.     0.2961 0.3353 0.3681 0.4683 0.5652]\n",
      "---------------------------------------------------------------------- \n",
      "\n",
      "Mean validation scores: \n",
      " [1.0819 0.8214 0.7936 0.7811 0.7535 0.7016]\n",
      "---------------------------------------------------------------------- \n",
      "\n",
      "Variance: \n",
      " [1.0819 0.5253 0.4583 0.413  0.2852 0.1364]\n",
      "---------------------------------------------------------------------- \n",
      "\n"
     ]
    },
    {
     "data": {
      "image/png": "[encoded data removed]",
      "text/plain": [
       "<Figure size 432x288 with 1 Axes>"
      ]
     },
     "metadata": {
      "needs_background": "light"
     },
     "output_type": "display_data"
    },
    {
     "name": "stdout",
     "output_type": "stream",
     "text": [
      "----------------------------------------------------------------------\n",
      "----------------------------------------------------------------------\n",
      "Scoring for Multi-layer Perceptron RMSE: \n",
      "\n",
      "train sizes: \n",
      " [   1   85  408  816 1088 1360]\n",
      "---------------------------------------------------------------------- \n",
      "\n",
      "Mean training scores: \n",
      " [0.0112 0.6467 0.5329 0.5805 0.6884 0.7846]\n",
      "---------------------------------------------------------------------- \n",
      "\n",
      "Mean validation scores: \n",
      " [1.3821 1.0253 0.9423 0.9319 0.9097 0.883 ]\n",
      "---------------------------------------------------------------------- \n",
      "\n",
      "Variance: \n",
      " [1.3709 0.3786 0.4094 0.3514 0.2213 0.0984]\n",
      "---------------------------------------------------------------------- \n",
      "\n"
     ]
    },
    {
     "data": {
      "image/png": "[encoded data removed]",
      "text/plain": [
       "<Figure size 432x288 with 1 Axes>"
      ]
     },
     "metadata": {
      "needs_background": "light"
     },
     "output_type": "display_data"
    },
    {
     "name": "stdout",
     "output_type": "stream",
     "text": [
      "----------------------------------------------------------------------\n",
      "----------------------------------------------------------------------\n",
      "Scoring for Multi-layer Perceptron MAE: \n",
      "\n",
      "train sizes: \n",
      " [   1   85  408  816 1088 1360]\n",
      "---------------------------------------------------------------------- \n",
      "\n",
      "Mean training scores: \n",
      " [0.0112 0.5792 0.3915 0.4224 0.5313 0.6122]\n",
      "---------------------------------------------------------------------- \n",
      "\n",
      "Mean validation scores: \n",
      " [1.0815 0.845  0.7269 0.717  0.7188 0.7004]\n",
      "---------------------------------------------------------------------- \n",
      "\n",
      "Variance: \n",
      " [1.0703 0.2658 0.3354 0.2946 0.1875 0.0882]\n",
      "---------------------------------------------------------------------- \n",
      "\n"
     ]
    },
    {
     "data": {
      "image/png": "[encoded data removed]",
      "text/plain": [
       "<Figure size 432x288 with 1 Axes>"
      ]
     },
     "metadata": {
      "needs_background": "light"
     },
     "output_type": "display_data"
    },
    {
     "name": "stdout",
     "output_type": "stream",
     "text": [
      "----------------------------------------------------------------------\n",
      "----------------------------------------------------------------------\n"
     ]
    }
   ],
   "source": [
    "admission_tuned_variances = plot_nonlinear_tuned_variances(day_three_df, d3_features, admission_rf_best_params, admission_svr_best_params, admission_mlp_best_params)"
   ]
  },
  {
   "cell_type": "code",
   "execution_count": 131,
   "id": "33fb137f",
   "metadata": {},
   "outputs": [
    {
     "data": {
      "text/plain": [
       "[[0.1591, 0.1294], [0.1069, 0.1364], [0.0984, 0.0882]]"
      ]
     },
     "execution_count": 131,
     "metadata": {},
     "output_type": "execute_result"
    }
   ],
   "source": [
    "admission_tuned_variances"
   ]
  },
  {
   "cell_type": "code",
   "execution_count": 132,
   "id": "eec79b9d",
   "metadata": {},
   "outputs": [],
   "source": [
    "day_three_results.loc['Random Forest tuned parameters']['RMSE Variance'] = d3_tuned_variances[0][0]\n",
    "day_three_results.loc['Random Forest tuned parameters']['MAE Variance'] = d3_tuned_variances[0][1]\n",
    "day_three_results.loc['SVR tuned parameters']['RMSE Variance'] = d3_tuned_variances[1][0]\n",
    "day_three_results.loc['SVR tuned parameters']['MAE Variance'] = d3_tuned_variances[1][1]\n",
    "day_three_results.loc['Multi-layer Perceptron tuned parameters']['RMSE Variance'] = d3_tuned_variances[2][0]\n",
    "day_three_results.loc['Multi-layer Perceptron tuned parameters']['MAE Variance'] = d3_tuned_variances[2][1]"
   ]
  },
  {
   "cell_type": "code",
   "execution_count": 133,
   "id": "eaa4631c",
   "metadata": {},
   "outputs": [],
   "source": [
    "admission_results.loc['Random Forest tuned parameters']['RMSE Variance'] = admission_tuned_variances[0][0]\n",
    "admission_results.loc['Random Forest tuned parameters']['MAE Variance'] = admission_tuned_variances[0][1]\n",
    "admission_results.loc['SVR tuned parameters']['RMSE Variance'] = admission_tuned_variances[1][0]\n",
    "admission_results.loc['SVR tuned parameters']['MAE Variance'] = admission_tuned_variances[1][1]\n",
    "admission_results.loc['Multi-layer Perceptron tuned parameters']['RMSE Variance'] = admission_tuned_variances[2][0]\n",
    "admission_results.loc['Multi-layer Perceptron tuned parameters']['MAE Variance'] = admission_tuned_variances[2][1]"
   ]
  },
  {
   "cell_type": "code",
   "execution_count": 134,
   "id": "dc93be19",
   "metadata": {
    "scrolled": true
   },
   "outputs": [
    {
     "data": {
      "text/html": [
       "<div>\n",
       "<style scoped>\n",
       "    .dataframe tbody tr th:only-of-type {\n",
       "        vertical-align: middle;\n",
       "    }\n",
       "\n",
       "    .dataframe tbody tr th {\n",
       "        vertical-align: top;\n",
       "    }\n",
       "\n",
       "    .dataframe thead th {\n",
       "        text-align: right;\n",
       "    }\n",
       "</style>\n",
       "<table border=\"1\" class=\"dataframe\">\n",
       "  <thead>\n",
       "    <tr style=\"text-align: right;\">\n",
       "      <th></th>\n",
       "      <th>RMSE</th>\n",
       "      <th>MAE</th>\n",
       "      <th>RMSE Variance</th>\n",
       "      <th>MAE Variance</th>\n",
       "    </tr>\n",
       "  </thead>\n",
       "  <tbody>\n",
       "    <tr>\n",
       "      <th>KNeighbors Regression Holdout</th>\n",
       "      <td>0.9203</td>\n",
       "      <td>0.6924</td>\n",
       "      <td>NaN</td>\n",
       "      <td>NaN</td>\n",
       "    </tr>\n",
       "    <tr>\n",
       "      <th>Linear Regression Holdout</th>\n",
       "      <td>0.8404</td>\n",
       "      <td>0.6548</td>\n",
       "      <td>NaN</td>\n",
       "      <td>NaN</td>\n",
       "    </tr>\n",
       "    <tr>\n",
       "      <th>KNeighbors Regression Cross Val, k=15</th>\n",
       "      <td>0.9471</td>\n",
       "      <td>0.7366</td>\n",
       "      <td>NaN</td>\n",
       "      <td>NaN</td>\n",
       "    </tr>\n",
       "    <tr>\n",
       "      <th>Linear Regression Cross Val, k=15</th>\n",
       "      <td>0.8883</td>\n",
       "      <td>0.7019</td>\n",
       "      <td>9999.0000</td>\n",
       "      <td>9999.0000</td>\n",
       "    </tr>\n",
       "    <tr>\n",
       "      <th>Decision Tree, k=15</th>\n",
       "      <td>1.2401</td>\n",
       "      <td>0.8984</td>\n",
       "      <td>NaN</td>\n",
       "      <td>NaN</td>\n",
       "    </tr>\n",
       "    <tr>\n",
       "      <th>Random Forest, k=15</th>\n",
       "      <td>0.9316</td>\n",
       "      <td>0.7223</td>\n",
       "      <td>NaN</td>\n",
       "      <td>NaN</td>\n",
       "    </tr>\n",
       "    <tr>\n",
       "      <th>Multi-layer Perceptron, k=15</th>\n",
       "      <td>1.0278</td>\n",
       "      <td>0.8108</td>\n",
       "      <td>NaN</td>\n",
       "      <td>NaN</td>\n",
       "    </tr>\n",
       "    <tr>\n",
       "      <th>SVR k=15</th>\n",
       "      <td>0.8939</td>\n",
       "      <td>0.6782</td>\n",
       "      <td>NaN</td>\n",
       "      <td>NaN</td>\n",
       "    </tr>\n",
       "    <tr>\n",
       "      <th>Random Forest tuned parameters</th>\n",
       "      <td>0.8972</td>\n",
       "      <td>0.7147</td>\n",
       "      <td>0.1591</td>\n",
       "      <td>0.1294</td>\n",
       "    </tr>\n",
       "    <tr>\n",
       "      <th>SVR tuned parameters</th>\n",
       "      <td>0.8831</td>\n",
       "      <td>0.6739</td>\n",
       "      <td>0.1069</td>\n",
       "      <td>0.1364</td>\n",
       "    </tr>\n",
       "    <tr>\n",
       "      <th>Multi-layer Perceptron tuned parameters</th>\n",
       "      <td>0.8762</td>\n",
       "      <td>0.6987</td>\n",
       "      <td>0.0943</td>\n",
       "      <td>0.0845</td>\n",
       "    </tr>\n",
       "  </tbody>\n",
       "</table>\n",
       "</div>"
      ],
      "text/plain": [
       "                                           RMSE     MAE  RMSE Variance  \\\n",
       "KNeighbors Regression Holdout            0.9203  0.6924            NaN   \n",
       "Linear Regression Holdout                0.8404  0.6548            NaN   \n",
       "KNeighbors Regression Cross Val, k=15    0.9471  0.7366            NaN   \n",
       "Linear Regression Cross Val, k=15        0.8883  0.7019      9999.0000   \n",
       "Decision Tree, k=15                      1.2401  0.8984            NaN   \n",
       "Random Forest, k=15                      0.9316  0.7223            NaN   \n",
       "Multi-layer Perceptron, k=15             1.0278  0.8108            NaN   \n",
       "SVR k=15                                 0.8939  0.6782            NaN   \n",
       "Random Forest tuned parameters           0.8972  0.7147         0.1591   \n",
       "SVR tuned parameters                     0.8831  0.6739         0.1069   \n",
       "Multi-layer Perceptron tuned parameters  0.8762  0.6987         0.0943   \n",
       "\n",
       "                                         MAE Variance  \n",
       "KNeighbors Regression Holdout                     NaN  \n",
       "Linear Regression Holdout                         NaN  \n",
       "KNeighbors Regression Cross Val, k=15             NaN  \n",
       "Linear Regression Cross Val, k=15           9999.0000  \n",
       "Decision Tree, k=15                               NaN  \n",
       "Random Forest, k=15                               NaN  \n",
       "Multi-layer Perceptron, k=15                      NaN  \n",
       "SVR k=15                                          NaN  \n",
       "Random Forest tuned parameters                 0.1294  \n",
       "SVR tuned parameters                           0.1364  \n",
       "Multi-layer Perceptron tuned parameters        0.0845  "
      ]
     },
     "execution_count": 134,
     "metadata": {},
     "output_type": "execute_result"
    }
   ],
   "source": [
    "day_three_results"
   ]
  },
  {
   "cell_type": "code",
   "execution_count": 135,
   "id": "d3bf18f2",
   "metadata": {},
   "outputs": [
    {
     "data": {
      "text/html": [
       "<div>\n",
       "<style scoped>\n",
       "    .dataframe tbody tr th:only-of-type {\n",
       "        vertical-align: middle;\n",
       "    }\n",
       "\n",
       "    .dataframe tbody tr th {\n",
       "        vertical-align: top;\n",
       "    }\n",
       "\n",
       "    .dataframe thead th {\n",
       "        text-align: right;\n",
       "    }\n",
       "</style>\n",
       "<table border=\"1\" class=\"dataframe\">\n",
       "  <thead>\n",
       "    <tr style=\"text-align: right;\">\n",
       "      <th></th>\n",
       "      <th>RMSE</th>\n",
       "      <th>MAE</th>\n",
       "      <th>RMSE Variance</th>\n",
       "      <th>MAE Variance</th>\n",
       "    </tr>\n",
       "  </thead>\n",
       "  <tbody>\n",
       "    <tr>\n",
       "      <th>KNeighbors Regression Holdout</th>\n",
       "      <td>0.9279</td>\n",
       "      <td>0.7076</td>\n",
       "      <td>NaN</td>\n",
       "      <td>NaN</td>\n",
       "    </tr>\n",
       "    <tr>\n",
       "      <th>Linear Regression Holdout</th>\n",
       "      <td>0.8473</td>\n",
       "      <td>0.6609</td>\n",
       "      <td>NaN</td>\n",
       "      <td>NaN</td>\n",
       "    </tr>\n",
       "    <tr>\n",
       "      <th>KNeighbors Regression Cross Val, k=15</th>\n",
       "      <td>0.9873</td>\n",
       "      <td>0.7742</td>\n",
       "      <td>NaN</td>\n",
       "      <td>NaN</td>\n",
       "    </tr>\n",
       "    <tr>\n",
       "      <th>Linear Regression Cross Val, k=15</th>\n",
       "      <td>0.9064</td>\n",
       "      <td>0.7163</td>\n",
       "      <td>NaN</td>\n",
       "      <td>NaN</td>\n",
       "    </tr>\n",
       "    <tr>\n",
       "      <th>Decision Tree, k=15</th>\n",
       "      <td>1.2128</td>\n",
       "      <td>0.8831</td>\n",
       "      <td>NaN</td>\n",
       "      <td>NaN</td>\n",
       "    </tr>\n",
       "    <tr>\n",
       "      <th>Random Forest, k=15</th>\n",
       "      <td>0.9778</td>\n",
       "      <td>0.7695</td>\n",
       "      <td>NaN</td>\n",
       "      <td>NaN</td>\n",
       "    </tr>\n",
       "    <tr>\n",
       "      <th>Multi-layer Perceptron, k=15</th>\n",
       "      <td>0.9801</td>\n",
       "      <td>0.7686</td>\n",
       "      <td>NaN</td>\n",
       "      <td>NaN</td>\n",
       "    </tr>\n",
       "    <tr>\n",
       "      <th>SVR k=15</th>\n",
       "      <td>0.9165</td>\n",
       "      <td>0.6973</td>\n",
       "      <td>NaN</td>\n",
       "      <td>NaN</td>\n",
       "    </tr>\n",
       "    <tr>\n",
       "      <th>Random Forest tuned parameters</th>\n",
       "      <td>0.9158</td>\n",
       "      <td>0.7302</td>\n",
       "      <td>0.1591</td>\n",
       "      <td>0.1294</td>\n",
       "    </tr>\n",
       "    <tr>\n",
       "      <th>SVR tuned parameters</th>\n",
       "      <td>0.9092</td>\n",
       "      <td>0.6973</td>\n",
       "      <td>0.1069</td>\n",
       "      <td>0.1364</td>\n",
       "    </tr>\n",
       "    <tr>\n",
       "      <th>Multi-layer Perceptron tuned parameters</th>\n",
       "      <td>0.8963</td>\n",
       "      <td>0.7171</td>\n",
       "      <td>0.0984</td>\n",
       "      <td>0.0882</td>\n",
       "    </tr>\n",
       "  </tbody>\n",
       "</table>\n",
       "</div>"
      ],
      "text/plain": [
       "                                           RMSE     MAE  RMSE Variance  \\\n",
       "KNeighbors Regression Holdout            0.9279  0.7076            NaN   \n",
       "Linear Regression Holdout                0.8473  0.6609            NaN   \n",
       "KNeighbors Regression Cross Val, k=15    0.9873  0.7742            NaN   \n",
       "Linear Regression Cross Val, k=15        0.9064  0.7163            NaN   \n",
       "Decision Tree, k=15                      1.2128  0.8831            NaN   \n",
       "Random Forest, k=15                      0.9778  0.7695            NaN   \n",
       "Multi-layer Perceptron, k=15             0.9801  0.7686            NaN   \n",
       "SVR k=15                                 0.9165  0.6973            NaN   \n",
       "Random Forest tuned parameters           0.9158  0.7302         0.1591   \n",
       "SVR tuned parameters                     0.9092  0.6973         0.1069   \n",
       "Multi-layer Perceptron tuned parameters  0.8963  0.7171         0.0984   \n",
       "\n",
       "                                         MAE Variance  \n",
       "KNeighbors Regression Holdout                     NaN  \n",
       "Linear Regression Holdout                         NaN  \n",
       "KNeighbors Regression Cross Val, k=15             NaN  \n",
       "Linear Regression Cross Val, k=15                 NaN  \n",
       "Decision Tree, k=15                               NaN  \n",
       "Random Forest, k=15                               NaN  \n",
       "Multi-layer Perceptron, k=15                      NaN  \n",
       "SVR k=15                                          NaN  \n",
       "Random Forest tuned parameters                 0.1294  \n",
       "SVR tuned parameters                           0.1364  \n",
       "Multi-layer Perceptron tuned parameters        0.0882  "
      ]
     },
     "execution_count": 135,
     "metadata": {},
     "output_type": "execute_result"
    }
   ],
   "source": [
    "admission_results"
   ]
  },
  {
   "cell_type": "markdown",
   "id": "4599802a",
   "metadata": {},
   "source": [
    "Looks like the neural network is our winner here! Using this model, we get the best combination of accurate predictions (determined by low RMSE and MAE) and translatability (determined by the low variance). \n",
    "\n",
    "Our current neural network model can predict, on average, within 0.88 complications according to RMSE, and we have confidence it can reliably meet this 0.88 mark because of its increasingly small 0.1 complication variance. \n",
    "\n",
    "Note that random forest, SVR, and MLP all give similar results, and given the lack of complete convergence between training and validation set errors, all seem to be able to benefit from increased sample sizes. This knowledge gives us the flexibility to use different models in the future, should we run into any computational limitations, without sacrificing too much predictive ability. \n",
    "\n",
    "One other note regarding variance: the variance shown in the results tables is actually only operating on 80% of the dataset, so there is a slight discrepancy between the relationship of the variance and the metrics shown. If we were to match the variance to the shown RMSE and MAE values, we'd actually see an improvement in the variance due to an incrased percentage of samples being used. \n"
   ]
  },
  {
   "cell_type": "markdown",
   "id": "de1ce754",
   "metadata": {},
   "source": [
    "The fruits of our labor can be found in a simple function that runs a neural network model. When we call it, we will pass in our dataset, features, parameters, and number of folds as arguments. "
   ]
  },
  {
   "cell_type": "code",
   "execution_count": 136,
   "id": "593663dd",
   "metadata": {},
   "outputs": [],
   "source": [
    "def run_neural_model(df, features, params, k):\n",
    "    \n",
    "    X = df[features]\n",
    "    y = df[target]\n",
    "    \n",
    "    mlp = params\n",
    "    \n",
    "    scores = cross_val_score(mlp, X, y, scoring='neg_root_mean_squared_error', cv=k)\n",
    "    avg_score = np.round(abs(scores.mean()), 4)\n",
    "\n",
    "    print('RMSE for neural network: {:.4f} complications'.format(avg_score))\n",
    "\n",
    "    return avg_score\n",
    "    \n",
    "    \n",
    "    "
   ]
  },
  {
   "cell_type": "code",
   "execution_count": 137,
   "id": "4b2679fd",
   "metadata": {},
   "outputs": [
    {
     "name": "stdout",
     "output_type": "stream",
     "text": [
      "RMSE for neural network: 0.8762 complications\n"
     ]
    },
    {
     "data": {
      "text/plain": [
       "0.8762"
      ]
     },
     "execution_count": 137,
     "metadata": {},
     "output_type": "execute_result"
    }
   ],
   "source": [
    "run_neural_model(day_three_df, d3_features, d3_mlp_best_params, 15)"
   ]
  },
  {
   "cell_type": "markdown",
   "id": "24850d22",
   "metadata": {},
   "source": [
    "<a id=\"Conclusion\"></a>"
   ]
  },
  {
   "cell_type": "markdown",
   "id": "395f9d3c",
   "metadata": {},
   "source": [
    "# Conclusion\n",
    "\n",
    "Our original goal was to predict what will happen to someone who has been hospitalized from a heart attack. Through the processes of data cleaning, feature preparation, and modelling, we can now predict the answer to that question with a useful degree of accuracy, framed in terms of how many complications that patient may experience.\n",
    "\n",
    "It appears that the admission-only data performs almost just as well as the third day data. Using the neural network, on both datasets we can predict a patient's outcome with an accuracy of better than 1 complication (RMSE of about 0.90 complications for the admissions data, and RMSE of about 0.88 complications for the third day data).\n",
    "\n",
    "This means that we have almost the same ability to predict the patient's number of future complications at the time they arrive at the hospital as we do after they've been for three days. This should allow the use of earlier, more personalized treatment for any given new patient that arrives at the hospital. "
   ]
  },
  {
   "cell_type": "markdown",
   "id": "9f749e37",
   "metadata": {},
   "source": [
    "If we wanted to improve this model further we could look further into any of the following: \n",
    "   - feature engineering\n",
    "   - feature selection\n",
    "   - increasing the complexity of the model to decrease the bias while still preserving the variance as much as possible\n",
    "   - adding more patient data"
   ]
  },
  {
   "cell_type": "markdown",
   "id": "8ff6b92f",
   "metadata": {},
   "source": [
    "Adding recent additional data of patients from other parts of the world would help the model's ability to generalize to any given new patient, as well as continue to improve the accuracy of the predictions. \n",
    "\n",
    "It would also be helpful to communciate with some of the medical staff involved in carrying out treatment for these patient, in order to leverage their specific knowledge in terms of helping to guide the feature preparation process."
   ]
  },
  {
   "cell_type": "markdown",
   "id": "a693d1db",
   "metadata": {},
   "source": [
    "Lastly, thank you for reading this! It's my sincere hope that this type of work can help people. That hope can only truly be met through collaboration to make any meaningful work more refined, scalable, and deployable. "
   ]
  },
  {
   "cell_type": "code",
   "execution_count": null,
   "id": "6e909bca",
   "metadata": {},
   "outputs": [],
   "source": []
  },
  {
   "cell_type": "code",
   "execution_count": null,
   "id": "5d7674c4",
   "metadata": {},
   "outputs": [],
   "source": []
  },
  {
   "cell_type": "code",
   "execution_count": null,
   "id": "05e14f8a",
   "metadata": {},
   "outputs": [],
   "source": []
  },
  {
   "cell_type": "markdown",
   "id": "9ca89756",
   "metadata": {},
   "source": [
    "Final steps:\n",
    "\n",
    "1. fix the gridsearch function description\n",
    "2. setting with copy warning\n"
   ]
  },
  {
   "cell_type": "code",
   "execution_count": null,
   "id": "35fdb0b8",
   "metadata": {},
   "outputs": [],
   "source": []
  },
  {
   "cell_type": "code",
   "execution_count": null,
   "id": "d4b9c3a4",
   "metadata": {},
   "outputs": [],
   "source": []
  },
  {
   "cell_type": "code",
   "execution_count": null,
   "id": "4313f2fd",
   "metadata": {},
   "outputs": [],
   "source": []
  },
  {
   "cell_type": "code",
   "execution_count": null,
   "id": "b60ea2f8",
   "metadata": {},
   "outputs": [],
   "source": []
  },
  {
   "cell_type": "code",
   "execution_count": null,
   "id": "b60ecb72",
   "metadata": {},
   "outputs": [],
   "source": []
  },
  {
   "cell_type": "code",
   "execution_count": null,
   "id": "5fce9c72",
   "metadata": {},
   "outputs": [],
   "source": []
  },
  {
   "cell_type": "code",
   "execution_count": null,
   "id": "4b8b6a1d",
   "metadata": {},
   "outputs": [],
   "source": []
  },
  {
   "cell_type": "code",
   "execution_count": null,
   "id": "ccfab646",
   "metadata": {},
   "outputs": [],
   "source": []
  },
  {
   "cell_type": "code",
   "execution_count": null,
   "id": "40a11c8d",
   "metadata": {},
   "outputs": [],
   "source": []
  },
  {
   "cell_type": "code",
   "execution_count": null,
   "id": "a7155fe8",
   "metadata": {},
   "outputs": [],
   "source": []
  },
  {
   "cell_type": "code",
   "execution_count": null,
   "id": "e0698aab",
   "metadata": {},
   "outputs": [],
   "source": []
  },
  {
   "cell_type": "markdown",
   "id": "ffe9e839",
   "metadata": {},
   "source": [
    "Here's a generally good idea for a workflow from the start:\n",
    "\n",
    "1. rename the columns to get a good idea of the dataset and its data types and identify target\n",
    "2. if categorical data exists, separate it out from the real\n",
    "3. address missing values in some meaningful way (simple or iterative imputation)\n",
    "4. if categorical, create dummy columns\n",
    "5. if real, if there are many unique values, bin them\n",
    "6. perform feature selection/engineering\n",
    "7. modelling selection/tuning\n"
   ]
  }
 ],
 "metadata": {
  "kernelspec": {
   "display_name": "Python 3",
   "language": "python",
   "name": "python3"
  },
  "language_info": {
   "codemirror_mode": {
    "name": "ipython",
    "version": 3
   },
   "file_extension": ".py",
   "mimetype": "text/x-python",
   "name": "python",
   "nbconvert_exporter": "python",
   "pygments_lexer": "ipython3",
   "version": "3.9.2"
  }
 },
 "nbformat": 4,
 "nbformat_minor": 5
}
